{
 "cells": [
  {
   "cell_type": "code",
   "execution_count": 18,
   "metadata": {},
   "outputs": [],
   "source": [
    "import os\n",
    "import random\n",
    "from numpy.random import rand\n",
    "import numpy as np\n",
    "import matplotlib.pyplot as plt\n",
    "import seaborn as sns\n",
    "import tensorflow as tf\n",
    "from tensorflow import keras\n",
    "from tensorflow.keras.models import Sequential, Model\n",
    "from tensorflow.keras.layers import Dense, Conv2D, Flatten\n",
    "import time\n",
    "%matplotlib inline\n",
    "plt.rcParams['figure.figsize'] = [8, 6]\n",
    "plt.rcParams['figure.titlesize'] = 24\n",
    "plt.rcParams['axes.labelsize'] = 18\n",
    "plt.rcParams['axes.titlesize'] = 20\n",
    "plt.rcParams['xtick.labelsize'] = 16\n",
    "plt.rcParams['ytick.labelsize'] = 16\n",
    "plt.rcParams['legend.fontsize'] = 16\n",
    "\n",
    "def set_random_seeds(seed=42):\n",
    "    os.environ['PYTHONHASHSEED'] = str(seed)\n",
    "    random.seed(seed)\n",
    "    np.random.seed(seed)\n",
    "#     tf.random.set_seed(seed)\n",
    "    tf.random.set_random_seed(1)\n",
    "\n",
    "\n",
    "def hamiltonian_generator(N=32, c=4, normalize=False):\n",
    "    # Returns a hamiltonian at N + 1 k-points, both 0 and 2 pi are included\n",
    "    k = np.linspace(0, 2 * np.pi, N + 1)\n",
    "    while True:\n",
    "        coef = np.random.rand(c + 1, 4) * 2 - 1  # Fourier coefficients ax, bx, ay, by, [-1, 1]\n",
    "        h = np.zeros((N + 1, 2))\n",
    "        for i in range(coef.shape[0]):\n",
    "            h[:, 0] += coef[i, 0] * np.cos(i * k) + coef[i, 1] * np.sin(i * k)\n",
    "            h[:, 1] += coef[i, 2] * np.cos(i * k) + coef[i, 3] * np.sin(i * k)\n",
    "        h_normalized = h / np.linalg.norm(h, axis=1, keepdims=True)\n",
    "        args = np.angle(h_normalized[:-1, 0] + 1j * h_normalized[:-1, 1])\n",
    "        arg_diff = (np.roll(args, -1) - args) % (2 * np.pi)\n",
    "        indices = arg_diff >= np.pi\n",
    "        arg_diff[indices] = arg_diff[indices] - 2 * np.pi  # Shift to [-pi, pi)\n",
    "        w = -arg_diff.sum() / (2 * np.pi)\n",
    "        w = np.round(w)\n",
    "        yield (h_normalized, w) if normalize else (h, w)\n",
    "        \n",
    "def generate_data(size, dim_k, lower=0, upper=float('inf'), c=4):\n",
    "    # generating data with specific winding numbers lower bound include upper bound not included\n",
    "    X = np.zeros((size, dim_k, 2, 1))\n",
    "    y = np.zeros(size)\n",
    "    count = 0\n",
    "    gen = hamiltonian_generator(dim_k - 1, c, normalize=True)\n",
    "    while count < size:\n",
    "        h, w = next(gen)\n",
    "        if lower <= np.abs(w) < upper:\n",
    "            X[count, :, :, 0] = h\n",
    "            y[count] = w\n",
    "            count += 1\n",
    "    return X, y \n",
    "    "
   ]
  },
  {
   "cell_type": "markdown",
   "metadata": {},
   "source": [
    "## Generate data"
   ]
  },
  {
   "cell_type": "code",
   "execution_count": 19,
   "metadata": {},
   "outputs": [],
   "source": [
    "if os.path.exists('prl_data.npz'):\n",
    "    with np.load('prl_data.npz') as f:\n",
    "        X_train = f['X_train']\n",
    "        y_train = f['y_train']\n",
    "        X_test_1 = f['X_test_1']\n",
    "        y_test_1 = f['y_test_1']\n",
    "        X_test_3 = f['X_test_3']\n",
    "        y_test_3 = f['y_test_3']\n",
    "        X_test_4 = f['X_test_4']\n",
    "        y_test_4 = f['y_test_4']\n",
    "        train_size = X_train.shape[0]\n",
    "        test_size = X_test_1.shape[0]\n",
    "        dim_k = X_train.shape[1]\n",
    "else:\n",
    "    train_size = 10 ** 5\n",
    "    test_size = 10 ** 4\n",
    "    dim_k = 32 + 1\n",
    "    X_train, y_train = generate_data(train_size, dim_k, 0, 3, c=4)  # Train data -2 <= w <= 2\n",
    "    X_test_1, y_test_1 = generate_data(test_size, dim_k, 0, 3, c=4)  # Test data -2 <= w <= 2\n",
    "    X_test_3, y_test_3 = generate_data(test_size, dim_k, 3, 4, c=6)  # Test data w = -3, 3\n",
    "    X_test_4, y_test_4 = generate_data(test_size, dim_k, 4, 5, c=7)  # Test data w = -4, 4\n",
    "    np.savez('prl_data.npz', X_train=X_train, y_train=y_train, X_test_1=X_test_1, y_test_1=y_test_1,\n",
    "             X_test_3=X_test_3, y_test_3=y_test_3, X_test_4=X_test_4, y_test_4=y_test_4)\n",
    "    \n",
    "y_train = y_train.astype(int)\n",
    "y_test_1 = y_test_1.astype(int)\n",
    "y_test_3 = y_test_3.astype(int)\n",
    "y_test_4 = y_test_4.astype(int)    "
   ]
  },
  {
   "cell_type": "code",
   "execution_count": 20,
   "metadata": {},
   "outputs": [
    {
     "name": "stdout",
     "output_type": "stream",
     "text": [
      "1\n"
     ]
    }
   ],
   "source": [
    "print( y_train[0] ) "
   ]
  },
  {
   "cell_type": "markdown",
   "metadata": {},
   "source": [
    "## Convolutional network"
   ]
  },
  {
   "cell_type": "code",
   "execution_count": 21,
   "metadata": {},
   "outputs": [
    {
     "name": "stdout",
     "output_type": "stream",
     "text": [
      "Model: \"sequential_1\"\n",
      "_________________________________________________________________\n",
      "Layer (type)                 Output Shape              Param #   \n",
      "=================================================================\n",
      "conv2d_2 (Conv2D)            (None, 32, 1, 40)         200       \n",
      "_________________________________________________________________\n",
      "conv2d_3 (Conv2D)            (None, 32, 1, 1)          41        \n",
      "_________________________________________________________________\n",
      "flatten_1 (Flatten)          (None, 32)                0         \n",
      "_________________________________________________________________\n",
      "dense_2 (Dense)              (None, 2)                 66        \n",
      "_________________________________________________________________\n",
      "dense_3 (Dense)              (None, 1)                 3         \n",
      "=================================================================\n",
      "Total params: 310\n",
      "Trainable params: 310\n",
      "Non-trainable params: 0\n",
      "_________________________________________________________________\n"
     ]
    }
   ],
   "source": [
    "set_random_seeds()\n",
    "\n",
    "model_cnn = Sequential()\n",
    "model_cnn.add(Conv2D(filters=40, kernel_size=2, activation='relu', input_shape=(dim_k, 2, 1)))\n",
    "model_cnn.add(Conv2D(filters=1, kernel_size=1, activation='relu'))\n",
    "\n",
    "model_cnn.add(Flatten())\n",
    "model_cnn.add(Dense(2, activation='relu'))\n",
    "model_cnn.add(Dense(1, activation='linear'))\n",
    "\n",
    "model_cnn.summary()"
   ]
  },
  {
   "cell_type": "code",
   "execution_count": 22,
   "metadata": {
    "scrolled": true
   },
   "outputs": [
    {
     "name": "stdout",
     "output_type": "stream",
     "text": [
      "Train on 100000 samples\n",
      "Epoch 1/40\n",
      "100000/100000 [==============================] - 6s 59us/sample - loss: 0.3764 - mean_absolute_error: 0.4527\n",
      "Epoch 2/40\n",
      "100000/100000 [==============================] - 6s 55us/sample - loss: 0.1168 - mean_absolute_error: 0.2669\n",
      "Epoch 3/40\n",
      "100000/100000 [==============================] - 6s 56us/sample - loss: 0.0870 - mean_absolute_error: 0.2287\n",
      "Epoch 4/40\n",
      "100000/100000 [==============================] - 5s 53us/sample - loss: 0.0728 - mean_absolute_error: 0.2055\n",
      "Epoch 5/40\n",
      "100000/100000 [==============================] - 5s 55us/sample - loss: 0.0641 - mean_absolute_error: 0.1908\n",
      "Epoch 6/40\n",
      "100000/100000 [==============================] - 5s 55us/sample - loss: 0.0573 - mean_absolute_error: 0.1797\n",
      "Epoch 7/40\n",
      "100000/100000 [==============================] - 5s 53us/sample - loss: 0.0518 - mean_absolute_error: 0.1695\n",
      "Epoch 8/40\n",
      "100000/100000 [==============================] - 5s 53us/sample - loss: 0.0466 - mean_absolute_error: 0.1591\n",
      "Epoch 9/40\n",
      "100000/100000 [==============================] - 6s 57us/sample - loss: 0.0443 - mean_absolute_error: 0.1548\n",
      "Epoch 10/40\n",
      "100000/100000 [==============================] - 5s 55us/sample - loss: 0.0415 - mean_absolute_error: 0.1491\n",
      "Epoch 11/40\n",
      "100000/100000 [==============================] - 6s 56us/sample - loss: 0.0385 - mean_absolute_error: 0.1422\n",
      "Epoch 12/40\n",
      "100000/100000 [==============================] - 5s 55us/sample - loss: 0.0365 - mean_absolute_error: 0.1373\n",
      "Epoch 13/40\n",
      "100000/100000 [==============================] - 5s 55us/sample - loss: 0.0347 - mean_absolute_error: 0.1340\n",
      "Epoch 14/40\n",
      "100000/100000 [==============================] - 5s 54us/sample - loss: 0.0346 - mean_absolute_error: 0.1337\n",
      "Epoch 15/40\n",
      "100000/100000 [==============================] - 5s 53us/sample - loss: 0.0321 - mean_absolute_error: 0.1278\n",
      "Epoch 16/40\n",
      "100000/100000 [==============================] - 5s 53us/sample - loss: 0.0314 - mean_absolute_error: 0.1266\n",
      "Epoch 17/40\n",
      "100000/100000 [==============================] - 5s 54us/sample - loss: 0.0305 - mean_absolute_error: 0.1242\n",
      "Epoch 18/40\n",
      "100000/100000 [==============================] - 5s 53us/sample - loss: 0.0298 - mean_absolute_error: 0.1224\n",
      "Epoch 19/40\n",
      "100000/100000 [==============================] - 5s 52us/sample - loss: 0.0286 - mean_absolute_error: 0.1198\n",
      "Epoch 20/40\n",
      "100000/100000 [==============================] - 5s 55us/sample - loss: 0.0280 - mean_absolute_error: 0.1175\n",
      "Epoch 21/40\n",
      "100000/100000 [==============================] - 5s 54us/sample - loss: 0.0279 - mean_absolute_error: 0.11760s - loss: 0.0282 - mean_absolute_error\n",
      "Epoch 22/40\n",
      "100000/100000 [==============================] - 5s 54us/sample - loss: 0.0269 - mean_absolute_error: 0.1148\n",
      "Epoch 23/40\n",
      "100000/100000 [==============================] - 6s 55us/sample - loss: 0.0263 - mean_absolute_error: 0.1130\n",
      "Epoch 24/40\n",
      "100000/100000 [==============================] - 5s 53us/sample - loss: 0.0265 - mean_absolute_error: 0.1141\n",
      "Epoch 25/40\n",
      "100000/100000 [==============================] - 5s 53us/sample - loss: 0.0254 - mean_absolute_error: 0.11141s - loss: 0.0251\n",
      "Epoch 26/40\n",
      "100000/100000 [==============================] - 6s 60us/sample - loss: 0.0266 - mean_absolute_error: 0.1152\n",
      "Epoch 27/40\n",
      "100000/100000 [==============================] - 6s 61us/sample - loss: 0.0250 - mean_absolute_error: 0.1103\n",
      "Epoch 28/40\n",
      "100000/100000 [==============================] - 6s 59us/sample - loss: 0.0250 - mean_absolute_error: 0.1098\n",
      "Epoch 29/40\n",
      "100000/100000 [==============================] - 6s 61us/sample - loss: 0.0243 - mean_absolute_error: 0.1077\n",
      "Epoch 30/40\n",
      "100000/100000 [==============================] - 6s 60us/sample - loss: 0.0243 - mean_absolute_error: 0.1083\n",
      "Epoch 31/40\n",
      "100000/100000 [==============================] - 6s 61us/sample - loss: 0.0237 - mean_absolute_error: 0.1062\n",
      "Epoch 32/40\n",
      "100000/100000 [==============================] - 6s 61us/sample - loss: 0.0232 - mean_absolute_error: 0.1047\n",
      "Epoch 33/40\n",
      "100000/100000 [==============================] - 6s 58us/sample - loss: 0.0232 - mean_absolute_error: 0.1049\n",
      "Epoch 34/40\n",
      "100000/100000 [==============================] - 6s 61us/sample - loss: 0.0232 - mean_absolute_error: 0.1053\n",
      "Epoch 35/40\n",
      "100000/100000 [==============================] - 6s 55us/sample - loss: 0.0233 - mean_absolute_error: 0.1055\n",
      "Epoch 36/40\n",
      "100000/100000 [==============================] - 5s 54us/sample - loss: 0.0240 - mean_absolute_error: 0.1081\n",
      "Epoch 37/40\n",
      "100000/100000 [==============================] - 6s 56us/sample - loss: 0.0222 - mean_absolute_error: 0.1013\n",
      "Epoch 38/40\n",
      "100000/100000 [==============================] - 5s 55us/sample - loss: 0.0231 - mean_absolute_error: 0.1052\n",
      "Epoch 39/40\n",
      "100000/100000 [==============================] - 5s 53us/sample - loss: 0.0225 - mean_absolute_error: 0.1031\n",
      "Epoch 40/40\n",
      "100000/100000 [==============================] - 6s 55us/sample - loss: 0.0230 - mean_absolute_error: 0.1053\n"
     ]
    }
   ],
   "source": [
    "batch_size = 50\n",
    "num_epochs = 40\n",
    "model_cnn.compile(optimizer='adam', loss='mean_squared_error', metrics=['mae'])\n",
    "history_cnn = model_cnn.fit(X_train, y_train, batch_size=batch_size, epochs=num_epochs)"
   ]
  },
  {
   "cell_type": "code",
   "execution_count": 23,
   "metadata": {},
   "outputs": [
    {
     "data": {
      "text/plain": [
       "dict_keys(['loss', 'mean_absolute_error'])"
      ]
     },
     "execution_count": 23,
     "metadata": {},
     "output_type": "execute_result"
    }
   ],
   "source": [
    "# model_cnn.save('prl_cnn_model.h5')\n",
    "history_cnn.history.keys()"
   ]
  },
  {
   "cell_type": "code",
   "execution_count": 24,
   "metadata": {},
   "outputs": [
    {
     "data": {
      "text/plain": [
       "[<matplotlib.lines.Line2D at 0x20553408788>]"
      ]
     },
     "execution_count": 24,
     "metadata": {},
     "output_type": "execute_result"
    },
    {
     "data": {
      "image/png": "[encoded data removed]",
      "text/plain": [
       "<Figure size 720x432 with 2 Axes>"
      ]
     },
     "metadata": {
      "needs_background": "light"
     },
     "output_type": "display_data"
    }
   ],
   "source": [
    "# mae_cnn = history_cnn.history['mae']\n",
    "mae_cnn = history_cnn.history['mean_absolute_error']\n",
    "loss_cnn = history_cnn.history['loss']\n",
    "\n",
    "epochs = range(1, len(mae_cnn) + 1)\n",
    "fig, axes = plt.subplots(1, 2, figsize=(10, 6))\n",
    "axes[0].plot(epochs, mae_cnn)\n",
    "axes[1].plot(epochs, loss_cnn)"
   ]
  },
  {
   "cell_type": "code",
   "execution_count": 25,
   "metadata": {},
   "outputs": [
    {
     "name": "stdout",
     "output_type": "stream",
     "text": [
      "train accuracy = 0.98075\n",
      "test 1 accuracy = 0.9822\n",
      "test 3 accuracy = 0.4968\n",
      "test 4 accuracy = 0.4651\n"
     ]
    }
   ],
   "source": [
    "cnn_train_pred = model_cnn.predict(X_train).flatten()\n",
    "cnn_test_1_pred = model_cnn.predict(X_test_1).flatten()\n",
    "cnn_test_3_pred = model_cnn.predict(X_test_3).flatten()\n",
    "cnn_test_4_pred = model_cnn.predict(X_test_4).flatten()\n",
    "\n",
    "print('train accuracy = {}'.format((y_train == cnn_train_pred.round()).sum() / len(y_train)))\n",
    "print('test 1 accuracy = {}'.format((y_test_1 == cnn_test_1_pred.round()).sum() / len(y_test_1)))\n",
    "print('test 3 accuracy = {}'.format((y_test_3 == cnn_test_3_pred.round()).sum() / len(y_test_3)))\n",
    "print('test 4 accuracy = {}'.format((y_test_4 == cnn_test_4_pred.round()).sum() / len(y_test_4)))"
   ]
  },
  {
   "cell_type": "code",
   "execution_count": null,
   "metadata": {},
   "outputs": [],
   "source": []
  }
 ],
 "metadata": {
  "kernelspec": {
   "display_name": "Python 3",
   "language": "python",
   "name": "python3"
  },
  "language_info": {
   "codemirror_mode": {
    "name": "ipython",
    "version": 3
   },
   "file_extension": ".py",
   "mimetype": "text/x-python",
   "name": "python",
   "nbconvert_exporter": "python",
   "pygments_lexer": "ipython3",
   "version": "3.7.4"
  }
 },
 "nbformat": 4,
 "nbformat_minor": 2
}
