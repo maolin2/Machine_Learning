{
 "cells": [
  {
   "cell_type": "markdown",
   "metadata": {},
   "source": [
    "Classify the quarupole model with indices (qxy,qyx)"
   ]
  },
  {
   "cell_type": "markdown",
   "metadata": {},
   "source": [
    "# Import some stuff"
   ]
  },
  {
   "cell_type": "code",
   "execution_count": 9,
   "metadata": {},
   "outputs": [],
   "source": [
    "import os\n",
    "import random\n",
    "import numpy as np\n",
    "import matplotlib.pyplot as plt\n",
    "import seaborn as sns\n",
    "import tensorflow as tf\n",
    "from tensorflow import keras\n",
    "from tensorflow.keras.models import Sequential, Model\n",
    "from tensorflow.keras.layers import Dense, Conv2D, Flatten\n",
    "%matplotlib inline\n",
    "plt.rcParams['figure.figsize'] = [8, 6]\n",
    "plt.rcParams['figure.titlesize'] = 24\n",
    "plt.rcParams['axes.labelsize'] = 18\n",
    "plt.rcParams['axes.titlesize'] = 20\n",
    "plt.rcParams['xtick.labelsize'] = 16\n",
    "plt.rcParams['ytick.labelsize'] = 16\n",
    "plt.rcParams['legend.fontsize'] = 16"
   ]
  },
  {
   "cell_type": "markdown",
   "metadata": {},
   "source": [
    "# Get training data"
   ]
  },
  {
   "cell_type": "code",
   "execution_count": 10,
   "metadata": {},
   "outputs": [],
   "source": [
    "# This is to generate the hamiltonian without perturbations\n",
    "# To do: Change the representations in a random way \n",
    "\n",
    "import numpy as np\n",
    "\n",
    "def quadmodel_generator(N=32):\n",
    "    \n",
    "#     g1 = - np.kron([[0, -1j], [1j, 0]], [[0, 1], [1, 0]])\n",
    "#     g2 = - np.kron([[0, -1j], [1j, 0]], [[0, -1j], [1j, 0]])\n",
    "#     g3 = - np.kron([[0, -1j], [1j, 0]], [[1, 0], [0, -1]])\n",
    "#     g4 = np.kron([[0, 1], [1, 0]], np.eye(2))\n",
    "    \n",
    "    s0 = [ [1,0] , [0,1] ] \n",
    "    s1 = [ [0,1] , [1,0] ]\n",
    "    s2 = [ [0,-1j] , [1j , 0] ]\n",
    "    s3 = [ [1,0] , [0,-1] ]\n",
    "    s = np.array( [s0,s1,s2,s3] ) \n",
    "\n",
    "    ind = int( rand() *3 + 1 ) \n",
    "    ind2 = np.setdiff1d( [1,2,3] , ind )\n",
    "\n",
    "    g1 = -np.kron( s[ind] , s[1] ) \n",
    "    g2 = -np.kron( s[ind] , s[2] ) \n",
    "    g3 = -np.kron( s[ind] , s[3] ) \n",
    "    g4 = np.kron( s[int(ind2[[0]])] , s[0] ) \n",
    "    g5 = np.kron( s[int(ind2[[1]])] , s[0] ) \n",
    "\n",
    "    g = np.array( [ g1 , g2 , g3 , g4 , g5 ] ) \n",
    "\n",
    "    GG = np.zeros(g.shape,dtype=complex)\n",
    "    ind3 = np.random.permutation(5)\n",
    "    #     print(ind3)\n",
    "    for i in range(5):\n",
    "        GG[i] = g[ind3[i]]\n",
    "\n",
    "    # GGtrace = np.zeros((4,4),dtype=complex)\n",
    "    # for ii in range(4):\n",
    "    #     for jj in range(4):\n",
    "    #         GGtrace[ii,jj] = np.trace( np.dot( GG[ii] , GG[jj] ) + np.dot( GG[jj] , GG[ii] ) )\n",
    "    # print( GGtrace ) \n",
    "\n",
    "    g1 = GG[0]\n",
    "    g2 = GG[1]\n",
    "    g3 = GG[2]\n",
    "    g4 = GG[3]\n",
    "    \n",
    "    \n",
    "    kr = np.linspace(0, 2 * np.pi, N)\n",
    "    kx, ky = np.meshgrid(kr, kr) # row corresponds to y, column corresponds to x\n",
    "    while True:\n",
    "        coef = np.random.uniform(-1.5, 1.5, 2) # coupling lx, ly between [-2, 2]\n",
    "        h = (np.kron((coef[0] + np.cos(kx)), g4.flatten()) + np.kron(np.sin(kx), g3.flatten()) + \n",
    "             np.kron((coef[1] + np.cos(ky)), g2.flatten()) + np.kron(np.sin(ky), g1.flatten())).reshape((N, N, 16))\n",
    "        hr, hi = np.real(h), np.imag(h)\n",
    "        h_tot = np.concatenate((hr, hi), axis = 2) # h_tot has dimension (dim_kx, dim_ky, 16*2)    \n",
    "        if abs(coef[0]) < 1 and abs(coef[1]) < 1:\n",
    "            qxy = 1\n",
    "            qyx = 1\n",
    "        elif abs(coef[0]) < 1 and abs(coef[1]) > 1 :\n",
    "            qxy = 1\n",
    "            qyx = 0\n",
    "        elif abs(coef[0]) > 1 and abs(coef[1]) < 1 :\n",
    "            qxy = 0 \n",
    "            qyx = 1\n",
    "        elif abs(coef[0]) > 1 and abs(coef[1]) > 1 :\n",
    "            qxy = 0\n",
    "            qyx = 0\n",
    "        \n",
    "        target = np.zeros((1,2))\n",
    "        target[0,0] = qxy \n",
    "        target[0,1] = qyx\n",
    "        \n",
    "#         target = [[qxy],[qyx]]   \n",
    "        \n",
    "        \n",
    "        yield h_tot, target\n",
    "        \n",
    "\n",
    "def generate_data(sample_size, dim_k):\n",
    "    data = np.zeros((sample_size, dim_k, dim_k, 32))\n",
    "    target = np.zeros((sample_size,2))\n",
    "    gen = quadmodel_generator(dim_k)\n",
    "    for i in range(sample_size):\n",
    "        data[i, :], target[i,:] = next(gen)\n",
    "    return data, target \n",
    "\n",
    "\n",
    "train_size = 10 ** 3\n",
    "test_size = 10 ** 3\n",
    "\n",
    "num_k = 32 + 1\n",
    "\n",
    "X_train, y_train = generate_data(train_size, num_k)\n",
    "X_test, y_test = generate_data(test_size, num_k) \n",
    "np.savez('quad_data.npz', X_train=X_train, y_train=y_train, X_test=X_test, y_test=y_test)\n",
    "\n",
    "# sns.distplot(y_train)\n",
    "             "
   ]
  },
  {
   "cell_type": "markdown",
   "metadata": {},
   "source": [
    "# Build a CNN"
   ]
  },
  {
   "cell_type": "code",
   "execution_count": 11,
   "metadata": {},
   "outputs": [
    {
     "name": "stdout",
     "output_type": "stream",
     "text": [
      "Model: \"sequential_4\"\n",
      "_________________________________________________________________\n",
      "Layer (type)                 Output Shape              Param #   \n",
      "=================================================================\n",
      "conv2d_5 (Conv2D)            (None, 31, 31, 8)         2312      \n",
      "_________________________________________________________________\n",
      "max_pooling2d_3 (MaxPooling2 (None, 15, 15, 8)         0         \n",
      "_________________________________________________________________\n",
      "conv2d_6 (Conv2D)            (None, 13, 13, 4)         292       \n",
      "_________________________________________________________________\n",
      "flatten_3 (Flatten)          (None, 676)               0         \n",
      "_________________________________________________________________\n",
      "dense_5 (Dense)              (None, 4)                 2708      \n",
      "_________________________________________________________________\n",
      "dense_6 (Dense)              (None, 2)                 10        \n",
      "=================================================================\n",
      "Total params: 5,322\n",
      "Trainable params: 5,322\n",
      "Non-trainable params: 0\n",
      "_________________________________________________________________\n"
     ]
    }
   ],
   "source": [
    "from keras import layers\n",
    "from keras import models\n",
    "\n",
    "model_cnn = models.Sequential()\n",
    "model_cnn.add( layers.Conv2D( 8 , (3,3) , activation = 'relu' , input_shape = (num_k, num_k, 32) ) ) \n",
    "model_cnn.add( layers.MaxPooling2D( (2,2) ) ) \n",
    "model_cnn.add( layers.Conv2D( 4 , (3,3) , activation = 'relu' ) ) \n",
    "# model_cnn.add( layers.MaxPooling2D( (2,2) ) ) \n",
    "# model_cnn.add( layers.Conv2D( 8 , (3,3) , activation = 'relu' ) ) \n",
    "# model_cnn.add( layers.MaxPooling2D( (2,2) ) ) \n",
    "\n",
    "model_cnn.add( layers.Flatten())\n",
    "model_cnn.add( layers.Dense(4, activation='relu'))\n",
    "model_cnn.add( layers.Dense(2, activation='softmax'))\n",
    "\n",
    "model_cnn.summary()\n",
    "\n",
    "\n"
   ]
  },
  {
   "cell_type": "code",
   "execution_count": 8,
   "metadata": {},
   "outputs": [
    {
     "name": "stdout",
     "output_type": "stream",
     "text": [
      "Epoch 1/40\n",
      "1000/1000 [==============================] - 1s 1ms/step - loss: 0.9203 - mae: 0.4435\n",
      "Epoch 2/40\n",
      "1000/1000 [==============================] - 1s 831us/step - loss: 1.4153 - mae: 0.4381\n",
      "Epoch 3/40\n",
      "1000/1000 [==============================] - 1s 819us/step - loss: 2.2278 - mae: 0.4321\n",
      "Epoch 4/40\n",
      "1000/1000 [==============================] - 1s 788us/step - loss: 4.1533 - mae: 0.4638\n",
      "Epoch 5/40\n",
      "1000/1000 [==============================] - 1s 978us/step - loss: 6.9660 - mae: 0.4751\n",
      "Epoch 6/40\n",
      "1000/1000 [==============================] - 1s 794us/step - loss: 10.6618 - mae: 0.4567\n",
      "Epoch 7/40\n",
      "1000/1000 [==============================] - 1s 801us/step - loss: 15.7963 - mae: 0.4705\n",
      "Epoch 8/40\n",
      "1000/1000 [==============================] - 1s 1ms/step - loss: 21.6874 - mae: 0.4680\n",
      "Epoch 9/40\n",
      "1000/1000 [==============================] - 1s 874us/step - loss: 27.8004 - mae: 0.4894\n",
      "Epoch 10/40\n",
      "1000/1000 [==============================] - 1s 883us/step - loss: 37.3721 - mae: 0.4675\n",
      "Epoch 11/40\n",
      "1000/1000 [==============================] - 1s 827us/step - loss: 47.7718 - mae: 0.4839\n",
      "Epoch 12/40\n",
      "1000/1000 [==============================] - 1s 839us/step - loss: 57.6889 - mae: 0.4631\n",
      "Epoch 13/40\n",
      "1000/1000 [==============================] - 1s 891us/step - loss: 68.6654 - mae: 0.4686\n",
      "Epoch 14/40\n",
      "1000/1000 [==============================] - 1s 821us/step - loss: 80.7092 - mae: 0.4747\n",
      "Epoch 15/40\n",
      "1000/1000 [==============================] - 1s 1ms/step - loss: 85.9990 - mae: 0.4692\n",
      "Epoch 16/40\n",
      "1000/1000 [==============================] - 1s 1ms/step - loss: 118.5506 - mae: 0.4714\n",
      "Epoch 17/40\n",
      "1000/1000 [==============================] - 1s 1ms/step - loss: 135.6040 - mae: 0.4621\n",
      "Epoch 18/40\n",
      "1000/1000 [==============================] - 1s 849us/step - loss: 157.0926 - mae: 0.4859\n",
      "Epoch 19/40\n",
      "1000/1000 [==============================] - 1s 799us/step - loss: 165.8124 - mae: 0.4877\n",
      "Epoch 20/40\n",
      "1000/1000 [==============================] - 1s 786us/step - loss: 202.1909 - mae: 0.5008\n",
      "Epoch 21/40\n",
      "1000/1000 [==============================] - 1s 823us/step - loss: 230.4386 - mae: 0.4995\n",
      "Epoch 22/40\n",
      "1000/1000 [==============================] - 1s 801us/step - loss: 261.7233 - mae: 0.5002\n",
      "Epoch 23/40\n",
      "1000/1000 [==============================] - 1s 822us/step - loss: 262.9295 - mae: 0.4839\n",
      "Epoch 24/40\n",
      "1000/1000 [==============================] - 1s 768us/step - loss: 332.5508 - mae: 0.5032\n",
      "Epoch 25/40\n",
      "1000/1000 [==============================] - 1s 803us/step - loss: 365.2408 - mae: 0.5047\n",
      "Epoch 26/40\n",
      "1000/1000 [==============================] - 1s 777us/step - loss: 349.8851 - mae: 0.4745\n",
      "Epoch 27/40\n",
      "1000/1000 [==============================] - 1s 787us/step - loss: 415.7668 - mae: 0.5064\n",
      "Epoch 28/40\n",
      "1000/1000 [==============================] - 1s 773us/step - loss: 428.2384 - mae: 0.4980\n",
      "Epoch 29/40\n",
      "1000/1000 [==============================] - 1s 799us/step - loss: 481.9198 - mae: 0.4959\n",
      "Epoch 30/40\n",
      "1000/1000 [==============================] - 1s 782us/step - loss: 619.2154 - mae: 0.5105\n",
      "Epoch 31/40\n",
      "1000/1000 [==============================] - 1s 1ms/step - loss: 569.4752 - mae: 0.4935\n",
      "Epoch 32/40\n",
      "1000/1000 [==============================] - 1s 1ms/step - loss: 615.7135 - mae: 0.5027\n",
      "Epoch 33/40\n",
      "1000/1000 [==============================] - 1s 963us/step - loss: 671.5537 - mae: 0.5011\n",
      "Epoch 34/40\n",
      "1000/1000 [==============================] - 1s 856us/step - loss: 808.1941 - mae: 0.5025\n",
      "Epoch 35/40\n",
      "1000/1000 [==============================] - 1s 837us/step - loss: 783.4364 - mae: 0.4764\n",
      "Epoch 36/40\n",
      "1000/1000 [==============================] - 1s 858us/step - loss: 880.2309 - mae: 0.5005\n",
      "Epoch 37/40\n",
      "1000/1000 [==============================] - 1s 860us/step - loss: 939.1323 - mae: 0.4975\n",
      "Epoch 38/40\n",
      "1000/1000 [==============================] - 1s 865us/step - loss: 988.7094 - mae: 0.4985\n",
      "Epoch 39/40\n",
      "1000/1000 [==============================] - 1s 884us/step - loss: 1149.8139 - mae: 0.4965\n",
      "Epoch 40/40\n",
      "1000/1000 [==============================] - 1s 876us/step - loss: 1172.6694 - mae: 0.5165\n"
     ]
    },
    {
     "data": {
      "text/plain": [
       "[<matplotlib.lines.Line2D at 0x1a5a774c18>]"
      ]
     },
     "execution_count": 8,
     "metadata": {},
     "output_type": "execute_result"
    },
    {
     "data": {
      "image/png": "[encoded data removed]",
      "text/plain": [
       "<Figure size 720x432 with 2 Axes>"
      ]
     },
     "metadata": {
      "needs_background": "light"
     },
     "output_type": "display_data"
    }
   ],
   "source": [
    "batch_size = 50\n",
    "num_epochs = 40\n",
    "model_cnn.compile(optimizer='rmsprop', loss='categorical_crossentropy', metrics=['mae'])\n",
    "history_cnn = model_cnn.fit(X_train, y_train, batch_size=batch_size, epochs=num_epochs)\n",
    "\n",
    "model_cnn.save('quad_cnn_model1_2classes.h5')\n",
    "\n",
    "mae_cnn = history_cnn.history['mae']\n",
    "# acc_cnn = history_cnn.history['accuracy']\n",
    "loss_cnn = history_cnn.history['loss']\n",
    "\n",
    "epochs = range(1, len(mae_cnn) + 1)\n",
    "fig, axes = plt.subplots(1, 2, figsize=(10, 6))\n",
    "axes[0].plot(epochs, mae_cnn)\n",
    "# axes[0].plot(epochs, acc_cnn)\n",
    "axes[1].plot(epochs, loss_cnn)\n"
   ]
  },
  {
   "cell_type": "markdown",
   "metadata": {},
   "source": [
    "# Apply to test data"
   ]
  },
  {
   "cell_type": "code",
   "execution_count": null,
   "metadata": {},
   "outputs": [],
   "source": []
  }
 ],
 "metadata": {
  "kernelspec": {
   "display_name": "Python 3",
   "language": "python",
   "name": "python3"
  },
  "language_info": {
   "codemirror_mode": {
    "name": "ipython",
    "version": 3
   },
   "file_extension": ".py",
   "mimetype": "text/x-python",
   "name": "python",
   "nbconvert_exporter": "python",
   "pygments_lexer": "ipython3",
   "version": "3.6.9"
  }
 },
 "nbformat": 4,
 "nbformat_minor": 2
}
