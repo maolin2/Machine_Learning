{
 "cells": [
  {
   "cell_type": "markdown",
   "metadata": {},
   "source": [
    "# Table of contents\n",
    "1. [Ch 1. What is deep learning](#Ch1)\n",
    "2. [Ch 2. Building block of NN](#Ch2)\n",
    "    1. [Example code](#example1)\n",
    "    2. [Some comments](#comments)\n",
    "3. [Ch 3. Getting started with NN](#Ch3)\n",
    "    1. [Example of 2-class classification: Movie review](#example_classification1)\n",
    "        1. [Get_data](#example2_get_data)\n",
    "        2. [Preparing data](#example2_pre_data)\n",
    "        3. [Building NN](#example2_build_NN)\n",
    "        4. [Validation: Separate the datas](#example2_validation1)\n",
    "        5. [Validation: Plot the losses](#example2_validation2)\n",
    "        6. [Apply to test data](#example2_apply_test)\n",
    "        7. [Summary of the example](#example2_summary)\n",
    "    2. [Example of more-class classificaiton: NewsWire](#example_classification2)    \n",
    "        1. [Get_data](#example2_classification2_get_data)\n",
    "        2. [Preparing data](#example2_classification2_pre_data)\n",
    "        3. [Building NN](#example2_classification2_build_NN)\n",
    "        4. [Validation: Separate the datas](#example2_classification2_validation1)\n",
    "        5. [Validation: Plot the losses](#example2_classification2_validation2)\n",
    "        6. [Apply to test data](#example2_classification2_apply_test)\n",
    "        7. [Generate prediction with new data](#prediction)\n",
    "        8. [Different way to handle labels and loss](#diff_way_handle_label_loss)\n",
    "        9. [Summary of the example](#example2_classification2_summary)\n",
    "    3. [Example of regression: House prices](#example_regression)\n",
    "        1. [Get_data](#example3_get_data)\n",
    "        2. [Preparing data](#example3_pre_data)\n",
    "        3. [Building NN](#example3_build_NN)\n",
    "        4. [Validation: K-fold validation](#example3_validation)\n",
    "        5. [Validation: Plot the losses](#example3_validation2)\n",
    "        6. [Apply to test data](#example3_apply_test)\n",
    "        7. [Summary of the example](#example3_summary)\n",
    "    4. [Summary of the chapter](#summary_ch3)\n",
    "4. [Ch 4. Fundamentals of ML](#Ch4)\n",
    "    1. [Four kinds of ML](#4ML)\n",
    "    2. [Evaluation of ML models](#Evaluation_ML)\n",
    "        1. [Training, validation and test sets](#TrainValidateTest)\n",
    "        2. [Three validation methods (key subsection)](#3validation)\n",
    "        3. [Things to keep in mind](#ThingsToKeep)\n",
    "    3. [Feature engineering, data processing](#prepare_data)\n",
    "    4. [Overfitting (Key section)](#Overfit)\n",
    "        1. [Reducing the network size](#reduce_size)\n",
    "        2. [Weight regularization](#Weight_regularization)\n",
    "        3. [Add dropout](#dropout)\n",
    "    5. [Workflow of ML (key summary)](#workflow)\n",
    "    6. [Some vocabularies for classification and regression](#vocabulary)\n",
    "5. [Ch 5. Deep learning for computer vision](#Ch5)\n",
    "    1. [Introduction to CNN](#intro_cnn)\n",
    "    2. [Training CNN from scratch on a small dataset](#Training_cnn)\n",
    "        1. [Get Data](#Ch5_get_data)\n",
    "        2. [Build CNN](#Ch5_build_cnn)        \n",
    "        3. [Data preprocessing](#Ch5_data_process)\n",
    "        4. [Data augmentation](#Ch5_data_augmentation)\n",
    "    3. [Pretrained public CNN (TBC)](#public_cnn)\n",
    "        1. [Feature extraction](#Ch5_feature_extraction)\n",
    "        2. [Fine-tuning](#Ch5_fine_tuning)\n",
    "    4. [Visualization of what CNN learn](#visualization_cnn)\n",
    "        1. [Visualization of intermediate activations](#see_activation)\n",
    "        2. [Visualizing CNN filters](#see_filters)\n",
    "        3. [Visualizing heatmaps of class activations(elephant example)](#heatmap)\n",
    "    5. [Summary](#ch5_summary)\n",
    "    6. [Tentative: Use CNN for multiclass classifcation](#Tentative:multiclass)\n",
    "6. [Ch 6. Deep learning for text and sequences (TBC)](#Ch6)\n",
    "7. [Ch 7. Advanced deep-learning best practice (TBC)](#Ch7)\n",
    "8. [Ch 8. Generate deep learning (TBC)](#Ch8)\n",
    "9. [Ch 9. Conclusion](#Ch9)\n",
    "    1. [Key concepts](#KeyConcepts)\n",
    "    2. [The limitation of deep learning](#Limitation)\n",
    "    3. [The future of deep learning](#Future)\n",
    "    4. [How to stay up to date](#StayUpToDate)\n",
    "10. [Ch 10. Some practices with Python](#Ch10)\n",
    "    1. [Practices from Ch2: Tensor operations](#practiceCh2)\n",
    "    2. [Practices from Ch3: More tensor operations](#practiceCh3)\n",
    "    3. [Practices from Ch5: Python generators](#practiceCh5)   \n",
    "    4. [Practicse from project: Read data from text file](#practice_project)\n",
    "    5. [Practicse from project: Plot something](#practice_project_2)\n",
    "    6. [Practicse from project: String manipulation](#string)"
   ]
  },
  {
   "cell_type": "markdown",
   "metadata": {},
   "source": [
    "## Ch 1. What is deep learning<a name=\"Ch1\"></a>\n",
    "1. In contrast to the usual workflow which is rules + data gives answers, machine learning (ML) works like data + answers gives rules. \n",
    "\n",
    "2. The difference between ML and statistics is that ML deals with more complex problems than stat. Thus ML has less math\n",
    "\n",
    "3. What ML needs? Three things. Input, target (label) and loss function (measure of the performance of the algorithm for adjusting the learning). \n",
    "\n",
    "4. Learning is to find the better representation of the data in the hypothetic space which is the predefiened space of possibilityes. \n",
    "\n",
    "5. So what is \"deep learning (DL)\"? The deep is in the sense that the network has deeper layer, with successive layers of changing the rep of the data. This is very different from the \"shallow learning\" comapred to the early days of ML. \n",
    "\n",
    "6. There are a few parameters of the neural network (NN). N_layer, N_nodes and the weight. The last one is the parameters or knowledge of NN, which is the rep of the data, or can be thought as the coefficient of many polpynomials, each for each layer and the number of monomials are the number of nodes, I guess. \n",
    "\n",
    "7. To measrue how far we are from the target, or the expected output, it is measured by the loss function, or the objective function \n",
    "\n",
    "8. Initially the weights in the NN is assigned randomly, then through descenting, we are approaching to the better values, which minimize the loss functions. This is the tranining loops.\n",
    "\n",
    "9. There are various version of DL. The earliest version is the probabilistic modeling, such as Naive Bayes algorithm, as the name suggests, using the stat techniques. \n",
    "\n",
    "10. The related one is the logistic regressing, which is NOT regression, but rather classification algorithm\n",
    "\n",
    "11. Kernal methods, which is mostly math sounded. The best known one is the SVM, support vector machine, which aims to find hte best decision boundaries for classificaiton. It works in two steps, 1st is to change the coordinate, ort the representation of the data (in fact this is the feature engineering that is needed for later NN too), followed by MAXimizing the margin such that a clear bounary can be founded. It is easy to see that why this is math sounded, as it is just a linear algebra problem. The PROBLEM of svm is that it can NOT scaled to more complicated problem, and the feature enginnering can only be done manually. \n",
    "\n",
    "\n",
    "12. Decision tree, is a flow chart to classify stuffs. Random forest is a bunch of decison tress. Gradient boosting machines is a bunch of random forest. The point is to repeately strengthen the weak point. \n",
    "\n",
    "13. So why NN is good? 1st the feature engineering is automated. 2nd is that the network learns the feature \"together\" although there are multiple layers, rather than layer by layer. In a sens, it is 1+1+1>3. The NN is joined. \n",
    "\n",
    "14. 2 essential feature of NN. 1, Layer and layer make the  rep of data more and more complicated (cause we have deeper network) 2, In the above process, the parameters of the WHOLE network is updated simultaneously, rather than layer by layer. \n",
    "\n"
   ]
  },
  {
   "cell_type": "markdown",
   "metadata": {},
   "source": [
    "## Ch 2. The building block of NN<a name=\"Ch2\"></a>"
   ]
  },
  {
   "cell_type": "markdown",
   "metadata": {},
   "source": [
    "Here we come with the first example: MNIST which is to classify the digits. Below is the summary. After, we shall insert in the python code in the next cell.\n",
    "\n",
    "Summary of 1st example.\n",
    "\n",
    "1. Load the data from MINST, including training.data, training.label, similarly for the test data. They are in Numpy. \n",
    "\n",
    "2. From Keras to load models and network. Network has multiple layers.\n",
    "\n",
    "3. Reshape the datas for Kera.\n",
    "\n",
    "4. Chose the three property of the network, the loss function for measuring the fit, the optimizer for determining how to update the network, the metric for accuracy. \n",
    "\n",
    "5. Catagoricaly encode label\n",
    "\n",
    "6. Feed it in, to train the network\n",
    "\n",
    "7. Use the network for the test data. "
   ]
  },
  {
   "cell_type": "markdown",
   "metadata": {},
   "source": [
    "### Example code <a name=\"example1\"></a>"
   ]
  },
  {
   "cell_type": "code",
   "execution_count": 318,
   "metadata": {},
   "outputs": [
    {
     "name": "stdout",
     "output_type": "stream",
     "text": [
      "60000\n",
      "10000\n",
      "[5 0 4 ... 5 6 8]\n",
      "uint8\n",
      "[7 2 1 ... 4 5 6]\n",
      "uint8\n"
     ]
    },
    {
     "data": {
      "image/png": "[encoded data removed]",
      "text/plain": [
       "<Figure size 432x288 with 1 Axes>"
      ]
     },
     "metadata": {
      "needs_background": "light"
     },
     "output_type": "display_data"
    }
   ],
   "source": [
    "from keras.datasets import mnist\n",
    "import matplotlib.pyplot as plt\n",
    "(train_images , train_labels) , (test_images , test_labels) = mnist.load_data() \n",
    "\n",
    "train_images.shape\n",
    "print( len(train_labels) ) # 60000\n",
    "test_images.shape\n",
    "print( len(test_labels) )  # 10000\n",
    "\n",
    "print( train_labels )\n",
    "print( train_labels.dtype )\n",
    "print( test_labels )\n",
    "print( test_labels.dtype )\n",
    "\n",
    "digit = train_images[4]\n",
    "plt.imshow(digit, cmap=plt.cm.binary)\n",
    "plt.show()\n"
   ]
  },
  {
   "cell_type": "code",
   "execution_count": 9,
   "metadata": {},
   "outputs": [],
   "source": [
    "from keras import models\n",
    "from keras import layers\n",
    "network = models.Sequential()\n",
    "network.add(layers.Dense(512, activation='relu', input_shape=(28 * 28,)))\n",
    "network.add(layers.Dense(10, activation='softmax'))\n",
    "\n",
    "# 512 and 10 are the size of the\n",
    "# output. In particular,\n",
    "# 10 in the 2nd line\n",
    "# is the probability of\n",
    "# that digits being 0-9\n",
    "# The size of input\n",
    "# of second line is not\n",
    "# specified, and by \n",
    "# default being the \n",
    "# size of the output of\n",
    "# the previous layer, \n",
    "# which is 512 here. \n",
    "# BUT, why we set the\n",
    "# size of the output to\n",
    "# be 512 in the first line?"
   ]
  },
  {
   "cell_type": "code",
   "execution_count": 11,
   "metadata": {},
   "outputs": [],
   "source": [
    "network.compile(optimizer='rmsprop', loss='categorical_crossentropy',\n",
    "metrics=['accuracy'])            \n",
    "\n",
    "# The compilation loop above needs THREE things.\n",
    "# 1. Loss function for measure purposes\n",
    "# 2. Optimizer: Tele the NN how to update itself\n",
    "# 3. The metric: For monitoring the during training and testing\n",
    "#  (NOt sure the difference between metric and the loss fun)\n",
    "# See Sec 2.4.3 for optimizer with momentum in  mini SGD."
   ]
  },
  {
   "cell_type": "code",
   "execution_count": 319,
   "metadata": {},
   "outputs": [
    {
     "name": "stdout",
     "output_type": "stream",
     "text": [
      "[  0   0   0   0   0   0   0   0   0   0   0   0   0   0   0   0   0   0\n",
      "   0   0   0   0   0   0   0   0   0   0   0   0   0   0   0   0   0   0\n",
      "   0   0   0   0   0   0   0   0   0   0   0   0   0   0   0   0   0   0\n",
      "   0   0   0   0   0   0   0   0   0   0   0   0   0   0   0   0   0   0\n",
      "   0   0   0   0   0   0   0   0   0   0   0   0   0   0   0   0   0   0\n",
      "   0   0   0   0   0   0   0   0   0   0   0   0   0   0   0   0   0   0\n",
      "   0   0   0   0   0   0   0   0   0   0   0   0   0   0   0   0   0   0\n",
      "   0   0   0   0   0   0   0   0   0   0   0   0   0   0   0   0   0   0\n",
      "   0   0   0   0   0   0   0   0   3  18  18  18 126 136 175  26 166 255\n",
      " 247 127   0   0   0   0   0   0   0   0   0   0   0   0  30  36  94 154\n",
      " 170 253 253 253 253 253 225 172 253 242 195  64   0   0   0   0   0   0\n",
      "   0   0   0   0   0  49 238 253 253 253 253 253 253 253 253 251  93  82\n",
      "  82  56  39   0   0   0   0   0   0   0   0   0   0   0   0  18 219 253\n",
      " 253 253 253 253 198 182 247 241   0   0   0   0   0   0   0   0   0   0\n",
      "   0   0   0   0   0   0   0   0  80 156 107 253 253 205  11   0  43 154\n",
      "   0   0   0   0   0   0   0   0   0   0   0   0   0   0   0   0   0   0\n",
      "   0  14   1 154 253  90   0   0   0   0   0   0   0   0   0   0   0   0\n",
      "   0   0   0   0   0   0   0   0   0   0   0   0   0 139 253 190   2   0\n",
      "   0   0   0   0   0   0   0   0   0   0   0   0   0   0   0   0   0   0\n",
      "   0   0   0   0   0  11 190 253  70   0   0   0   0   0   0   0   0   0\n",
      "   0   0   0   0   0   0   0   0   0   0   0   0   0   0   0   0  35 241\n",
      " 225 160 108   1   0   0   0   0   0   0   0   0   0   0   0   0   0   0\n",
      "   0   0   0   0   0   0   0   0   0  81 240 253 253 119  25   0   0   0\n",
      "   0   0   0   0   0   0   0   0   0   0   0   0   0   0   0   0   0   0\n",
      "   0   0  45 186 253 253 150  27   0   0   0   0   0   0   0   0   0   0\n",
      "   0   0   0   0   0   0   0   0   0   0   0   0   0  16  93 252 253 187\n",
      "   0   0   0   0   0   0   0   0   0   0   0   0   0   0   0   0   0   0\n",
      "   0   0   0   0   0   0   0 249 253 249  64   0   0   0   0   0   0   0\n",
      "   0   0   0   0   0   0   0   0   0   0   0   0   0   0  46 130 183 253\n",
      " 253 207   2   0   0   0   0   0   0   0   0   0   0   0   0   0   0   0\n",
      "   0   0   0   0  39 148 229 253 253 253 250 182   0   0   0   0   0   0\n",
      "   0   0   0   0   0   0   0   0   0   0   0   0  24 114 221 253 253 253\n",
      " 253 201  78   0   0   0   0   0   0   0   0   0   0   0   0   0   0   0\n",
      "   0   0  23  66 213 253 253 253 253 198  81   2   0   0   0   0   0   0\n",
      "   0   0   0   0   0   0   0   0   0   0  18 171 219 253 253 253 253 195\n",
      "  80   9   0   0   0   0   0   0   0   0   0   0   0   0   0   0   0   0\n",
      "  55 172 226 253 253 253 253 244 133  11   0   0   0   0   0   0   0   0\n",
      "   0   0   0   0   0   0   0   0   0   0 136 253 253 253 212 135 132  16\n",
      "   0   0   0   0   0   0   0   0   0   0   0   0   0   0   0   0   0   0\n",
      "   0   0   0   0   0   0   0   0   0   0   0   0   0   0   0   0   0   0\n",
      "   0   0   0   0   0   0   0   0   0   0   0   0   0   0   0   0   0   0\n",
      "   0   0   0   0   0   0   0   0   0   0   0   0   0   0   0   0   0   0\n",
      "   0   0   0   0   0   0   0   0   0   0   0   0   0   0   0   0   0   0\n",
      "   0   0   0   0   0   0   0   0   0   0]\n",
      "[0.         0.         0.         0.         0.         0.\n",
      " 0.         0.         0.         0.         0.         0.\n",
      " 0.         0.         0.         0.         0.         0.\n",
      " 0.         0.         0.         0.         0.         0.\n",
      " 0.         0.         0.         0.         0.         0.\n",
      " 0.         0.         0.         0.         0.         0.\n",
      " 0.         0.         0.         0.         0.         0.\n",
      " 0.         0.         0.         0.         0.         0.\n",
      " 0.         0.         0.         0.         0.         0.\n",
      " 0.         0.         0.         0.         0.         0.\n",
      " 0.         0.         0.         0.         0.         0.\n",
      " 0.         0.         0.         0.         0.         0.\n",
      " 0.         0.         0.         0.         0.         0.\n",
      " 0.         0.         0.         0.         0.         0.\n",
      " 0.         0.         0.         0.         0.         0.\n",
      " 0.         0.         0.         0.         0.         0.\n",
      " 0.         0.         0.         0.         0.         0.\n",
      " 0.         0.         0.         0.         0.         0.\n",
      " 0.         0.         0.         0.         0.         0.\n",
      " 0.         0.         0.         0.         0.         0.\n",
      " 0.         0.         0.         0.         0.         0.\n",
      " 0.         0.         0.         0.         0.         0.\n",
      " 0.         0.         0.         0.         0.         0.\n",
      " 0.         0.         0.         0.         0.         0.\n",
      " 0.         0.         0.         0.         0.         0.\n",
      " 0.         0.         0.01176471 0.07058824 0.07058824 0.07058824\n",
      " 0.49411765 0.53333336 0.6862745  0.10196079 0.6509804  1.\n",
      " 0.96862745 0.49803922 0.         0.         0.         0.\n",
      " 0.         0.         0.         0.         0.         0.\n",
      " 0.         0.         0.11764706 0.14117648 0.36862746 0.6039216\n",
      " 0.6666667  0.99215686 0.99215686 0.99215686 0.99215686 0.99215686\n",
      " 0.88235295 0.6745098  0.99215686 0.9490196  0.7647059  0.2509804\n",
      " 0.         0.         0.         0.         0.         0.\n",
      " 0.         0.         0.         0.         0.         0.19215687\n",
      " 0.93333334 0.99215686 0.99215686 0.99215686 0.99215686 0.99215686\n",
      " 0.99215686 0.99215686 0.99215686 0.9843137  0.3647059  0.32156864\n",
      " 0.32156864 0.21960784 0.15294118 0.         0.         0.\n",
      " 0.         0.         0.         0.         0.         0.\n",
      " 0.         0.         0.         0.07058824 0.85882354 0.99215686\n",
      " 0.99215686 0.99215686 0.99215686 0.99215686 0.7764706  0.7137255\n",
      " 0.96862745 0.94509804 0.         0.         0.         0.\n",
      " 0.         0.         0.         0.         0.         0.\n",
      " 0.         0.         0.         0.         0.         0.\n",
      " 0.         0.         0.3137255  0.6117647  0.41960785 0.99215686\n",
      " 0.99215686 0.8039216  0.04313726 0.         0.16862746 0.6039216\n",
      " 0.         0.         0.         0.         0.         0.\n",
      " 0.         0.         0.         0.         0.         0.\n",
      " 0.         0.         0.         0.         0.         0.\n",
      " 0.         0.05490196 0.00392157 0.6039216  0.99215686 0.3529412\n",
      " 0.         0.         0.         0.         0.         0.\n",
      " 0.         0.         0.         0.         0.         0.\n",
      " 0.         0.         0.         0.         0.         0.\n",
      " 0.         0.         0.         0.         0.         0.\n",
      " 0.         0.54509807 0.99215686 0.74509805 0.00784314 0.\n",
      " 0.         0.         0.         0.         0.         0.\n",
      " 0.         0.         0.         0.         0.         0.\n",
      " 0.         0.         0.         0.         0.         0.\n",
      " 0.         0.         0.         0.         0.         0.04313726\n",
      " 0.74509805 0.99215686 0.27450982 0.         0.         0.\n",
      " 0.         0.         0.         0.         0.         0.\n",
      " 0.         0.         0.         0.         0.         0.\n",
      " 0.         0.         0.         0.         0.         0.\n",
      " 0.         0.         0.         0.         0.13725491 0.94509804\n",
      " 0.88235295 0.627451   0.42352942 0.00392157 0.         0.\n",
      " 0.         0.         0.         0.         0.         0.\n",
      " 0.         0.         0.         0.         0.         0.\n",
      " 0.         0.         0.         0.         0.         0.\n",
      " 0.         0.         0.         0.31764707 0.9411765  0.99215686\n",
      " 0.99215686 0.46666667 0.09803922 0.         0.         0.\n",
      " 0.         0.         0.         0.         0.         0.\n",
      " 0.         0.         0.         0.         0.         0.\n",
      " 0.         0.         0.         0.         0.         0.\n",
      " 0.         0.         0.1764706  0.7294118  0.99215686 0.99215686\n",
      " 0.5882353  0.10588235 0.         0.         0.         0.\n",
      " 0.         0.         0.         0.         0.         0.\n",
      " 0.         0.         0.         0.         0.         0.\n",
      " 0.         0.         0.         0.         0.         0.\n",
      " 0.         0.0627451  0.3647059  0.9882353  0.99215686 0.73333335\n",
      " 0.         0.         0.         0.         0.         0.\n",
      " 0.         0.         0.         0.         0.         0.\n",
      " 0.         0.         0.         0.         0.         0.\n",
      " 0.         0.         0.         0.         0.         0.\n",
      " 0.         0.9764706  0.99215686 0.9764706  0.2509804  0.\n",
      " 0.         0.         0.         0.         0.         0.\n",
      " 0.         0.         0.         0.         0.         0.\n",
      " 0.         0.         0.         0.         0.         0.\n",
      " 0.         0.         0.18039216 0.50980395 0.7176471  0.99215686\n",
      " 0.99215686 0.8117647  0.00784314 0.         0.         0.\n",
      " 0.         0.         0.         0.         0.         0.\n",
      " 0.         0.         0.         0.         0.         0.\n",
      " 0.         0.         0.         0.         0.15294118 0.5803922\n",
      " 0.8980392  0.99215686 0.99215686 0.99215686 0.98039216 0.7137255\n",
      " 0.         0.         0.         0.         0.         0.\n",
      " 0.         0.         0.         0.         0.         0.\n",
      " 0.         0.         0.         0.         0.         0.\n",
      " 0.09411765 0.44705883 0.8666667  0.99215686 0.99215686 0.99215686\n",
      " 0.99215686 0.7882353  0.30588236 0.         0.         0.\n",
      " 0.         0.         0.         0.         0.         0.\n",
      " 0.         0.         0.         0.         0.         0.\n",
      " 0.         0.         0.09019608 0.25882354 0.8352941  0.99215686\n",
      " 0.99215686 0.99215686 0.99215686 0.7764706  0.31764707 0.00784314\n",
      " 0.         0.         0.         0.         0.         0.\n",
      " 0.         0.         0.         0.         0.         0.\n",
      " 0.         0.         0.         0.         0.07058824 0.67058825\n",
      " 0.85882354 0.99215686 0.99215686 0.99215686 0.99215686 0.7647059\n",
      " 0.3137255  0.03529412 0.         0.         0.         0.\n",
      " 0.         0.         0.         0.         0.         0.\n",
      " 0.         0.         0.         0.         0.         0.\n",
      " 0.21568628 0.6745098  0.8862745  0.99215686 0.99215686 0.99215686\n",
      " 0.99215686 0.95686275 0.52156866 0.04313726 0.         0.\n",
      " 0.         0.         0.         0.         0.         0.\n",
      " 0.         0.         0.         0.         0.         0.\n",
      " 0.         0.         0.         0.         0.53333336 0.99215686\n",
      " 0.99215686 0.99215686 0.83137256 0.5294118  0.5176471  0.0627451\n",
      " 0.         0.         0.         0.         0.         0.\n",
      " 0.         0.         0.         0.         0.         0.\n",
      " 0.         0.         0.         0.         0.         0.\n",
      " 0.         0.         0.         0.         0.         0.\n",
      " 0.         0.         0.         0.         0.         0.\n",
      " 0.         0.         0.         0.         0.         0.\n",
      " 0.         0.         0.         0.         0.         0.\n",
      " 0.         0.         0.         0.         0.         0.\n",
      " 0.         0.         0.         0.         0.         0.\n",
      " 0.         0.         0.         0.         0.         0.\n",
      " 0.         0.         0.         0.         0.         0.\n",
      " 0.         0.         0.         0.         0.         0.\n",
      " 0.         0.         0.         0.         0.         0.\n",
      " 0.         0.         0.         0.         0.         0.\n",
      " 0.         0.         0.         0.         0.         0.\n",
      " 0.         0.         0.         0.         0.         0.\n",
      " 0.         0.         0.         0.        ]\n"
     ]
    }
   ],
   "source": [
    "train_images = train_images.reshape(( len(train_labels) , 28 * 28 ) )\n",
    "print( train_images[0] ) \n",
    "train_images = train_images.astype('float32') / 255\n",
    "# Initially train_images has values between 0,255. We \n",
    "# transform it such that it is between 0,1\n",
    "print( train_images[0] ) \n",
    "test_images = test_images.reshape( ( len(test_labels) , 28 * 28 ))\n",
    "test_images = test_images.astype( 'float32') / 255\n",
    "\n",
    "# The above is to transform the data so that it is in the \n",
    "# right shape to be fed into the NN."
   ]
  },
  {
   "cell_type": "code",
   "execution_count": 320,
   "metadata": {},
   "outputs": [
    {
     "name": "stdout",
     "output_type": "stream",
     "text": [
      "[5 0 4 ... 5 6 8]\n",
      "[0. 0. 0. 0. 0. 1. 0. 0. 0. 0.]\n",
      "[1. 0. 0. 0. 0. 0. 0. 0. 0. 0.]\n",
      "[0. 0. 0. 0. 1. 0. 0. 0. 0. 0.]\n"
     ]
    }
   ],
   "source": [
    "from keras.utils import to_categorical\n",
    "print( train_labels ) \n",
    "train_labels = to_categorical( train_labels)\n",
    "test_labelsa = to_categorical( test_labels)\n",
    "print( train_labels[0] ) \n",
    "print( train_labels[1] ) \n",
    "print( train_labels[2] ) \n",
    "# The above is to categorically encode the labels. See Ch 3.\n",
    "# Essentially it is an array of size 10, with number 0 and 1\n",
    "# only. The number 5 corresponding to an array with 5th element\n",
    "# being 1, and the rest is 0"
   ]
  },
  {
   "cell_type": "code",
   "execution_count": 15,
   "metadata": {},
   "outputs": [
    {
     "name": "stdout",
     "output_type": "stream",
     "text": [
      "Epoch 1/5\n",
      "60000/60000 [==============================] - 4s 67us/step - loss: 0.2565 - accuracy: 0.9259\n",
      "Epoch 2/5\n",
      "60000/60000 [==============================] - 4s 67us/step - loss: 0.1028 - accuracy: 0.9694\n",
      "Epoch 3/5\n",
      "60000/60000 [==============================] - 5s 75us/step - loss: 0.0681 - accuracy: 0.9793\n",
      "Epoch 4/5\n",
      "60000/60000 [==============================] - 6s 95us/step - loss: 0.0493 - accuracy: 0.9854\n",
      "Epoch 5/5\n",
      "60000/60000 [==============================] - 6s 94us/step - loss: 0.0373 - accuracy: 0.9890\n"
     ]
    },
    {
     "data": {
      "text/plain": [
       "<keras.callbacks.callbacks.History at 0x10a27cf60>"
      ]
     },
     "execution_count": 15,
     "metadata": {},
     "output_type": "execute_result"
    }
   ],
   "source": [
    "# NOW WE ARE READY TO TRAIN THE NETWORK\n",
    "\n",
    "network.fit(train_images, train_labels, epochs=5, batch_size=128)\n",
    "\n",
    "# Batch is the size of the samples that were analyze each time, and it will run \n",
    "# 60000/128 times to cover the whole sample (need not cover the whole thing\n",
    "# as the batch is chosen randomly?). This is called one epoch. Then it will \n",
    "# repeat for 5 epochs. Question: Since each batch is \n",
    "# drawn randomly, it \n",
    "# won’t cover the whole\n",
    "# sample? There must\n",
    "# be some samples \n",
    "# are not covered within\n",
    "# each epoch??\n"
   ]
  },
  {
   "cell_type": "code",
   "execution_count": 30,
   "metadata": {},
   "outputs": [
    {
     "name": "stdout",
     "output_type": "stream",
     "text": [
      "[[[0 0 0 ... 0 0 0]\n",
      "  [0 0 0 ... 0 0 0]\n",
      "  [0 0 0 ... 0 0 0]\n",
      "  ...\n",
      "  [0 0 0 ... 0 0 0]\n",
      "  [0 0 0 ... 0 0 0]\n",
      "  [0 0 0 ... 0 0 0]]\n",
      "\n",
      " [[0 0 0 ... 0 0 0]\n",
      "  [0 0 0 ... 0 0 0]\n",
      "  [0 0 0 ... 0 0 0]\n",
      "  ...\n",
      "  [0 0 0 ... 0 0 0]\n",
      "  [0 0 0 ... 0 0 0]\n",
      "  [0 0 0 ... 0 0 0]]\n",
      "\n",
      " [[0 0 0 ... 0 0 0]\n",
      "  [0 0 0 ... 0 0 0]\n",
      "  [0 0 0 ... 0 0 0]\n",
      "  ...\n",
      "  [0 0 0 ... 0 0 0]\n",
      "  [0 0 0 ... 0 0 0]\n",
      "  [0 0 0 ... 0 0 0]]\n",
      "\n",
      " ...\n",
      "\n",
      " [[0 0 0 ... 0 0 0]\n",
      "  [0 0 0 ... 0 0 0]\n",
      "  [0 0 0 ... 0 0 0]\n",
      "  ...\n",
      "  [0 0 0 ... 0 0 0]\n",
      "  [0 0 0 ... 0 0 0]\n",
      "  [0 0 0 ... 0 0 0]]\n",
      "\n",
      " [[0 0 0 ... 0 0 0]\n",
      "  [0 0 0 ... 0 0 0]\n",
      "  [0 0 0 ... 0 0 0]\n",
      "  ...\n",
      "  [0 0 0 ... 0 0 0]\n",
      "  [0 0 0 ... 0 0 0]\n",
      "  [0 0 0 ... 0 0 0]]\n",
      "\n",
      " [[0 0 0 ... 0 0 0]\n",
      "  [0 0 0 ... 0 0 0]\n",
      "  [0 0 0 ... 0 0 0]\n",
      "  ...\n",
      "  [0 0 0 ... 0 0 0]\n",
      "  [0 0 0 ... 0 0 0]\n",
      "  [0 0 0 ... 0 0 0]]]\n",
      "[[[0 0 0 ... 0 0 0]\n",
      "  [0 0 0 ... 0 0 0]\n",
      "  [0 0 0 ... 0 0 0]\n",
      "  ...\n",
      "  [0 0 0 ... 0 0 0]\n",
      "  [0 0 0 ... 0 0 0]\n",
      "  [0 0 0 ... 0 0 0]]\n",
      "\n",
      " [[0 0 0 ... 0 0 0]\n",
      "  [0 0 0 ... 0 0 0]\n",
      "  [0 0 0 ... 0 0 0]\n",
      "  ...\n",
      "  [0 0 0 ... 0 0 0]\n",
      "  [0 0 0 ... 0 0 0]\n",
      "  [0 0 0 ... 0 0 0]]\n",
      "\n",
      " [[0 0 0 ... 0 0 0]\n",
      "  [0 0 0 ... 0 0 0]\n",
      "  [0 0 0 ... 0 0 0]\n",
      "  ...\n",
      "  [0 0 0 ... 0 0 0]\n",
      "  [0 0 0 ... 0 0 0]\n",
      "  [0 0 0 ... 0 0 0]]\n",
      "\n",
      " ...\n",
      "\n",
      " [[0 0 0 ... 0 0 0]\n",
      "  [0 0 0 ... 0 0 0]\n",
      "  [0 0 0 ... 0 0 0]\n",
      "  ...\n",
      "  [0 0 0 ... 0 0 0]\n",
      "  [0 0 0 ... 0 0 0]\n",
      "  [0 0 0 ... 0 0 0]]\n",
      "\n",
      " [[0 0 0 ... 0 0 0]\n",
      "  [0 0 0 ... 0 0 0]\n",
      "  [0 0 0 ... 0 0 0]\n",
      "  ...\n",
      "  [0 0 0 ... 0 0 0]\n",
      "  [0 0 0 ... 0 0 0]\n",
      "  [0 0 0 ... 0 0 0]]\n",
      "\n",
      " [[0 0 0 ... 0 0 0]\n",
      "  [0 0 0 ... 0 0 0]\n",
      "  [0 0 0 ... 0 0 0]\n",
      "  ...\n",
      "  [0 0 0 ... 0 0 0]\n",
      "  [0 0 0 ... 0 0 0]\n",
      "  [0 0 0 ... 0 0 0]]]\n"
     ]
    }
   ],
   "source": [
    "batch1 = train_images[:128]\n",
    "batch2 = train_images[128 : 256]\n",
    "# print( batch1 )\n",
    "# print( batch2 )"
   ]
  },
  {
   "cell_type": "markdown",
   "metadata": {},
   "source": [
    "### Some comments <a name = \"comments\"></a>\n",
    "    \n",
    "We have skip quite a few discussion on tensors here (see below for the practice of python with them), and we come to the notion of data batchs. \n",
    "\n",
    "1. Sample axis, which is the label of the samples in the data, which is often teh first index. \n",
    "\n",
    "2. Most of time, for a given sample we break it into different batches, which are labeld as batch axis/dim. \n",
    "\n",
    "3. There are FOUR kinds of data stuctures mostly often seen, which are just 2,3,4,5D\n",
    "\n",
    "4. Broadcasting, this allows us to add matrix with vector, in such a way that the smaller tensor will be broadcasted to match the shape of the larger tensor. This looks like it requires the two tensors have the same right-most indices. It has two steps. 1st Axes will be added to the smaller tensor such that the nubmer of axes of two tensors are the same; 2nd, the smaller tensor will be repeated along each axes such that the shape is the same. (Question: What if NO axis is the same)\n",
    "\n",
    "5. The geometric interpretaiton of DL is really basis transforamtion in high-dimensional space of the data. \n",
    "\n",
    "6. Gradient-based optimization. The tensor we talked about previously are the weight or trainable parameters of the layers, or the knowledge of the NN. They were assigned randomly initially, but through the training loop, they will be changed such that the loss function is minimized. \n",
    "\n",
    "7. What is training loop? There are four steps. 1st, Draw a batch, 2nd, Run the NN for the batch to get a result, 3rd, Compute the loss, 4th Update ALL the weights to minimize the loss. here, Compute the gradient of the loss with regard to the network’s parameters (a backward pass). This is  a mini SGD with backward pass. it is stochastic because batches are drawb randomly.  \n",
    "\n",
    "8. Momentum can be used to avoid over fitting. \n",
    "\n",
    "9. Backward propagation. We never need to implement it by hand, if we use TensorFlow, but we NEED to understand it.\n",
    "\n",
    "10. "
   ]
  },
  {
   "cell_type": "markdown",
   "metadata": {},
   "source": [
    "## Ch3. Getting started with NN<a name=\"Ch3\"></a>\n",
    "1. Two most common scenario of NN: classification (binary and multiclass, multi-label) and regression (scalar and vector).\n",
    "\n",
    "2. Five elements of NN: Layer, input data and target, loss function,  optimizer and measure\n",
    "\n",
    "3. Layer: This is essentially the data structure of the NN, which is either 2,3,4,5D. Most common ones for Keras: Sequence is 3D, densely connected/fully connected are 2D. The different layers have to be compatible, in the sense that the size of the output of the previous layer has to be the same as the size of the input of the next layer.\n",
    "\n",
    "4. Model, which is a bunch of layers. There are three kinds of topology of the NN. 2-branch (tree), multihead (graph) and inception blocks (not sure what). These topologies are the HYPOTHESIS SPACE in which we constraint our space of possibilities that the NN can look for. In a sense, it constraint the relations of the weights of differnet layers. \n",
    "\n",
    "5. Loss function. For a single output of NN, it is associated with a single loss function. Thus if there are multiple outputs, then there will more than one loss function. BUT, during the process of gradient descent, there can be ONLY ONE loss function, which is the average of all the loss functions of the output. How to chose the loss, it is STANDARD. 2-class classification: binary crossentropy; many-class classifcaiton: Categorical crossentropy; Regression: mean-square error (as usual).\n",
    "\n",
    "6. Measure\n"
   ]
  },
  {
   "cell_type": "markdown",
   "metadata": {},
   "source": [
    "### How to use Keras? <a name = \"Keras\"></a>"
   ]
  },
  {
   "cell_type": "code",
   "execution_count": 148,
   "metadata": {},
   "outputs": [],
   "source": [
    "# 1. Define your training data: input tensor and target tensors. \n",
    "\n",
    "# 2. DEfine your NN that maps your input to your targets\n",
    "#\n",
    "# These can be done in TWO ways in Keras, \n",
    "# Sequential (only for linear stacks of layers, commonly used) \n",
    "# or functional API (which could be graph-like network)\n",
    "# Funtional API in Keras manipulates data tensor as functions. \n",
    "# For more info on API, see Ch 7. \n",
    "\n",
    "from keras import models\n",
    "from keras import layers\n",
    "\n",
    "model = models.Sequential()\n",
    "model.add( layers.Dense( 32 , activation = 'relu' , input_shape = (784,) ) ) \n",
    "model.add( layers.Dense( 10 , activation = 'softmax' ) ) \n",
    "\n",
    "# The above is done via Sequentialabs\n",
    "# The same thing could be done via functional API\n",
    "\n",
    "input_tensor = layers.Input( shape = (784 , ) ) \n",
    "x = layers.Dense( 32 , activation='relu')(input_tensor) \n",
    "output_tensor = layers.Dense( 10 , activation='softmax')(x)\n",
    "model = models.Model( inputs = input_tensor , outputs = output_tensor )\n"
   ]
  },
  {
   "cell_type": "code",
   "execution_count": 149,
   "metadata": {},
   "outputs": [],
   "source": [
    "# 3. Once your model is defined, we then come to the learning\n",
    "# part, which IS THE SAME whether you use Sequential or functional API\n",
    "#\n",
    "# The learning process is configured in the compilation step, where\n",
    "# we specify the THREE things: optimizer , loss function and metric.\n",
    "\n",
    "\n",
    "\n",
    "from keras import optimizers\n",
    "\n",
    "model.compile( optimizer= optimizers.RMSprop( lr = 0.001 ) , \n",
    "             loss = 'mse' , \n",
    "             metrics = ['accuracy' ] ) \n"
   ]
  },
  {
   "cell_type": "code",
   "execution_count": null,
   "metadata": {},
   "outputs": [],
   "source": [
    "# 4. Finally is the FIT process, which consists of passing \n",
    "# Numpy array of input datas and the target datas to the model \n",
    "# via fit() method. \n",
    "#\n",
    "# Note we need to specify the batch size and the number of epochs\n",
    "\n",
    "model.fit( input_tensor , target_tenor , batch_size=128 , epochs = 10 )"
   ]
  },
  {
   "cell_type": "markdown",
   "metadata": {},
   "source": [
    "### Example of 2-class classification: Movie review <a name = \"example_classification1\"></a>"
   ]
  },
  {
   "cell_type": "markdown",
   "metadata": {},
   "source": [
    "#### Get data <a name = 'example2_get_data' ></a> \n",
    "We load the data and see how it looks like"
   ]
  },
  {
   "cell_type": "code",
   "execution_count": 275,
   "metadata": {},
   "outputs": [],
   "source": [
    "from keras.datasets import imdb\n",
    "\n",
    "(train_data , train_labels) , (test_data , test_labels) = imdb.load_data( num_words = 10000 ) \n",
    "\n",
    "# We first load the data. num_words means we keep only the first 10000 words that are most \n",
    "# frequenct"
   ]
  },
  {
   "cell_type": "code",
   "execution_count": 285,
   "metadata": {},
   "outputs": [
    {
     "name": "stdout",
     "output_type": "stream",
     "text": [
      "(25000,)\n",
      "(25000,)\n",
      "1\n",
      "218\n",
      "189\n",
      "[1 0 0 ... 0 1 0]\n",
      "0\n"
     ]
    }
   ],
   "source": [
    "print( train_data.shape ) \n",
    "print( train_labels.shape )\n",
    "# print( train_data[0] )\n",
    "print( train_labels[0] )\n",
    "print( len( train_data[0] ) )\n",
    "print( len( train_data[1] ) )\n",
    "\n",
    "print( train_labels )\n",
    "print( train_labels[1] )\n",
    "\n",
    "# 0 is positive review, and 1 is negative. We are doing binary classificaiton"
   ]
  },
  {
   "cell_type": "code",
   "execution_count": 185,
   "metadata": {},
   "outputs": [
    {
     "name": "stdout",
     "output_type": "stream",
     "text": [
      "? this film was just brilliant casting location scenery story direction everyone's really suited the part they played and you could just imagine being there robert ? is an amazing actor and now the same being director ? father came from the same scottish island as myself so i loved the fact there was a real connection with this film the witty remarks throughout the film were great it was just brilliant so much that i bought the film as soon as it was released for ? and would recommend it to everyone to watch and the fly fishing was amazing really cried at the end it was so sad and you know what they say if you cry at a film it must have been good and this definitely was also ? to the two little boy's that played the ? of norman and paul they were just brilliant children are often left out of the ? list i think because the stars that play them all grown up are such a big profile for the whole film but these children are amazing and should be praised for what they have done don't you think the whole story was so lovely because it was true and was someone's life after all that was shared with us all\n"
     ]
    }
   ],
   "source": [
    "# If we want to decode review, we do the following\n",
    "\n",
    "word_index = imdb.get_word_index() # This get the mapping from numbers to the corresponding word in the dictionary\n",
    "reverse_word_index = dict( [ (value , key) for (key , value) in word_index.items() ] ) \n",
    "\n",
    "decode_review = ' '.join( [reverse_word_index.get( i - 3 , '?' ) for i in train_data[0]])\n",
    "\n",
    "# The first three indices are for sth else, not sure why the ? mark\n",
    "\n",
    "print( decode_review )\n",
    "\n",
    "\n",
    "                           "
   ]
  },
  {
   "cell_type": "markdown",
   "metadata": {},
   "source": [
    "#### Preparing data <a name = 'example2_pre_data' ></a>\n",
    "It is important to preparing the data in the right form before using ML. There are TWO ways.\n",
    "\n",
    "1. Pad the data so that they have the same length, which is could be of the shape (samples , word_indices). And then use the \"Embedding\" layer as the first layer for it. See later. \n",
    "\n",
    "2. Here we use the folloiwng. So called one-hot encoding. It is of size ( length(sequences) , dimension ). For each sample, if certain word appears, then the corresponding entry would be 1, otherwise would be 0."
   ]
  },
  {
   "cell_type": "code",
   "execution_count": 282,
   "metadata": {},
   "outputs": [
    {
     "name": "stdout",
     "output_type": "stream",
     "text": [
      "(25000, 10000)\n",
      "(25000, 10000)\n",
      "(25000,)\n",
      "(25000,)\n"
     ]
    }
   ],
   "source": [
    "import numpy as np\n",
    "def vectorize_sequences( sequences , dimension = 10000 ): \n",
    "    results = np.zeros( ( len(sequences) , dimension ) )\n",
    "    for i , sequences in enumerate( sequences ): \n",
    "        results[ i , sequences ] = 1.\n",
    "    return results\n",
    "\n",
    "x_train = vectorize_sequences( train_data ) \n",
    "x_test = vectorize_sequences( test_data )\n",
    "\n",
    "# We also need to vectorize the labels\n",
    "# Here np.asarray convert the input into array, ndarray.astype \n",
    "# Copy of the array, cast to a specified type.\n",
    "y_train = np.asarray( train_labels).astype('float32')\n",
    "y_test = np.asarray( test_labels).astype('float32')\n",
    "\n",
    "print( x_train.shape ) \n",
    "print( x_test.shape ) \n",
    "print( y_train.shape ) \n",
    "print( y_test.shape ) \n"
   ]
  },
  {
   "cell_type": "markdown",
   "metadata": {},
   "source": [
    "#### Building NN<a name = 'example2_build_NN'></a>\n",
    "Now we have vectorized the data and the labels are scalars. The NN suitable for this problem is the \"Dense\" layers with \"relu\" activaations, or so called rectified linear unit function.\n",
    "\n",
    "There are TWO key architecture decisions for the \"Dense\" layers.\n",
    "\n",
    "1. How may layers\n",
    "2. How many nodes for each layer\n",
    "\n",
    "For the second one, it is called the number of hidden units, which is a dimension of the representation space of the layer. Recall that for each layer, it operates the following tensor operatoration\n",
    "\n",
    "output = relu( dot( W , input ) + b ) \n",
    "\n",
    "where b is the bias vector and W is the weight (to be trained). Now W is a matrix of the size ( input_dimension , number of hidden unit). \n",
    "\n",
    "Note the difference between \"relu\" and \"sigmoid\". The sigmoid function is \n",
    "\n",
    "sigmoid(x) = 1 / ( 1 + exp(-x) ) \n",
    "\n",
    "with output being [0,1] regardless of the input. \n",
    "\n",
    "while relu is \n",
    "\n",
    "relu(x) = max( x , 0 ) \n",
    "\n",
    "\n",
    "Why we need activation functions? Ans, we need some non-linearity so that we can get benefit from the fact that we have mulitple layers in the network. Without activation, the output will be simply the linear combination of inputs, no matter how many layers we have. We don't want that, rather we want the NN have richer, nontriival, non-linear structures, which is done via activation functions. There are more activation function, like relu, sigmoid, prelu, elu etc. \n",
    "\n"
   ]
  },
  {
   "cell_type": "code",
   "execution_count": 221,
   "metadata": {},
   "outputs": [],
   "source": [
    "# Here we use three layers.\n",
    "\n",
    "from keras import models\n",
    "from keras import layers\n",
    "\n",
    "model = models.Sequential()\n",
    "model.add( layers.Dense( 16 , activation = 'relu' , input_shape = (10000 , ) ) )\n",
    "model.add( layers.Dense( 16 , activation = 'relu' ) ) \n",
    "model.add( layers.Dense( 1 , activation = 'sigmoid' ) )\n",
    "\n",
    "# Chose optimizer, loss, metric\n",
    "# The following are standard choices\n",
    "model.compile( optimizer = 'rmsprop' , \n",
    "             loss = 'binary_crossentropy' , \n",
    "             metrics = ['accuracy' ] ) \n",
    "\n",
    "\n",
    "# We could put customized optimizer, loss and metric as follows\n",
    "# from keras import optimizers\n",
    "# from keras import losses\n",
    "# from keras import metrics\n",
    "\n",
    "# model.compile(optimizer=optimizers.RMSprop(lr=0.001), loss='binary_crossentropy',\n",
    "# metrics=['accuracy'])\n",
    "\n",
    "# model.compile(optimizer=optimizers.RMSprop(lr=0.001), loss=losses.binary_crossentropy,\n",
    "# metrics=[metrics.binary_accuracy])"
   ]
  },
  {
   "cell_type": "markdown",
   "metadata": {},
   "source": [
    "#### Validation: Separate the datas <a name = \"example2_validation1\" ></a>\n",
    "This is like separate your training set into two parts, and train on one part, and test on the other part. Repeat the process until you are satisfied. \n",
    "Keras fit() function allow you to simply for validation data at the end fro validation. Here the number of epoches covers the whole training set, including validation data."
   ]
  },
  {
   "cell_type": "code",
   "execution_count": 222,
   "metadata": {},
   "outputs": [
    {
     "name": "stdout",
     "output_type": "stream",
     "text": [
      "Train on 15000 samples, validate on 10000 samples\n",
      "Epoch 1/20\n",
      "15000/15000 [==============================] - 2s 117us/step - loss: 0.5077 - acc: 0.7953 - val_loss: 0.3836 - val_acc: 0.8740\n",
      "Epoch 2/20\n",
      "15000/15000 [==============================] - 1s 91us/step - loss: 0.3047 - acc: 0.9039 - val_loss: 0.3163 - val_acc: 0.8774\n",
      "Epoch 3/20\n",
      "15000/15000 [==============================] - 1s 89us/step - loss: 0.2261 - acc: 0.9259 - val_loss: 0.2770 - val_acc: 0.8925\n",
      "Epoch 4/20\n",
      "15000/15000 [==============================] - 1s 80us/step - loss: 0.1798 - acc: 0.9423 - val_loss: 0.2787 - val_acc: 0.8888\n",
      "Epoch 5/20\n",
      "15000/15000 [==============================] - 1s 82us/step - loss: 0.1475 - acc: 0.9535 - val_loss: 0.2800 - val_acc: 0.8885\n",
      "Epoch 6/20\n",
      "15000/15000 [==============================] - 1s 99us/step - loss: 0.1222 - acc: 0.9619 - val_loss: 0.2872 - val_acc: 0.8879\n",
      "Epoch 7/20\n",
      "15000/15000 [==============================] - 1s 79us/step - loss: 0.1001 - acc: 0.9706 - val_loss: 0.3026 - val_acc: 0.8857\n",
      "Epoch 8/20\n",
      "15000/15000 [==============================] - 1s 77us/step - loss: 0.0846 - acc: 0.9763 - val_loss: 0.3330 - val_acc: 0.8807\n",
      "Epoch 9/20\n",
      "15000/15000 [==============================] - 1s 77us/step - loss: 0.0673 - acc: 0.9825 - val_loss: 0.3579 - val_acc: 0.8785\n",
      "Epoch 10/20\n",
      "15000/15000 [==============================] - 1s 77us/step - loss: 0.0549 - acc: 0.9863 - val_loss: 0.3693 - val_acc: 0.8791\n",
      "Epoch 11/20\n",
      "15000/15000 [==============================] - 1s 77us/step - loss: 0.0460 - acc: 0.9894 - val_loss: 0.3941 - val_acc: 0.8770\n",
      "Epoch 12/20\n",
      "15000/15000 [==============================] - 1s 80us/step - loss: 0.0358 - acc: 0.9918 - val_loss: 0.4507 - val_acc: 0.8676\n",
      "Epoch 13/20\n",
      "15000/15000 [==============================] - 1s 99us/step - loss: 0.0293 - acc: 0.9945 - val_loss: 0.4566 - val_acc: 0.8714\n",
      "Epoch 14/20\n",
      "15000/15000 [==============================] - 2s 101us/step - loss: 0.0224 - acc: 0.9961 - val_loss: 0.4976 - val_acc: 0.8681\n",
      "Epoch 15/20\n",
      "15000/15000 [==============================] - 2s 124us/step - loss: 0.0175 - acc: 0.9979 - val_loss: 0.5244 - val_acc: 0.8713\n",
      "Epoch 16/20\n",
      "15000/15000 [==============================] - 2s 127us/step - loss: 0.0143 - acc: 0.9979 - val_loss: 0.5563 - val_acc: 0.8711\n",
      "Epoch 17/20\n",
      "15000/15000 [==============================] - 2s 118us/step - loss: 0.0096 - acc: 0.9993 - val_loss: 0.5934 - val_acc: 0.8702\n",
      "Epoch 18/20\n",
      "15000/15000 [==============================] - 1s 79us/step - loss: 0.0093 - acc: 0.9986 - val_loss: 0.6274 - val_acc: 0.8677\n",
      "Epoch 19/20\n",
      "15000/15000 [==============================] - 1s 96us/step - loss: 0.0046 - acc: 0.9998 - val_loss: 0.6595 - val_acc: 0.8672\n",
      "Epoch 20/20\n",
      "15000/15000 [==============================] - 1s 83us/step - loss: 0.0060 - acc: 0.9991 - val_loss: 0.6954 - val_acc: 0.8671\n"
     ]
    }
   ],
   "source": [
    "x_val = x_train[ :10000 ] # Remember we have vectoerize the thing\n",
    "partial_x_train = x_train[ 10000: ] \n",
    "y_val = y_train[ :10000 ] # Remember we have vectoerize the thing\n",
    "partial_y_train = y_train[ 10000: ] \n",
    "\n",
    "\n",
    "model.compile( optimizer='rmsprop', \n",
    "              loss='binary_crossentropy',\n",
    "              metrics=['acc'] ) # Note that this is not \"accuracy\" i guess...\n",
    "\n",
    "history = model.fit(partial_x_train, \n",
    "                    partial_y_train,\n",
    "                    epochs=20,\n",
    "                    batch_size=512, \n",
    "                    validation_data=(x_val , y_val) )\n"
   ]
  },
  {
   "cell_type": "code",
   "execution_count": 223,
   "metadata": {},
   "outputs": [
    {
     "data": {
      "text/plain": [
       "dict_keys(['val_loss', 'val_acc', 'loss', 'acc'])"
      ]
     },
     "execution_count": 223,
     "metadata": {},
     "output_type": "execute_result"
    }
   ],
   "source": [
    "# The fit()  return a History obj with a member \n",
    "# history that has data about everything in the training\n",
    "# process. The dictionary has FOUR keys, one per metric that \n",
    "# was monitored\n",
    "history_dict = history.history \n",
    "history_dict.keys()"
   ]
  },
  {
   "cell_type": "markdown",
   "metadata": {},
   "source": [
    "#### Validation: Plot the losses <a name = \"example2_validation2\" ></a>\n",
    "Here we plot the training and validation loss, and acc side by side. The lessson we learn is the following. Indeed, the training loss decreases as the number of epochs increase, and the acc increases. This is expected (that is why trainign is for, which is minimize the loss and maximize the acc). However, this is not the case for the validation set, where after some point, the loss increases, and the acc decreases. That happens after the number of epochs exceed 3. This is called the OVER-FITTING, which means that as the number of epochs increases, the NN will perform better and better on the training data, because you forces it to remember more details of the training. However, it loses the ability to generate for the un-seen data, which is the validation set here. "
   ]
  },
  {
   "cell_type": "code",
   "execution_count": 230,
   "metadata": {},
   "outputs": [
    {
     "data": {
      "image/png": "[encoded data removed]",
      "text/plain": [
       "<Figure size 432x288 with 2 Axes>"
      ]
     },
     "metadata": {
      "needs_background": "light"
     },
     "output_type": "display_data"
    }
   ],
   "source": [
    "# Here we plot the training and validation loss side by side.\n",
    "\n",
    "import matplotlib.pyplot as plt\n",
    "\n",
    "history_dict = history.history\n",
    "loss_values = history_dict['loss']\n",
    "val_loss_values = history_dict['val_loss']\n",
    "\n",
    "epochs = range( 1 , len(loss_values) + 1 ) \n",
    "\n",
    "plt.subplot(1,2,1)\n",
    "plt.plot( epochs , loss_values , 'bo' , label = 'Training loss' )\n",
    "plt.plot( epochs , val_loss_values , 'b' , label = 'Validation loss' ) \n",
    "plt.title( 'Training vs validation loss' ) \n",
    "plt.xlabel( 'Epochs' ) \n",
    "plt.ylabel( 'Loss' ) \n",
    "plt.legend() \n",
    "\n",
    "# Here we plot the training and validation accurary side by side.\n",
    "\n",
    "acc_values = history_dict['acc']\n",
    "val_acc_values = history_dict['val_acc']\n",
    "\n",
    "\n",
    "epochs = range( 1 , len(loss_values) + 1 ) \n",
    "\n",
    "plt.subplot(1,2,2)\n",
    "plt.plot( epochs , acc_values , 'bo' , label = 'Training acc' )\n",
    "plt.plot( epochs , val_acc_values , 'b' , label = 'Validation acc' ) \n",
    "plt.title( 'Training vs validation acc' ) \n",
    "plt.xlabel( 'Epochs' ) \n",
    "plt.ylabel( 'acc' ) \n",
    "plt.legend() \n",
    "\n",
    "plt.show()\n",
    "\n"
   ]
  },
  {
   "cell_type": "markdown",
   "metadata": {},
   "source": [
    "#### Apply to test data <a name = \"example2_apply_test\" ></a>\n",
    "We have seen the over-fitting. Thus let's fix our number of epoches to be 4, and train a new NN from stratch, and see how it works. "
   ]
  },
  {
   "cell_type": "code",
   "execution_count": 235,
   "metadata": {},
   "outputs": [
    {
     "name": "stdout",
     "output_type": "stream",
     "text": [
      "Epoch 1/4\n",
      "25000/25000 [==============================] - 2s 67us/step - loss: 0.4355 - accuracy: 0.8204\n",
      "Epoch 2/4\n",
      "25000/25000 [==============================] - 1s 47us/step - loss: 0.2490 - accuracy: 0.9135\n",
      "Epoch 3/4\n",
      "25000/25000 [==============================] - 1s 48us/step - loss: 0.1951 - accuracy: 0.9299\n",
      "Epoch 4/4\n",
      "25000/25000 [==============================] - 1s 48us/step - loss: 0.1645 - accuracy: 0.9421\n",
      "25000/25000 [==============================] - 2s 65us/step\n",
      "[0.3177081020259857, 0.8763200044631958]\n"
     ]
    }
   ],
   "source": [
    "# Step 1: Load the data. \n",
    "\n",
    "from keras.datasets import imdb\n",
    "\n",
    "(train_data , train_labels) , (test_data , test_labels) = imdb.load_data( num_words = 10000 ) \n",
    "\n",
    "\n",
    "# Step 2: Data vectorization\n",
    "\n",
    "import numpy as np\n",
    "def vectorize_sequences( sequences , dimension = 10000): \n",
    "    results = np.zeros( ( len(sequences) , dimension ) )\n",
    "    for i , sequences in enumerate( sequences ): \n",
    "        results[ i , sequences ] = 1.\n",
    "    return results\n",
    "\n",
    "x_train = vectorize_sequences( train_data ) \n",
    "x_test = vectorize_sequences( test_data )\n",
    "\n",
    "y_train = np.asarray( train_labels).astype('float32')\n",
    "y_test = np.asarray( test_labels).astype('float32')\n",
    "\n",
    "# Step 3: Train the NN\n",
    "\n",
    "from keras import models\n",
    "from keras import layers\n",
    "\n",
    "model = models.Sequential()\n",
    "model.add( layers.Dense( 16 , activation = 'relu' , input_shape = (10000 , ) ) )\n",
    "model.add( layers.Dense( 16 , activation = 'relu' ) ) \n",
    "model.add( layers.Dense( 1 , activation = 'sigmoid' ) )\n",
    "\n",
    "model.compile( optimizer = 'rmsprop' , \n",
    "             loss = 'binary_crossentropy' , \n",
    "             metrics = ['accuracy' ] ) \n",
    "\n",
    "model.fit( x_train , y_train , epochs = 4 , batch_size = 512 ) \n",
    "\n",
    "# Step 4: Apply to test data\n",
    "\n",
    "results = model.evaluate( x_test , y_test ) \n",
    "print( results ) "
   ]
  },
  {
   "cell_type": "markdown",
   "metadata": {},
   "source": [
    "#### Summary of the exmple <a name = \"example2_summary\"></a>\n",
    "What you can do\n",
    "1. Try one or three hidden layers\n",
    "2. Try more hidden units or nodes\n",
    "3. Try replace the loss function from binary_crossentropy to mse\n",
    "4. Try replace relu to tanh\n",
    "\n",
    "What you have learnt\n",
    "1. The workflow of the NN, there are FOUR steps\n",
    "2. \"Dense\" layer with relu is useful for many classiication prlbem\n",
    "3. For classficaiton problem, the last unit usually come with \"sigmoid\" bewteen 0 and 1, for probability\n",
    "4. The \"rmsprop\" optimizer is good enough, and that is the last thing you should worry about\n",
    "5. There is over-fititng problem, do you validation homework"
   ]
  },
  {
   "cell_type": "markdown",
   "metadata": {},
   "source": [
    "### Example of more-class classificaiton: NewsWire <a name = \"example_classification2\"></a>\n",
    "Here we try to understand the problem of the type **single-valued** and **multiclass** classification, because our data would be single type, if it is **multile categories**, it would be **multilabel**, and **multiclasss** classification. \n",
    "\n",
    "Reuters dataset, has 46 different topics, each topic has at least 10 examples. Our jobs is to classify the topics, or it is 46-fold classification."
   ]
  },
  {
   "cell_type": "markdown",
   "metadata": {},
   "source": [
    "#### Get data <a name = 'example2_classification2_get_data'></a>"
   ]
  },
  {
   "cell_type": "code",
   "execution_count": 699,
   "metadata": {
    "code_folding": []
   },
   "outputs": [
    {
     "name": "stdout",
     "output_type": "stream",
     "text": [
      "8982\n",
      "8982\n",
      "2246\n",
      "2246\n"
     ]
    }
   ],
   "source": [
    "from keras.datasets import reuters\n",
    "( train_data , train_labels) , ( test_data , test_labels) = reuters.load_data( num_words = 10000 ) \n",
    "# Again, we care only the 10000 most frequent occuring words\n",
    "\n",
    "print( len( train_data ) ) \n",
    "print( len( train_targets ) ) \n",
    "print( len( test_data ) ) \n",
    "print( len( test_targets ) ) \n",
    "\n",
    "# for i , label in enumerate( train_labels ):\n",
    "#     print( i ) \n",
    "#     print( label ) \n",
    "    "
   ]
  },
  {
   "cell_type": "markdown",
   "metadata": {},
   "source": [
    "#### Preparing data <a name = 'example2_classification2_pre_data'></a>\n",
    "Vectorize the data and labels"
   ]
  },
  {
   "cell_type": "code",
   "execution_count": 647,
   "metadata": {},
   "outputs": [
    {
     "name": "stdout",
     "output_type": "stream",
     "text": [
      "(8982, 46)\n"
     ]
    }
   ],
   "source": [
    "import numpy as np\n",
    "def vectorize_sequences( sequences , dimension = 10000 ):\n",
    "    results = np.zeros( ( len( sequences) , dimension ) )\n",
    "    for i , sequences in enumerate( sequences ):\n",
    "        results[ i , sequences ] = 1.\n",
    "    return results\n",
    "\n",
    "x_train = vectorize_sequences( train_data ) \n",
    "x_test = vectorize_sequences( test_data )\n",
    "\n",
    "def vectorize_labels( labels , dimension = 46 ):\n",
    "    results = np.zeros( ( len( labels ) , dimension ) ) \n",
    "    for i , label in enumerate( labels ):\n",
    "        results[ i , label ] = 1.\n",
    "    return results\n",
    "\n",
    "one_hot_train_labels = vectorize_labels( train_labels ) \n",
    "one_hot_test_labels = vectorize_labels( test_labels ) \n",
    "\n",
    "print( one_hot_train_labels.shape ) \n",
    "\n",
    "# # Just use the Keras built in things\n",
    "# one_hot_train_labels = to_categorical( train_labels ) \n",
    "# one_hot_test_labels = to_categorical( test_labels ) "
   ]
  },
  {
   "cell_type": "markdown",
   "metadata": {},
   "source": [
    "#### Building NN <a name = 'example2_classification2_build_NN'></a>\n",
    "One difference with N-class and 2-class classifciaiton is that, since we have a stack of Dense layers, each layer can only accss to the output of the pervious layers, we don't want the **size** of each layer to be smaller than N, the number of class. This is intuitive: If we start from certain layer with output number less than N, it is asking the rest of the network to give N-class with number of data points less than N, which is impossible. Thus we need a larger NN for larger class.\n",
    "\n",
    "A few things to note for the following network\n",
    "1. The last layer has 46 output (units), each for one classificaiton\n",
    "2. **softmax** gives the probabilty distribution over the 46 classes: For a single input sample, the CNN gives the probability of it being in each class. The sum of the prob is 1.\n",
    "3. The loss function is **categorical_crossentropy**, which measures the distance betweetn the true prob distribution and the output prob distribution\n",
    "4. There is another way to pre-process the labels, as discussed in [Different way to handle labels and loss](#diff_way_handle_label_loss), where we encode the labels as integers, rather than using the one-hot enconding. That case, we shall use the **sparse_categorical_crossentropy** as the loss function"
   ]
  },
  {
   "cell_type": "code",
   "execution_count": 648,
   "metadata": {},
   "outputs": [],
   "source": [
    "from keras import models\n",
    "from keras import layers\n",
    "\n",
    "model = models.Sequential()\n",
    "model.add( layers.Dense( 64 , activation = 'relu' , input_shape = (10000,) ) ) \n",
    "model.add( layers.Dense( 64 , activation = 'relu' ) ) \n",
    "model.add( layers.Dense( 46 , activation = 'softmax' ) ) \n",
    "\n",
    "model.compile( optimizer= 'rmsprop' , \n",
    "             loss = 'categorical_crossentropy' , \n",
    "             metrics = ['accuracy' ] ) \n"
   ]
  },
  {
   "cell_type": "markdown",
   "metadata": {},
   "source": [
    "#### Validation: Separate the datas <a name = 'example2_classification2_validation1'></a>\n",
    "Take out 1000 as the validation data"
   ]
  },
  {
   "cell_type": "code",
   "execution_count": 651,
   "metadata": {},
   "outputs": [
    {
     "name": "stdout",
     "output_type": "stream",
     "text": [
      "(8982, 10000)\n",
      "(8982, 46)\n",
      "(7982, 10000)\n",
      "(7982, 46)\n",
      "Train on 7982 samples, validate on 1000 samples\n",
      "Epoch 1/20\n",
      "7982/7982 [==============================] - 2s 243us/step - loss: 2.6632 - accuracy: 0.5475 - val_loss: 1.7645 - val_accuracy: 0.6600\n",
      "Epoch 2/20\n",
      "7982/7982 [==============================] - 1s 131us/step - loss: 1.4244 - accuracy: 0.7111 - val_loss: 1.3154 - val_accuracy: 0.7260\n",
      "Epoch 3/20\n",
      "7982/7982 [==============================] - 1s 133us/step - loss: 1.0516 - accuracy: 0.7751 - val_loss: 1.1457 - val_accuracy: 0.7570\n",
      "Epoch 4/20\n",
      "7982/7982 [==============================] - 1s 136us/step - loss: 0.8242 - accuracy: 0.8266 - val_loss: 1.0315 - val_accuracy: 0.7810\n",
      "Epoch 5/20\n",
      "7982/7982 [==============================] - 1s 137us/step - loss: 0.6576 - accuracy: 0.8641 - val_loss: 0.9577 - val_accuracy: 0.8030\n",
      "Epoch 6/20\n",
      "7982/7982 [==============================] - 1s 118us/step - loss: 0.5268 - accuracy: 0.8929 - val_loss: 0.9282 - val_accuracy: 0.8030\n",
      "Epoch 7/20\n",
      "7982/7982 [==============================] - 1s 110us/step - loss: 0.4311 - accuracy: 0.9109 - val_loss: 0.8966 - val_accuracy: 0.8140\n",
      "Epoch 8/20\n",
      "7982/7982 [==============================] - 1s 108us/step - loss: 0.3494 - accuracy: 0.9262 - val_loss: 0.8960 - val_accuracy: 0.8220\n",
      "Epoch 9/20\n",
      "7982/7982 [==============================] - 1s 115us/step - loss: 0.2944 - accuracy: 0.9375 - val_loss: 0.9169 - val_accuracy: 0.8100\n",
      "Epoch 10/20\n",
      "7982/7982 [==============================] - 1s 120us/step - loss: 0.2460 - accuracy: 0.9440 - val_loss: 0.8982 - val_accuracy: 0.8170\n",
      "Epoch 11/20\n",
      "7982/7982 [==============================] - 1s 123us/step - loss: 0.2119 - accuracy: 0.9479 - val_loss: 0.8839 - val_accuracy: 0.8250\n",
      "Epoch 12/20\n",
      "7982/7982 [==============================] - 1s 108us/step - loss: 0.1857 - accuracy: 0.9515 - val_loss: 0.9600 - val_accuracy: 0.8120\n",
      "Epoch 13/20\n",
      "7982/7982 [==============================] - 1s 106us/step - loss: 0.1700 - accuracy: 0.9536 - val_loss: 0.9444 - val_accuracy: 0.8130\n",
      "Epoch 14/20\n",
      "7982/7982 [==============================] - 1s 121us/step - loss: 0.1541 - accuracy: 0.9548 - val_loss: 0.9299 - val_accuracy: 0.8220\n",
      "Epoch 15/20\n",
      "7982/7982 [==============================] - 2s 200us/step - loss: 0.1439 - accuracy: 0.9567 - val_loss: 0.9678 - val_accuracy: 0.8170\n",
      "Epoch 16/20\n",
      "7982/7982 [==============================] - 2s 312us/step - loss: 0.1324 - accuracy: 0.9564 - val_loss: 1.0258 - val_accuracy: 0.8050\n",
      "Epoch 17/20\n",
      "7982/7982 [==============================] - 2s 199us/step - loss: 0.1254 - accuracy: 0.9585 - val_loss: 1.0056 - val_accuracy: 0.8160\n",
      "Epoch 18/20\n",
      "7982/7982 [==============================] - 1s 186us/step - loss: 0.1223 - accuracy: 0.9593 - val_loss: 1.0395 - val_accuracy: 0.8160\n",
      "Epoch 19/20\n",
      "7982/7982 [==============================] - 1s 108us/step - loss: 0.1203 - accuracy: 0.9575 - val_loss: 1.0275 - val_accuracy: 0.8150\n",
      "Epoch 20/20\n",
      "7982/7982 [==============================] - 1s 112us/step - loss: 0.1145 - accuracy: 0.9584 - val_loss: 1.0219 - val_accuracy: 0.8120\n"
     ]
    }
   ],
   "source": [
    "x_val = x_train[ : 1000 ]\n",
    "partial_x_train = x_train[ 1000 : ]\n",
    "y_val = one_hot_train_labels[ : 1000 ]\n",
    "partial_y_train = one_hot_train_labels[ 1000 : ]\n",
    "\n",
    "print( x_train.shape ) \n",
    "print( one_hot_train_labels.shape ) \n",
    "\n",
    "print( partial_x_train.shape ) \n",
    "print( partial_y_train.shape ) \n",
    "\n",
    "history = model.fit( partial_x_train , \n",
    "                   partial_y_train ,\n",
    "                    epochs = 20 , \n",
    "                    batch_size = 512 , \n",
    "                    validation_data = ( x_val , y_val ) )"
   ]
  },
  {
   "cell_type": "markdown",
   "metadata": {},
   "source": [
    "#### Validation: Plot the losses <a name = 'example2_classification2_validation2'></a>"
   ]
  },
  {
   "cell_type": "code",
   "execution_count": 659,
   "metadata": {},
   "outputs": [
    {
     "name": "stdout",
     "output_type": "stream",
     "text": [
      "{'val_loss': [65.3311567541055, 39.776090942392365, 34.32261133918742, 27.680670603362863, 23.473644146365363, 22.52619806592619, 22.79192004368253, 22.770185779291435, 17.891637504778544, 17.22231869969295, 19.80953382602939, 17.605009325823776, 16.321068039287567, 20.478961443159694, 15.61127507652789, 16.718608436294563, 14.699746130739483, 15.916404533125082, 16.031627229373385, 14.611600887082844, 18.139140705647186, 14.015900961077302, 14.239361140213095, 12.561681124091258, 13.30613582983318, 12.55906216896803, 12.260872022373288, 12.29156907676563, 11.712689146895704, 12.450729773651883, 12.56630845620305, 13.483685229759718, 13.15491041243837, 11.78229565013464, 12.88459904933127, 13.023799285264962, 12.108842663661724, 15.469679353627438, 12.555042235641787, 11.742788167993105, 11.880856605593747, 12.777319117148965, 12.349031028275535, 11.934441249798015, 13.97433355483653, 11.428836756669408, 11.156954098963132, 11.412460465727767, 11.697844318199515, 11.250578743562397, 12.011186958216905, 12.337325209267622, 12.178285356486853, 11.327628672268187, 11.572528048414428, 11.095232769357194, 11.547587482355498, 10.89704412067687, 11.776617650933643, 11.509231031617169, 11.466086535947541, 11.513909517327498, 10.878487468141564, 11.353505508656214, 11.826184791835523, 11.274384294338594, 11.077379363542308, 11.407087584223545, 11.823160643403483, 11.348023253455551, 11.535188405061922, 10.740262542298584, 11.037835361880347, 14.468348459376976, 12.320054728812122, 11.065318511526957, 10.196312874574318, 12.710773596032938, 11.184319578576185, 14.380173534172181, 10.056968553236862, 11.607888777131713, 10.254099730050823, 10.31047039789535, 11.046551178993269, 9.971497246822674, 11.647552685435206, 10.820723609676952, 12.975559028220285, 10.762306096291603, 11.109022101723085, 11.377209244102602, 11.485624256451604, 10.960727207325768, 10.668497398350443, 10.295484725284473, 10.907976301165071, 11.585771309493667, 11.870662813715747, 10.849608952646365, 10.990505034799636, 12.256060263684876, 10.94029323541168, 12.084088799294712, 10.74751931502274, 12.117025012888089, 10.008791942240459, 9.79032624602715, 10.873732757974775, 10.368831819473481, 11.182109516187765, 10.525392988269358, 11.768114437497829, 9.791652520158383, 10.366831844489905, 10.82123230183255, 12.160218325327294, 10.89712327180919, 11.043144851552743, 10.081087021443862, 10.535608439033131, 10.981081374146338, 11.402706202919656, 9.641788224146776, 10.21196618419438, 9.848204830273557, 10.717139214437482, 10.058930607633618, 11.48641505815717, 11.387720414948543, 11.184878863368903, 10.15860658798927, 12.634969771101996, 10.743748031331844, 10.069616052005982, 10.55061410463618, 12.081727217527286, 10.640027858140547, 12.421999816619099, 10.501246002437039, 10.781571683541602, 10.865363658600922, 11.282211145569223, 10.651188596404626, 10.474688320334236, 11.273722748484204, 11.259925015301976, 10.630266794053108, 12.447139341542082, 9.531828820530503, 9.956735663198968, 9.748018149767875, 10.409433149802672, 10.152983615106885, 9.59336286511346, 10.036261642000195, 10.745350843100661, 10.289103100297622, 10.692397897947801, 10.49608223188189, 10.085275915301507, 11.01686289372144, 11.551699779498954, 11.743552048921142, 10.236048154720212, 10.003178234232127, 12.719112821227622, 10.945822092821034, 10.675044961083811, 10.549677406397354, 10.49193488142573, 10.728818675470862, 10.940691456562059, 10.84922628008961, 11.01185695745722, 10.051327843984387, 10.640393516860238, 11.411730008719646, 11.496731827229187, 11.453003342329902, 10.852511891076322, 12.516667835979197, 11.492266653801803, 10.234439696689565, 12.459450470223691, 12.359721258965017, 11.081772637189284, 10.962543924886036, 12.61372473296631, 9.850524183592707, 10.286291907384697, 11.774103224088465, 9.844982801992469, 10.519427263546772, 10.927765613629846, 9.613802498727484, 12.55826472032799, 11.780731899813647, 11.058068283976777, 11.240432644936044, 10.490413442413129, 12.564543059319925, 10.48954338531268, 12.654398422164952, 10.994893745696725, 12.080461966491645, 13.261745644357553, 11.6413525543775, 9.836769459838035, 12.075115144137515, 12.862921366995579, 10.113928052677432, 11.893327762829376, 11.689800425947846, 10.449994934995953, 11.015308582012445, 11.687384869371677, 11.755015448881498, 12.302777554598373, 11.231973049502894, 10.992727318675042, 10.543350873671766, 11.46447047514855, 11.023617577342556, 10.955677665488812, 11.006285483068279, 12.847765292896398, 11.719314388968257, 12.531713320081678, 10.86539141863981, 11.256658129028095, 11.873176343726353, 13.280287280346792, 11.88398772697308, 11.72025412732348, 11.150501354622866, 11.54384481018446, 11.509621295098233, 10.863472428163606, 11.504212209246893, 10.389840810269552, 12.343409710462288, 12.921313927478922, 12.037928154618285, 12.186794953734273, 11.90736489839815, 11.791193818500634, 11.977544576941073, 10.965935815415914, 11.357686833466984, 12.575537758883973, 11.417199296182906, 11.05332478821349, 10.768702672204316, 11.508758675254015, 10.500545356247464, 12.971465700649482, 12.578036080928298, 10.409328385003805, 10.838445667762974, 11.385151716939573, 11.10936545092733, 11.89665979744897, 11.768126593036076, 11.764489002391525, 10.433418090586633, 11.835506468261379, 11.49151284216516, 11.561622943853646, 11.741023956153699, 11.148711052986316, 11.063064687314794, 11.604472803910053, 12.4958389158233, 10.89721076955355, 11.89152140730282, 11.522090089796855, 13.090380321117493, 12.13504893457895, 12.422137335919668, 11.571214227239391, 11.52560947469083, 14.158431707134488, 11.3299609481168, 11.540383247499548, 12.96275170767417, 12.63215307663725, 12.358268080685532, 11.616475433708395, 12.04842548565893, 12.363837242284951, 12.332381280253776, 11.617373671097102, 10.971368267196278, 12.040184809263293, 12.687486459948307, 11.865505270567713, 11.823908487541743, 11.440298954249096, 10.490947587704886, 11.624458745580702, 12.84551649897606, 11.108117978530014, 11.527772955196486, 10.187797875922907, 13.992230955517131, 11.89330376746677, 11.415479546260679, 11.95081842869079, 11.373123203775538, 11.2934203155046, 11.226333294944702, 11.532691394445743, 11.34567767996537, 12.130202175972414, 11.65659369673928, 12.17052636920108, 11.940386037913953, 11.992950105878275, 12.07894192289764, 11.87908706573818, 10.85732156628804, 12.329237632592909, 11.110863232362721, 12.303808273196609, 11.864865515020325, 11.961818305810679, 11.656400748146769, 11.911147564165478, 12.25361731643489, 12.21247069386415, 11.936371548913044, 11.863568916999837, 11.212625553641022, 10.997925142144396, 12.182984163065436, 11.338976000314625, 12.234816147454946, 10.946965022215347, 11.607283619014629, 11.697233101660224, 10.742593120599723, 12.455691906012362, 11.797499330852661, 11.526683771359794, 11.290294799704732, 11.406707287364926, 13.736556675939793, 11.406114047070467, 11.075187637402694, 11.522262124549874, 11.588487254164107, 11.861103766938985, 11.133505986704915, 12.432518915619037, 11.478453169103094, 11.755333923777949, 11.319070897584217, 11.173291440610543, 12.370201978841704, 12.322139398404051, 11.175845650256715, 11.87313064726186, 11.965410798121852, 11.94271442607837, 11.058701252446067, 11.028619943220535, 12.129428748638741, 11.889728588846578, 12.809146471039766, 11.831866145993832, 13.695942451423875, 11.304745525228883, 11.879099989357309, 12.915280366869698, 11.914896120616099, 12.843217641887485, 12.014743528223947, 11.869111323004011, 12.129566811310706, 12.754096997677548, 13.717300574560326, 12.31862914376537, 12.61541999500858, 12.366739948217914, 11.537812413036734, 11.91091265110299, 12.18103127077563, 16.655474447662826, 10.947803195290245, 14.559492101048566, 12.015418878315007, 14.20721447985564, 11.131116361024162, 11.82692696709889, 11.405576453305606, 13.798701377522136, 12.043030425781698, 12.689781064275966, 10.866371028906912, 11.415241893949126, 11.692653138614963, 13.255928202901073, 12.244842967079647, 13.817661345980879, 13.48659210519215, 11.521258065025183, 11.844822196621854, 13.345741135234215, 11.718478283430663, 11.17588955701541, 11.15008881830698, 10.839376662225039, 12.58156837507308, 11.250312844365242, 11.559941194383, 13.338718300427098, 12.785005292938768, 12.09435125358609, 11.10301182430876, 11.440058018422068, 11.167148101421907, 13.121674063475025, 12.21453776528686, 10.95295434707196, 11.04353059378584, 12.075505577276765, 11.774276006070085, 11.333151501348983, 11.547879993160011, 11.206109856336612, 10.8058997791861, 11.80116850309452, 11.798564801732594, 11.318831831231796, 11.363603020977866, 10.853078589074448, 10.46462519410917, 11.277320146881243, 10.760413231509093, 11.308609320941187, 10.334381166583913, 12.075841505337497, 10.572865080535596, 11.673463521110317, 11.811445593423588, 12.001574647031946, 11.452848711559643, 11.47923523285841, 11.786545140710244, 11.332718823307959, 12.34043554514462, 11.196656414943904, 11.885120759256061, 10.689283006298956, 12.35718212618235, 12.631220618287236, 11.54326956426681, 11.75820554164602, 10.912363280577926, 11.704249008111471, 11.015055351597605, 11.10872843005178, 11.604611335177463, 12.434844627188596, 11.301924379577049, 10.933735837085239, 11.624334305490247, 12.39819823963986, 10.942490057076908, 11.849445703127053, 11.634798237154868, 10.935304897008026, 11.296661566174128, 10.803479604529123, 11.8579395358283, 11.267758376335053, 11.66178952625925, 13.072226912480557, 11.75955469174873, 11.634338584612447, 11.80103961395222, 12.398508997724823, 12.741647663057261, 11.297989030414731, 11.742471542936983, 11.888876423519797, 12.504967256887774, 12.71599434467844, 11.429731481056091, 11.843527792551841, 11.444512407106952, 12.402724263242717, 11.837286215708914, 11.84874085486938, 11.143946190477076, 11.124408122670916, 12.954272402284465, 11.18837321261789, 10.93133025730838], 'val_mae': [5.523077487945557, 4.1374831199646, 3.555220127105713, 3.2080938816070557, 2.9883244037628174, 2.987407684326172, 3.2139437198638916, 2.9211301803588867, 2.736867666244507, 2.608494520187378, 2.864055633544922, 2.722028970718384, 2.580324172973633, 2.9588067531585693, 2.570664882659912, 2.641514539718628, 2.542715549468994, 2.6418521404266357, 2.6021974086761475, 2.496811866760254, 3.110607147216797, 2.4963808059692383, 2.5381052494049072, 2.427574634552002, 2.5158743858337402, 2.459254741668701, 2.4194233417510986, 2.4227747917175293, 2.378005266189575, 2.4702744483947754, 2.516080379486084, 2.6461331844329834, 2.578428030014038, 2.4374170303344727, 2.5760295391082764, 2.596708297729492, 2.4748339653015137, 2.8639793395996094, 2.4969303607940674, 2.3966662883758545, 2.411832571029663, 2.4831221103668213, 2.4761972427368164, 2.391998291015625, 2.7840497493743896, 2.3455028533935547, 2.2873659133911133, 2.302049160003662, 2.3331003189086914, 2.3261852264404297, 2.4080255031585693, 2.419857978820801, 2.4366817474365234, 2.3224833011627197, 2.350356101989746, 2.2844669818878174, 2.4053962230682373, 2.2705771923065186, 2.4252281188964844, 2.3367292881011963, 2.3177075386047363, 2.3504443168640137, 2.3612654209136963, 2.32837176322937, 2.4001176357269287, 2.3668479919433594, 2.293905735015869, 2.338059425354004, 2.3833608627319336, 2.330684185028076, 2.3707141876220703, 2.2564027309417725, 2.235870599746704, 2.655576229095459, 2.503192663192749, 2.280715227127075, 2.2059121131896973, 2.675981044769287, 2.326974630355835, 2.810013771057129, 2.173780679702759, 2.396002769470215, 2.1697185039520264, 2.238389015197754, 2.2858574390411377, 2.192901611328125, 2.447803497314453, 2.265162944793701, 2.506925106048584, 2.2318010330200195, 2.3453569412231445, 2.4621164798736572, 2.415386915206909, 2.2443747520446777, 2.30350399017334, 2.2408604621887207, 2.196425199508667, 2.3575451374053955, 2.386664390563965, 2.305676221847534, 2.316141366958618, 2.436589002609253, 2.37937068939209, 2.5294294357299805, 2.2737228870391846, 2.519465923309326, 2.247131586074829, 2.090589761734009, 2.2835536003112793, 2.264127016067505, 2.4492807388305664, 2.226227045059204, 2.5177242755889893, 2.1579184532165527, 2.240522623062134, 2.3336989879608154, 2.477189064025879, 2.3083810806274414, 2.3554255962371826, 2.3048410415649414, 2.33007550239563, 2.371023654937744, 2.380781650543213, 2.1459245681762695, 2.2624030113220215, 2.193742275238037, 2.3189165592193604, 2.272606611251831, 2.3616387844085693, 2.3604464530944824, 2.433168888092041, 2.1701364517211914, 2.624925136566162, 2.34464430809021, 2.1845812797546387, 2.2481110095977783, 2.4365243911743164, 2.402569055557251, 2.4504599571228027, 2.2142038345336914, 2.2690420150756836, 2.335712194442749, 2.3614916801452637, 2.3313283920288086, 2.3412086963653564, 2.3837532997131348, 2.4149320125579834, 2.3454179763793945, 2.582510232925415, 2.1494438648223877, 2.2059848308563232, 2.171373128890991, 2.239072322845459, 2.2488887310028076, 2.153799295425415, 2.256035327911377, 2.3341546058654785, 2.2760775089263916, 2.310497283935547, 2.3071978092193604, 2.2715227603912354, 2.3816916942596436, 2.5093629360198975, 2.5036303997039795, 2.279751777648926, 2.2950072288513184, 2.576014518737793, 2.346137285232544, 2.3565285205841064, 2.3351476192474365, 2.253253698348999, 2.3283960819244385, 2.3550729751586914, 2.3292665481567383, 2.4324517250061035, 2.1669228076934814, 2.2673566341400146, 2.4047255516052246, 2.3867974281311035, 2.445456027984619, 2.375671148300171, 2.544745445251465, 2.4015488624572754, 2.222095489501953, 2.587569236755371, 2.5706753730773926, 2.345179319381714, 2.297121047973633, 2.4304850101470947, 2.2087411880493164, 2.3251142501831055, 2.5032200813293457, 2.231449604034424, 2.2498934268951416, 2.3164234161376953, 2.1689419746398926, 2.6011176109313965, 2.4203426837921143, 2.3623406887054443, 2.429260015487671, 2.307421922683716, 2.6080470085144043, 2.3294081687927246, 2.485574960708618, 2.3874857425689697, 2.4734206199645996, 2.6813108921051025, 2.452509880065918, 2.26904559135437, 2.4135499000549316, 2.588629961013794, 2.2290985584259033, 2.4883718490600586, 2.3840701580047607, 2.227126359939575, 2.325735330581665, 2.502748489379883, 2.406759262084961, 2.5321316719055176, 2.335273027420044, 2.271791458129883, 2.2720212936401367, 2.398653745651245, 2.3636696338653564, 2.2979156970977783, 2.363558530807495, 2.6184563636779785, 2.4847543239593506, 2.5103840827941895, 2.2943241596221924, 2.3490374088287354, 2.4313085079193115, 2.6174123287200928, 2.4906065464019775, 2.4211931228637695, 2.3323028087615967, 2.4856441020965576, 2.400946855545044, 2.3441171646118164, 2.347707748413086, 2.20176362991333, 2.5374529361724854, 2.599090576171875, 2.546797752380371, 2.548337936401367, 2.606703042984009, 2.431061267852783, 2.5004336833953857, 2.366760492324829, 2.3557796478271484, 2.696385145187378, 2.344386577606201, 2.308049201965332, 2.374965190887451, 2.506213903427124, 2.314282178878784, 2.654829978942871, 2.560715436935425, 2.2545738220214844, 2.383561611175537, 2.476085662841797, 2.3186659812927246, 2.4063644409179688, 2.4506115913391113, 2.555797815322876, 2.3134570121765137, 2.4775445461273193, 2.4126384258270264, 2.4106178283691406, 2.4175844192504883, 2.3115079402923584, 2.3249452114105225, 2.438260316848755, 2.498734474182129, 2.313870906829834, 2.3841781616210938, 2.3715999126434326, 2.588519334793091, 2.51088285446167, 2.542556047439575, 2.3636815547943115, 2.3639461994171143, 2.7419493198394775, 2.357292890548706, 2.4056520462036133, 2.5335769653320312, 2.473590612411499, 2.498396396636963, 2.3808188438415527, 2.4763436317443848, 2.4500741958618164, 2.5742268562316895, 2.4088754653930664, 2.271042823791504, 2.4386515617370605, 2.43957781791687, 2.451793909072876, 2.5139100551605225, 2.4364724159240723, 2.2749087810516357, 2.405299663543701, 2.5826938152313232, 2.4080963134765625, 2.3990674018859863, 2.2654614448547363, 2.7069010734558105, 2.434535503387451, 2.3547537326812744, 2.4281768798828125, 2.4505465030670166, 2.3388705253601074, 2.2751712799072266, 2.4122138023376465, 2.33699893951416, 2.529068946838379, 2.4669008255004883, 2.4338412284851074, 2.4715428352355957, 2.5013885498046875, 2.5848543643951416, 2.4306559562683105, 2.343393564224243, 2.440964460372925, 2.4622650146484375, 2.478954315185547, 2.545316457748413, 2.341581106185913, 2.4648711681365967, 2.5121450424194336, 2.584683895111084, 2.4943997859954834, 2.4931371212005615, 2.406203031539917, 2.3065743446350098, 2.356827735900879, 2.5116348266601562, 2.3882696628570557, 2.4610064029693604, 2.347660541534424, 2.441549062728882, 2.3444361686706543, 2.37929368019104, 2.5412421226501465, 2.438138723373413, 2.3973886966705322, 2.3943915367126465, 2.3750133514404297, 2.6134939193725586, 2.394477367401123, 2.429180383682251, 2.4607486724853516, 2.515946865081787, 2.510448455810547, 2.459289312362671, 2.5460219383239746, 2.416591167449951, 2.4618568420410156, 2.2739593982696533, 2.4231796264648438, 2.5324478149414062, 2.5771050453186035, 2.3931148052215576, 2.445410966873169, 2.513209342956543, 2.528188705444336, 2.387864589691162, 2.3425872325897217, 2.5411205291748047, 2.4453513622283936, 2.50427508354187, 2.5086803436279297, 2.6735877990722656, 2.3932690620422363, 2.4815280437469482, 2.564267873764038, 2.449699878692627, 2.5535972118377686, 2.4840240478515625, 2.4727745056152344, 2.4457879066467285, 2.5328783988952637, 2.5622658729553223, 2.543921947479248, 2.527557611465454, 2.5134007930755615, 2.353787899017334, 2.3977715969085693, 2.5106348991394043, 3.062303066253662, 2.3015856742858887, 2.78549861907959, 2.481151580810547, 2.716665744781494, 2.351750373840332, 2.441180467605591, 2.3681273460388184, 2.728083848953247, 2.4639713764190674, 2.612853765487671, 2.282335042953491, 2.42419695854187, 2.432589530944824, 2.504739999771118, 2.529200553894043, 2.6917362213134766, 2.602813959121704, 2.4638164043426514, 2.4058399200439453, 2.6623034477233887, 2.482865333557129, 2.459773540496826, 2.3457536697387695, 2.2868573665618896, 2.56193470954895, 2.3868329524993896, 2.4170076847076416, 2.6671199798583984, 2.5476479530334473, 2.5649349689483643, 2.3688604831695557, 2.3861403465270996, 2.299562931060791, 2.666123390197754, 2.4925696849823, 2.32822585105896, 2.3348300457000732, 2.507760524749756, 2.368683099746704, 2.3244400024414062, 2.464265823364258, 2.3303632736206055, 2.324303388595581, 2.466625213623047, 2.3932859897613525, 2.3733160495758057, 2.406420946121216, 2.416971445083618, 2.269782543182373, 2.3460915088653564, 2.34865403175354, 2.3427679538726807, 2.231901168823242, 2.5099027156829834, 2.2855381965637207, 2.4174318313598633, 2.431811571121216, 2.4601657390594482, 2.3657963275909424, 2.3942649364471436, 2.4748520851135254, 2.358689785003662, 2.5171523094177246, 2.390988826751709, 2.400848627090454, 2.3127801418304443, 2.4911270141601562, 2.5491886138916016, 2.376286029815674, 2.4215736389160156, 2.3360095024108887, 2.389388084411621, 2.317291259765625, 2.380664825439453, 2.489184617996216, 2.5359127521514893, 2.429445505142212, 2.3439958095550537, 2.3877079486846924, 2.549248695373535, 2.2952120304107666, 2.4625306129455566, 2.455000400543213, 2.3197736740112305, 2.386593818664551, 2.2960426807403564, 2.4587197303771973, 2.3197076320648193, 2.4325666427612305, 2.589977502822876, 2.4203691482543945, 2.4263741970062256, 2.4165244102478027, 2.4822075366973877, 2.579841136932373, 2.3088393211364746, 2.367992639541626, 2.422844886779785, 2.505941152572632, 2.544504404067993, 2.3513128757476807, 2.40826678276062, 2.4734485149383545, 2.4675605297088623, 2.395188808441162, 2.422553539276123, 2.4507877826690674, 2.314685583114624, 2.5832207202911377, 2.3942296504974365, 2.35732102394104], 'loss': [188.03333951234436, 30.064779857826824, 20.955798191548816, 16.77282237367077, 14.933833902438217, 13.84867175904344, 12.388920079150507, 12.251390593745356, 11.861021461292154, 11.384864727076783, 10.87125933396781, 10.628634181456814, 10.138097334806355, 10.039847899875342, 9.937068596534914, 9.843866697981879, 9.339934528212865, 8.746324532454766, 9.591411335149045, 8.76545878775714, 8.456843689738854, 8.737585588848978, 8.374706982200722, 8.198521702316885, 8.358670161621061, 8.364889232167938, 8.219009144725266, 7.7802399837869345, 8.017581293400308, 7.312685551849187, 7.553974370584275, 7.1400129030116295, 7.255521814995308, 7.389221387001052, 7.177244417524238, 7.121125978831488, 6.9402817933780545, 6.9044447207206545, 6.765976077396724, 6.73816023618709, 6.6725407271293715, 6.911719116911224, 6.692445821225462, 6.671863186999622, 6.204962552752375, 6.5164012435483105, 5.943586646675991, 6.580116071238351, 6.076523372236552, 5.9061997936021084, 6.27805778401683, 6.057076343680183, 5.535680158645378, 5.780621977642842, 5.294485127695309, 6.190808303103623, 5.643820000833062, 5.7036519722548915, 5.7666976935234135, 5.454811525292712, 5.511351914674108, 5.662832850929233, 5.65089823832218, 5.399975415934539, 5.592436530291332, 5.515194412904093, 4.907598752222082, 5.153685953422375, 4.801836225165364, 5.006775772455014, 4.917430737916514, 5.208869199584291, 4.993940673019277, 4.856197454229512, 5.164664722560677, 4.701414974271228, 5.2457551446435655, 4.772259776613648, 4.348310911109407, 4.736207202108801, 4.84948745196657, 4.472116272882264, 4.8842588285738335, 4.234109849602379, 4.302423320418709, 4.556662613880143, 4.489529948996596, 4.415258641735407, 4.079955938004349, 4.402689895224642, 4.441570738586426, 4.6009625709940805, 4.3508420726052055, 4.005961939804266, 4.218796681806372, 4.675924279616594, 4.3300577177136885, 4.196086826666, 4.144786032546841, 3.9088041394858286, 3.9682688438799185, 3.9255714900441054, 3.961484088459653, 4.023381084952715, 4.130193386572705, 3.878979504542321, 4.163383605965714, 4.097416779282044, 3.6633538377287618, 3.8534687844309006, 3.9970185739635276, 3.7658514921456803, 3.894493340668008, 3.657578354316146, 3.852261782448676, 3.77813371512313, 3.5787927463498628, 3.672064742165567, 3.74328949873947, 3.9393730900393877, 3.6719934407021966, 3.6132924715614116, 3.2808540684200125, 3.503525455734441, 3.3857261967529273, 3.67929872890184, 3.648026764567884, 3.5557211095364627, 3.384660979641069, 3.3581930484970712, 3.568752842555717, 3.494497295105488, 3.41708458056787, 3.5601140193706695, 3.2716975681804294, 3.6935381968951635, 3.056674324042616, 3.390742842322652, 3.264025516809666, 3.2112064731888252, 3.0727648412688326, 3.3084536735133154, 3.032015888137004, 3.2958507898337883, 3.232251277024231, 2.986057617135074, 3.1528859573792745, 3.153465094707217, 3.0627514335466532, 3.1587208415510415, 3.1009169816420927, 3.227325618666937, 3.1579588382432986, 3.014408785077033, 3.057157237588579, 2.8511344542482275, 2.94456240873016, 2.738532367511028, 2.940541340956716, 3.036667627336161, 2.84933820507826, 2.6412367493705022, 2.9490295472547925, 2.854043831478824, 2.8256707631802476, 2.733756539450612, 2.961846878332856, 2.6751169206253937, 2.6532443102058294, 2.796266967552968, 2.845611269168009, 2.745646912249081, 2.714918989512767, 2.8327800772847684, 2.8648010753542663, 2.352979525868403, 2.841878870325681, 2.75133902078116, 2.4515225943203034, 2.571182293049187, 2.5570190275047393, 2.60604254861962, 2.5475434720460592, 2.6705208246827836, 2.5202941221936204, 2.529845545555128, 2.559705068890379, 2.4096183088287777, 2.4676328737066786, 2.448355999231575, 2.5957637313281774, 2.4063844872598383, 2.4185853944277804, 2.3937533397450776, 2.447015794418284, 2.372766870915248, 2.4189937473327596, 2.4913243964871468, 2.358449007739728, 2.1322958255257274, 2.3692751889239867, 2.2259187168014662, 2.2426628154598083, 2.2354390112043205, 2.4748248742011603, 2.3820958941899337, 2.091909623233306, 2.23108965840365, 2.4214782687054033, 2.364007318874242, 2.1936703962012065, 2.2751703017934006, 2.2904229265389975, 2.2056927879074353, 2.2193927206880177, 2.184850777360693, 2.2300277320203743, 2.086159758112264, 2.152517690017514, 2.166838274357234, 2.1612217039401123, 2.0979712866126876, 1.9330506534401133, 1.9843234061571349, 2.182639087544291, 2.168742644152198, 1.9522709272174872, 1.8594112719270781, 2.075629514206955, 2.1360730347616794, 2.118656995356318, 1.923947036119319, 2.0646920482747246, 1.9731547503032691, 2.0224963170080192, 1.956102062822736, 1.9255263561512272, 2.0829376424235817, 1.9869986142360179, 2.1266327981089135, 1.981046264112046, 1.7707012108281805, 2.004014987907428, 1.9064671449569408, 1.789306289069134, 2.0031772186530423, 1.951888942712709, 2.0684493997209623, 2.012941248198811, 1.854386096259146, 1.7385167620987187, 1.9910186758852162, 1.7650525806895991, 1.867293700107874, 1.9427923520687735, 1.7775893104405287, 1.9741892614672745, 1.834574810461256, 1.8795376856364558, 1.900696997296787, 1.7803496302566248, 1.6291495485237355, 1.8830818369912594, 1.8578709959515092, 1.8358273599828578, 1.7247666671440312, 1.7041418836724855, 1.79895193542895, 1.7754228888896209, 1.771681067605266, 1.6986649406503738, 1.7459969461629299, 1.690323815384143, 1.6410536286357726, 1.7705128029260881, 1.6942294152217878, 1.7614029671136997, 1.6376874873424192, 1.6085553918343702, 1.6971100279842004, 1.6618929345870022, 1.7952695444684001, 1.5080217173388117, 1.469484510894605, 1.5166092279071115, 1.783380917917183, 1.6280824972031396, 1.6985174083717536, 1.4643009147055115, 1.50600015656098, 1.695860560582113, 1.5123238197475766, 1.6550806742502018, 1.5292410027010048, 1.6364844358359063, 1.4681194160214188, 1.6213519474620284, 1.6118415058388762, 1.4133100276451513, 1.7027471506482692, 1.5659931215680507, 1.4831898183829944, 1.5650486035414444, 1.5333729491659103, 1.5241574626906105, 1.6017630461881187, 1.7199028473278604, 1.574199796073228, 1.615918087946039, 1.4833082074267085, 1.5667851590068294, 1.4063738221798978, 1.4780711181517256, 1.541599996999094, 1.4190952038655031, 1.6193394862936294, 1.5796659499941441, 1.5728251712315864, 1.6478520084041304, 1.4446214007468081, 1.4786329382698, 1.412710195200567, 1.3844887262100107, 1.4844814316763792, 1.4250589022331253, 1.3119076602758977, 1.4430103295086432, 1.4282898210036161, 1.4379731816009016, 1.4543492516434349, 1.5360775623715022, 1.2879218915125994, 1.5032005574302283, 1.4997272474007068, 1.3281820935006918, 1.4412784264800438, 1.3487594176249782, 1.5543778175813372, 1.3698411345306554, 1.4503408068815382, 1.3441772937416312, 1.301327936709397, 1.4689162891476426, 1.3089366230511112, 1.384263983469402, 1.5709261174151203, 1.197717544460511, 1.294859762075167, 1.3645529406725947, 1.1982492652614414, 1.3038468550397913, 1.2563157839909949, 1.3071673632024516, 1.436084754570576, 1.243646611424221, 1.470177827363592, 1.3594249325035923, 1.3532445113526745, 1.405188942268351, 1.1216651345060713, 1.284077824978679, 1.2807911390197417, 1.2505293464773755, 1.4585885260260485, 1.2542956365937588, 1.1811791032049237, 1.4079116109276482, 1.151500363499028, 1.0962549653513243, 1.3247353050796622, 1.383888172664979, 1.251536839995403, 1.274817382720093, 1.318015348503719, 1.207386455313411, 1.2876517534391991, 1.2442387602876215, 1.3178126351476238, 1.2095579805713552, 1.2568178285000133, 1.364929893006162, 1.2383947268752806, 1.2943304732103607, 1.1222237397559642, 1.1598699458077841, 1.2549622409330876, 1.2771874363533433, 1.2151275729727053, 1.1546678624947986, 1.2379065756836474, 1.2299876690179163, 1.21195813910303, 1.2403408701852237, 1.1361282531306822, 1.081551246576589, 1.228005480031456, 1.1541407041513234, 1.0859385779322441, 1.2100157425189213, 1.197252647869721, 1.0635448958036018, 1.149641519529078, 1.0810728008161423, 1.2877285598392354, 1.2033955012174382, 1.1794287097712879, 1.2890214749280462, 1.0155502129073464, 1.1167289480296976, 1.1652382974895499, 0.893355557391434, 1.2203424734258144, 1.393591468806581, 1.0821874774401385, 1.0507171999197693, 1.095056792309148, 1.2030443919383447, 1.1228481947619844, 1.1542435377242168, 1.0573688883524293, 1.1331237226287298, 1.1929461674892934, 1.1750848164517111, 1.1094514189151194, 1.1590125910326348, 1.2557208014926313, 1.1956505266227588, 1.0403075845400958, 1.2194982696083592, 1.1329693765247992, 1.16576602072309, 1.2507022753897916, 1.0399534499575196, 0.9754722345215749, 1.0682157622964656, 1.0555916334814666, 1.125846934131404, 0.9881271315152304, 1.1057710987603755, 1.0975720772715252, 0.9888269366516763, 1.0435716444214027, 1.0180646717289172, 1.0544246043165264, 1.1291272034663316, 1.1035429599709243, 1.0495409143570735, 1.0216790326452214, 0.9678858565158218, 1.2037787973384682, 1.0779978127532321, 1.2225304857909176, 0.9390206288638846, 0.9372292466121945, 1.0491795159529407, 1.0228242817770044, 0.9653905126402552, 1.1040048909616815, 0.9991048184911592, 1.0402262381031315, 1.0262054680401214, 1.075512761972382, 0.9957015101274922, 0.9954622838893004, 1.0230988266864576, 0.9999614589247934, 0.9641281579886817, 0.991703830487516, 0.9756492237080574, 0.8951514348915501, 1.0506253372387488, 0.9095182693126364, 0.9469269287596629, 1.0390051987015365, 1.0565683356056763, 1.0220749093240025, 1.0396961979365815, 0.8949323544520337, 1.0324902278057906, 0.9411695368239589, 0.875455411188632, 0.8894440293316491, 0.872672542767081, 1.0756039593656854, 0.902496140745792, 0.9697196168636095, 1.0769050104530047, 0.9919460747333498, 0.919437268549427, 0.976575572320684, 1.0346087391782013, 0.9518908043851132, 0.8855025123020253, 0.9430250011371712, 0.8627052971507402, 1.0109759280216042, 0.9088170193031642, 0.8415765647231443, 0.9463250722956368, 0.855484740911286], 'mae': [10.482096, 3.6114776, 2.8708832, 2.5916884, 2.4901974, 2.3954685, 2.2678182, 2.1842701, 2.2311149, 2.1465707, 2.1354012, 2.0649688, 2.0866392, 2.0381052, 2.0088122, 1.9928917, 1.9749875, 1.9686183, 1.9332622, 1.9401271, 1.866943, 1.8635213, 1.8968366, 1.8687851, 1.9052924, 1.856486, 1.8901635, 1.8247482, 1.831379, 1.8158753, 1.8503424, 1.7872455, 1.7599026, 1.8308815, 1.7419145, 1.7352698, 1.7175361, 1.6777364, 1.6897978, 1.7412083, 1.7810444, 1.676279, 1.6511055, 1.6713247, 1.6321424, 1.661678, 1.6269443, 1.7066078, 1.6216681, 1.5868319, 1.5906131, 1.5907907, 1.5852118, 1.560473, 1.5173509, 1.5539408, 1.5407107, 1.554221, 1.466442, 1.5442448, 1.5599812, 1.5142719, 1.5541242, 1.4941803, 1.483987, 1.5418036, 1.5024867, 1.5240748, 1.4650421, 1.4407516, 1.5236013, 1.44078, 1.4104234, 1.4641145, 1.5234839, 1.382189, 1.4550805, 1.4101851, 1.3885417, 1.365404, 1.3994638, 1.4213473, 1.4152331, 1.3517108, 1.2917843, 1.365826, 1.3713081, 1.357422, 1.3009424, 1.3889592, 1.3527607, 1.3196917, 1.3409245, 1.2806695, 1.3261639, 1.3266332, 1.365226, 1.3241893, 1.2807844, 1.3203187, 1.2741213, 1.3451463, 1.3269085, 1.2961507, 1.3004655, 1.3084195, 1.2937962, 1.2769984, 1.2491632, 1.2914573, 1.246104, 1.2091552, 1.2520111, 1.2214187, 1.2661319, 1.2246609, 1.2634604, 1.2860571, 1.1809905, 1.2490638, 1.230062, 1.2343036, 1.1875054, 1.2781512, 1.19517, 1.2473437, 1.2314813, 1.2146441, 1.1768861, 1.1902386, 1.1924978, 1.1751206, 1.1690513, 1.2089164, 1.1806616, 1.2227143, 1.147866, 1.1815406, 1.1361841, 1.1381599, 1.1551913, 1.1439433, 1.153801, 1.1732438, 1.172611, 1.1085799, 1.1442795, 1.1540902, 1.1563008, 1.157643, 1.1099519, 1.1710252, 1.1472089, 1.168373, 1.1419457, 1.0753236, 1.1554062, 1.1298808, 1.112866, 1.0983319, 1.0874014, 1.095856, 1.1217494, 1.0890387, 1.0967801, 1.1050973, 1.1133102, 1.1085547, 1.1118286, 1.0408738, 1.0591404, 1.0741059, 1.0931264, 1.0772793, 1.04897, 0.99457896, 1.0847737, 1.089983, 1.0051361, 1.057249, 1.0643559, 1.0417764, 1.0522181, 1.1011921, 1.0497586, 1.0215402, 1.0501093, 1.0206487, 1.045992, 1.0161185, 1.0460565, 1.0262389, 1.0303304, 0.9922427, 1.0654937, 1.0311725, 1.0297695, 1.0287026, 1.0628339, 0.9566405, 1.0272716, 0.974864, 0.9933091, 0.9801704, 1.0025318, 1.0669578, 0.97631824, 0.98447883, 1.0226585, 1.0601394, 0.9732974, 1.0015936, 1.002618, 0.98361295, 1.016186, 0.97066194, 0.9713178, 0.98959714, 0.9740524, 0.98612183, 0.9724407, 0.98856467, 0.93875223, 1.0028433, 1.0103636, 1.021373, 0.94393116, 0.9829925, 0.9951026, 1.0153829, 0.96889657, 0.9292851, 0.97135055, 0.9953045, 0.9926218, 0.96617365, 0.97039634, 0.9662118, 0.9517622, 0.9660281, 1.0101291, 0.9275819, 1.0023869, 0.94923234, 0.9652578, 0.9413573, 0.9973347, 0.98025787, 0.914862, 0.96411043, 0.9318554, 0.9753368, 0.9425804, 0.9732989, 0.9675198, 0.9442445, 0.9511916, 0.98853755, 0.9817077, 0.9347768, 0.96163195, 0.91568273, 0.96610916, 0.9099146, 0.94347966, 0.9001249, 0.96387756, 0.9565243, 0.92974544, 0.9621499, 0.90958154, 0.8959957, 0.9439769, 0.8540991, 0.8876403, 0.91488236, 0.9137954, 0.87225837, 0.9058336, 0.8867532, 0.9124754, 0.96541965, 0.8706223, 0.88247013, 0.9279864, 0.9379519, 0.9055288, 0.88696754, 0.8623025, 0.91712874, 0.90328175, 0.89753485, 0.9235155, 0.87788427, 0.9340895, 0.8953519, 0.91486067, 0.89913094, 0.9180232, 0.91435206, 0.91121125, 0.8748154, 0.89695865, 0.93051326, 0.881844, 0.89455706, 0.92033935, 0.8727554, 0.88233125, 0.84775585, 0.9039527, 0.8166607, 0.86551285, 0.8926078, 0.90627426, 0.91319764, 0.87867886, 0.8825418, 0.90004355, 0.8747528, 0.8801249, 0.84722066, 0.82172024, 0.85836196, 0.80954415, 0.800795, 0.8419467, 0.8420734, 0.86277616, 0.88089657, 0.8886698, 0.8533973, 0.88029593, 0.8938006, 0.8154171, 0.85497916, 0.8725614, 0.88371414, 0.8537776, 0.84278685, 0.8147765, 0.82032347, 0.8563922, 0.83212644, 0.84033203, 0.8865235, 0.799892, 0.8444317, 0.8718266, 0.7955815, 0.8502285, 0.8134441, 0.8316831, 0.8474228, 0.8352442, 0.8661115, 0.84175396, 0.8373292, 0.8834805, 0.78944874, 0.80510354, 0.84464717, 0.8081738, 0.8509568, 0.8086682, 0.8209047, 0.8466426, 0.78600115, 0.7759953, 0.7875033, 0.8207716, 0.8195173, 0.81070703, 0.83479375, 0.78960973, 0.8466411, 0.8010305, 0.8071373, 0.8165642, 0.7973323, 0.8167554, 0.79134566, 0.8467136, 0.7623888, 0.7668035, 0.83622044, 0.8286523, 0.82684845, 0.8019483, 0.7765291, 0.81079084, 0.8255889, 0.8165576, 0.7931514, 0.77243143, 0.81538767, 0.7616216, 0.7820858, 0.80844283, 0.7972698, 0.75449073, 0.7807795, 0.7401558, 0.8045355, 0.76279885, 0.7985192, 0.80781573, 0.7328736, 0.801391, 0.77203614, 0.71612173, 0.7463951, 0.81319255, 0.75455904, 0.73055667, 0.7650609, 0.7665845, 0.7684506, 0.77513266, 0.7785531, 0.7688829, 0.75275296, 0.78673494, 0.78511935, 0.7780806, 0.7886314, 0.77386683, 0.7593762, 0.76084167, 0.78045857, 0.8272445, 0.76364535, 0.76072943, 0.75758064, 0.7637898, 0.77939993, 0.7705034, 0.7561452, 0.74352294, 0.7537622, 0.74384314, 0.75632584, 0.7562607, 0.7608113, 0.75253755, 0.7774121, 0.76098096, 0.71653056, 0.74034274, 0.7929444, 0.76332104, 0.7802674, 0.70992064, 0.70627886, 0.7560445, 0.76626056, 0.75032455, 0.7736787, 0.7411175, 0.76692164, 0.7460987, 0.75177246, 0.708163, 0.70820606, 0.6976229, 0.7155028, 0.72022146, 0.733814, 0.7349209, 0.6694964, 0.7332616, 0.69342124, 0.6893779, 0.73255354, 0.7488694, 0.75076663, 0.74310035, 0.6978421, 0.6830059, 0.70936996, 0.6955235, 0.71154934, 0.6545219, 0.7474175, 0.69270766, 0.7331063, 0.7407678, 0.7177447, 0.6954927, 0.7500192, 0.73790944, 0.714143, 0.68724436, 0.71528405, 0.69827473, 0.70133764, 0.70638144, 0.67935973, 0.7340099, 0.70512515]}\n"
     ]
    }
   ],
   "source": [
    "print( history_dict ) "
   ]
  },
  {
   "cell_type": "code",
   "execution_count": 662,
   "metadata": {},
   "outputs": [
    {
     "ename": "KeyError",
     "evalue": "'acc'",
     "output_type": "error",
     "traceback": [
      "\u001b[0;31m---------------------------------------------------------------------------\u001b[0m",
      "\u001b[0;31mKeyError\u001b[0m                                  Traceback (most recent call last)",
      "\u001b[0;32m<ipython-input-662-5817204bb8d9>\u001b[0m in \u001b[0;36m<module>\u001b[0;34m\u001b[0m\n\u001b[1;32m     15\u001b[0m \u001b[0;34m\u001b[0m\u001b[0m\n\u001b[1;32m     16\u001b[0m \u001b[0;34m\u001b[0m\u001b[0m\n\u001b[0;32m---> 17\u001b[0;31m \u001b[0macc\u001b[0m \u001b[0;34m=\u001b[0m \u001b[0mhistory\u001b[0m\u001b[0;34m.\u001b[0m\u001b[0mhistory\u001b[0m\u001b[0;34m[\u001b[0m\u001b[0;34m'acc'\u001b[0m \u001b[0;34m]\u001b[0m\u001b[0;34m\u001b[0m\u001b[0;34m\u001b[0m\u001b[0m\n\u001b[0m\u001b[1;32m     18\u001b[0m \u001b[0mval_acc\u001b[0m \u001b[0;34m=\u001b[0m \u001b[0mhistory\u001b[0m\u001b[0;34m.\u001b[0m\u001b[0mhistory\u001b[0m\u001b[0;34m[\u001b[0m\u001b[0;34m'val_acc'\u001b[0m \u001b[0;34m]\u001b[0m\u001b[0;34m\u001b[0m\u001b[0;34m\u001b[0m\u001b[0m\n\u001b[1;32m     19\u001b[0m \u001b[0;34m\u001b[0m\u001b[0m\n",
      "\u001b[0;31mKeyError\u001b[0m: 'acc'"
     ]
    },
    {
     "data": {
      "image/png": "[encoded data removed]",
      "text/plain": [
       "<Figure size 576x432 with 1 Axes>"
      ]
     },
     "metadata": {
      "needs_background": "light"
     },
     "output_type": "display_data"
    }
   ],
   "source": [
    "import matplotlib.pyplot as plt\n",
    "loss = history.history['loss' ] \n",
    "val_loss= history.history['val_loss' ] \n",
    "epochs = range( 1 , len(loss) + 1 ) \n",
    "\n",
    "plt.subplot(1,2,1)\n",
    "plt.plot( epochs , loss_values , 'bo' , label = 'Training loss' )\n",
    "plt.plot( epochs , val_loss_values , 'b' , label = 'Validation loss' ) \n",
    "plt.title( 'Training vs validation loss' ) \n",
    "plt.xlabel( 'Epochs' ) \n",
    "plt.ylabel( 'Loss' ) \n",
    "plt.legend() \n",
    "\n",
    "# Here we plot the training and validation accurary side by side.\n",
    "\n",
    "\n",
    "acc = history.history['acc' ] \n",
    "val_acc = history.history['val_acc' ]\n",
    "\n",
    "\n",
    "epochs = range( 1 , len(loss_values) + 1 ) \n",
    "\n",
    "plt.subplot(1,2,2)\n",
    "plt.plot( epochs , acc_values , 'bo' , label = 'Training acc' )\n",
    "plt.plot( epochs , val_acc_values , 'b' , label = 'Validation acc' ) \n",
    "plt.title( 'Training vs validation acc' ) \n",
    "plt.xlabel( 'Epochs' ) \n",
    "plt.ylabel( 'acc' ) \n",
    "plt.legend() \n",
    "\n",
    "plt.show()\n"
   ]
  },
  {
   "cell_type": "markdown",
   "metadata": {},
   "source": [
    "#### Apply to test data <a name = 'example2_classification2_apply_test'></a>"
   ]
  },
  {
   "cell_type": "code",
   "execution_count": 668,
   "metadata": {},
   "outputs": [
    {
     "name": "stdout",
     "output_type": "stream",
     "text": [
      "2246/2246 [==============================] - 0s 142us/step\n",
      "[0.9962994980153927, 0.7809438705444336]\n"
     ]
    }
   ],
   "source": [
    "model = models.Sequential()\n",
    "model.add( layers.Dense( 64 , activation = 'relu' , input_shape = (10000 , ) ) ) \n",
    "model.add( layers.Dense( 64 , activation = 'relu' ) ) \n",
    "model.add( layers.Dense( 46 , activation = 'softmax' ) ) \n",
    "\n",
    "model.compile( optimizer = 'rmsprop' , \n",
    "             loss = 'categorical_crossentropy' , \n",
    "             metrics = ['accuracy' ] ) \n",
    "\n",
    "model.fit( partial_x_train , \n",
    "         partial_y_train , \n",
    "         epochs = 9 , batch_size = 512 , \n",
    "         validation_data = (x_val , y_val ) , verbose = 0 ) \n",
    "\n",
    "results = model.evaluate( x_test , one_hot_test_labels ) \n",
    "\n",
    "print( results ) "
   ]
  },
  {
   "cell_type": "markdown",
   "metadata": {},
   "source": [
    "#### Generate prediction with new data  <a name = 'prediction'></a>"
   ]
  },
  {
   "cell_type": "code",
   "execution_count": 681,
   "metadata": {},
   "outputs": [
    {
     "name": "stdout",
     "output_type": "stream",
     "text": [
      "(2246, 46)\n",
      "[0.99999994 1.0000001  0.99999994 ... 0.9999999  1.0000001  1.        ]\n",
      "(2246,)\n",
      "[ 3 10  1 ...  3  3  1]\n",
      "(2246,)\n"
     ]
    }
   ],
   "source": [
    "prediction = model.predict( x_test ) \n",
    "\n",
    "\n",
    "print( prediction.shape ) \n",
    "\n",
    "print( np.sum( prediction , axis = 1 )  ) \n",
    "print( np.sum( prediction , axis = 1 ).shape  ) \n",
    "\n",
    "print( np.argmax( prediction , axis = 1 ) ) \n",
    "print( np.argmax( prediction , axis = 1 ).shape ) "
   ]
  },
  {
   "cell_type": "markdown",
   "metadata": {},
   "source": [
    "#### Different way to handle labels and loss<a name = 'diff_way_handle_label_loss'></a>        \n",
    "\n",
    "We mention in [Building NN](#example2_classification2_build_NN), that we can pre-process the labels as integers, rather than using hte on-hot encoding. Then we shall use the **sparse_categorical_crossentropy** as our loss function. Let's see how it performs. We shall do it from scratch."
   ]
  },
  {
   "cell_type": "code",
   "execution_count": 698,
   "metadata": {},
   "outputs": [
    {
     "name": "stdout",
     "output_type": "stream",
     "text": [
      "(8982,)\n",
      "(8982,)\n",
      "(2246,)\n",
      "(2246,)\n",
      "Model: \"sequential_88\"\n",
      "_________________________________________________________________\n",
      "Layer (type)                 Output Shape              Param #   \n",
      "=================================================================\n",
      "dense_249 (Dense)            (None, 64)                640064    \n",
      "_________________________________________________________________\n",
      "dense_250 (Dense)            (None, 64)                4160      \n",
      "_________________________________________________________________\n",
      "dense_251 (Dense)            (None, 46)                2990      \n",
      "=================================================================\n",
      "Total params: 647,214\n",
      "Trainable params: 647,214\n",
      "Non-trainable params: 0\n",
      "_________________________________________________________________\n",
      "Train on 7982 samples, validate on 1000 samples\n",
      "Epoch 1/9\n",
      "7982/7982 [==============================] - 2s 227us/step - loss: 2.6258 - accuracy: 0.5407 - val_loss: 1.7495 - val_accuracy: 0.6490\n",
      "Epoch 2/9\n",
      "7982/7982 [==============================] - 1s 126us/step - loss: 1.4314 - accuracy: 0.7167 - val_loss: 1.2934 - val_accuracy: 0.7170\n",
      "Epoch 3/9\n",
      "7982/7982 [==============================] - 1s 166us/step - loss: 1.0400 - accuracy: 0.7879 - val_loss: 1.1232 - val_accuracy: 0.7560\n",
      "Epoch 4/9\n",
      "7982/7982 [==============================] - 1s 118us/step - loss: 0.8122 - accuracy: 0.8315 - val_loss: 1.0254 - val_accuracy: 0.7920\n",
      "Epoch 5/9\n",
      "7982/7982 [==============================] - 1s 133us/step - loss: 0.6462 - accuracy: 0.8691 - val_loss: 0.9505 - val_accuracy: 0.8070\n",
      "Epoch 6/9\n",
      "7982/7982 [==============================] - 1s 157us/step - loss: 0.5181 - accuracy: 0.8954 - val_loss: 0.9347 - val_accuracy: 0.7950\n",
      "Epoch 7/9\n",
      "7982/7982 [==============================] - 1s 146us/step - loss: 0.4181 - accuracy: 0.9172 - val_loss: 0.8943 - val_accuracy: 0.8160\n",
      "Epoch 8/9\n",
      "7982/7982 [==============================] - 1s 139us/step - loss: 0.3428 - accuracy: 0.9295 - val_loss: 0.8975 - val_accuracy: 0.8110\n",
      "Epoch 9/9\n",
      "7982/7982 [==============================] - 1s 113us/step - loss: 0.2858 - accuracy: 0.9384 - val_loss: 0.8984 - val_accuracy: 0.8110\n",
      "2246/2246 [==============================] - 0s 161us/step\n",
      "[0.9789952244593008, 0.7845057845115662]\n"
     ]
    }
   ],
   "source": [
    "from keras.datasets import reuters\n",
    "( train_data , train_labels ) , ( test_data , test_labels ) = reuters.load_data( num_words = 10000 )\n",
    "\n",
    "print( train_data.shape ) \n",
    "print( train_labels.shape ) \n",
    "print( test_data.shape ) \n",
    "print( test_labels.shape ) \n",
    "\n",
    "def vectorize( sequence , dimension ): \n",
    "    result = np.zeros( ( len(sequence) , dimension ) ) \n",
    "    for i , data in enumerate( sequence ):\n",
    "        result[ i , data ] = 1.\n",
    "    return result \n",
    "\n",
    "train_data_vec = vectorize( train_data , 10000 )  \n",
    "test_data_vec = vectorize( test_data , 10000 ) \n",
    "\n",
    "# # This is the one-hot way to vectorize the labeling, with acc ~ 0.7876\n",
    "# train_labels_vec = vectorize( train_labels , 46 ) \n",
    "# test_labels_vec = vectorize( test_labels , 46 ) \n",
    "\n",
    "# This is the integer way to pre-process the labels, with acc ~ 0.784, not much different\n",
    "train_labels_vec = np.array( train_labels ) \n",
    "test_labels_vec = np.array( test_labels ) \n",
    "\n",
    "from keras import Sequential \n",
    "model = models.Sequential() \n",
    "model.add( layers.Dense( 64 , activation = 'relu' , input_shape = ( 10000 , ) ) ) \n",
    "model.add( layers.Dense( 64 , activation = 'relu' ) ) \n",
    "model.add( layers.Dense( 46 , activation = 'softmax' ) ) \n",
    "\n",
    "model.summary() \n",
    "\n",
    "# # This is the way we compile the model if we vectorize the labls using one-hot way\n",
    "# model.compile( optimizer = 'rmsprop' , loss = 'categorical_crossentropy' , metrics = ['accuracy'] )\n",
    "\n",
    "# This is the way we compile the model if we vectorize the labls using the integer way \n",
    "model.compile( optimizer = 'rmsprop' , loss = 'sparse_categorical_crossentropy' , metrics = ['accuracy'] )\n",
    "\n",
    "\n",
    "train_data_vec_1 = train_data_vec[ : 1000 ] # For validation \n",
    "train_data_vec_2 = train_data_vec[ 1000 : ] # For actual training\n",
    "train_labels_vec_1 = train_labels_vec[ : 1000 ] # For validation \n",
    "train_labels_vec_2 = train_labels_vec[ 1000 : ] # For actual training\n",
    "\n",
    "model.fit( train_data_vec_2 , train_labels_vec_2 , \n",
    "          epochs = 9 , batch_size = 512 , \n",
    "          validation_data = ( train_data_vec_1 , train_labels_vec_1 ) ) \n",
    "\n",
    "result = model.evaluate( test_data_vec , test_labels_vec ) \n",
    "print( result ) "
   ]
  },
  {
   "cell_type": "markdown",
   "metadata": {},
   "source": [
    "#### Summary of the example <a name = 'example2_classification2_summary'></a>\n",
    "1. For N-class classification, the Dense layer should be of size N\n",
    "2. For single-label, multi-class classificaiton, end your CNN with **softmax** activation s.t. the output is a prob over all the N class\n",
    "3. Use **categorical_crossentropy** for the loss function\n",
    "4. Two ways to handle the labels (there are N of them)\n",
    "    1. One-hot encoding with categorical_crossentropy as loss function\n",
    "    2. Encode the labels as integer, and use **sparse_categorical_crossentropy** as loss function\n",
    "5. Always make sure that the size of the intermediate layers are BIGGER than N, the number of class that you try to classify    "
   ]
  },
  {
   "cell_type": "markdown",
   "metadata": {},
   "source": [
    "### Example of regression: House prices <a name = \"example_regression\"></a>\n",
    "Different from previous two examples, **regression** consistes of predicting a **continuous** values instead of discrete ones. Here the example is the Boston housing price as a function of such as crime rate, local property etc."
   ]
  },
  {
   "cell_type": "markdown",
   "metadata": {},
   "source": [
    "#### Get data <a name = 'example3_get_data'></a>"
   ]
  },
  {
   "cell_type": "code",
   "execution_count": 385,
   "metadata": {},
   "outputs": [
    {
     "name": "stdout",
     "output_type": "stream",
     "text": [
      "(404, 13)\n",
      "(102, 13)\n",
      "(404,)\n",
      "(102,)\n"
     ]
    }
   ],
   "source": [
    "# Step 1: loads the data \n",
    "\n",
    "from keras.datasets import boston_housing\n",
    "(train_data, train_targets), (test_data,test_targets) = boston_housing.load_data() \n",
    "print( train_data.shape )\n",
    "print( test_data.shape )\n",
    "print( train_targets.shape )\n",
    "print( test_targets.shape )\n",
    "# print( train_targets )\n",
    "\n",
    "# There are 402 training samples, each with 13 features.\n"
   ]
  },
  {
   "cell_type": "markdown",
   "metadata": {},
   "source": [
    "#### Preparing data <a name = 'example3_pre_data' ></a>\n",
    "\n",
    "Since our data of different nature, we should normalize them to between 0 and 1. It would be best if they could be center at 0\n"
   ]
  },
  {
   "cell_type": "code",
   "execution_count": 386,
   "metadata": {},
   "outputs": [
    {
     "name": "stdout",
     "output_type": "stream",
     "text": [
      "[3.74511057e+00 1.14801980e+01 1.11044307e+01 6.18811881e-02\n",
      " 5.57355941e-01 6.26708168e+00 6.90106436e+01 3.74027079e+00\n",
      " 9.44059406e+00 4.05898515e+02 1.84759901e+01 3.54783168e+02\n",
      " 1.27408168e+01]\n",
      "[9.22929073e+00 2.37382770e+01 6.80287253e+00 2.40939633e-01\n",
      " 1.17147847e-01 7.08908627e-01 2.79060634e+01 2.02770050e+00\n",
      " 8.68758849e+00 1.66168506e+02 2.19765689e+00 9.39946015e+01\n",
      " 7.24556085e+00]\n"
     ]
    }
   ],
   "source": [
    "# Step 2: Prepare the data\n",
    "\n",
    "# It seems like the mean() is doing it column by column \n",
    "# It actually depends on the \"axis\" arguemnt. See Ch 10\n",
    "mean = train_data.mean( axis=0 ) # It seems like we don't need \"axis\"\n",
    "print( mean ) \n",
    "train_data -= mean \n",
    "std = train_data.std( axis=0 ) # Not sure why \"axis\" is here...\n",
    "print( std ) \n",
    "train_data /= std \n",
    "test_data -= mean \n",
    "test_data /= std\n",
    "\n",
    "# Note here we normalizet the test data using the mean \n",
    "# and std from the training data. You should NEVER use \n",
    "# any info from the test data, even for data normalizatin"
   ]
  },
  {
   "cell_type": "markdown",
   "metadata": {},
   "source": [
    "#### Building NN <a name = 'example3_build_NN' ></a>\n",
    "Now since we have only 402 training samples, there are very FEW samples, in this sense. Normally there will be very severe over-fitting issue. Thus we can pick a very small NN (less parameters) to overcome this. "
   ]
  },
  {
   "cell_type": "code",
   "execution_count": 387,
   "metadata": {},
   "outputs": [],
   "source": [
    "# Now let's build the NN or model\n",
    "\n",
    "from keras import models\n",
    "from keras import layers\n",
    "\n",
    "def build_model(): # We run a fun as we will need it a few times\n",
    "    model = models.Sequential()\n",
    "    model.add(layers.Dense(64 , activation = 'relu',input_shape=(train_data.shape[1],)))\n",
    "    model.add(layers.Dense(64,activation='relu'))\n",
    "    \n",
    "    model.add(layers.Dense(1))\n",
    "    # Two things to note above. One is that there is only one unit and two is that\n",
    "#     there is no activation. Thus this is a linear layer, which allows us to predict\n",
    "#     a scalar which can take any value (as there is no activation, if there were say \n",
    "#     \"sigmoid\", then the value is restricted to be between 0 and 1.                                    \n",
    "    \n",
    "    model.compile(optimizer='rmsprop', loss='mse',metrics=['mae'])\n",
    "    # mse is mean square error, mae is mean absolute error\n",
    "    \n",
    "    return model"
   ]
  },
  {
   "cell_type": "markdown",
   "metadata": {},
   "source": [
    "#### Validation: K-fold validation <a name = 'example3_validation'></a>\n",
    "Since there are too few datas, we use K-fold cross validations. It goes like this. First we RANDOMLY split the avaliable data into K parts, (oftenly K = 4,5); Second we pick one as validation, and the rest K-1 parts as training. Third, we train the NN with a validaiton score (losa or accurary); Fourth, we repeat the above proecess, and average over the validaiton score as our final validaiton scores. \n",
    "\n",
    "The take home here is that indeed the validation score for each partition are very differetn "
   ]
  },
  {
   "cell_type": "code",
   "execution_count": 388,
   "metadata": {},
   "outputs": [
    {
     "name": "stdout",
     "output_type": "stream",
     "text": [
      "processing fold # 0\n",
      "processing fold # 1\n",
      "processing fold # 2\n",
      "processing fold # 3\n",
      "[2.2317609786987305, 2.405125141143799, 2.8976359367370605, 2.5846455097198486]\n",
      "2.5297918915748596\n",
      "[9.925135857988112, 11.646908316281763, 16.894660109340556, 13.920438051223755, 13.091492619844946, 14.573289210253423, 12.890148861573474, 12.968337729425713, 9.310137420597643, 9.129610651790506, 16.430710325146666, 13.700343532137351]\n",
      "12.87343439046699\n",
      "--- 104.11889505386353 seconds ---\n"
     ]
    }
   ],
   "source": [
    "import time\n",
    "start_time = time.time() \n",
    "\n",
    "import numpy as np\n",
    "k = 4  # Numer of partitions\n",
    "num_val_samples = len( train_data) // k  ## // means do the division and take only the integer part\n",
    "num_epochs = 100 \n",
    "all_scores_mae = []\n",
    "all_scores_loss = []\n",
    "\n",
    "for i in range(k):\n",
    "    print( 'processing fold #' , i)\n",
    "    val_data = train_data[ i * num_val_samples : (i+1) * num_val_samples ]\n",
    "    val_targets = train_targets[ i * num_val_samples : (i+1) * num_val_samples ]\n",
    "    \n",
    "    partial_train_data = np.concatenate( [ train_data[ : i * num_val_samples] , \n",
    "                                         train_data[ (i+1) * num_val_samples:]] , \n",
    "                                       axis=0 )\n",
    "    # The axis along which the arrays will be joined. If axis is None, arrays \n",
    "    # are flattened before use. Default is 0.\n",
    "    partial_train_targets = np.concatenate( [ train_targets[ : i * num_val_samples] , \n",
    "                                         train_targets[ (i+1) * num_val_samples:]] , \n",
    "                                       axis=0 )\n",
    "    model = build_model()\n",
    "    model.fit( partial_train_data , partial_train_targets , epochs = num_epochs , \n",
    "              batch_size = 1 , verbose=0) \n",
    "    # verbose means train the model in the silent mode so that \"epoch\" will not be printed\n",
    "    val_mse , val_mae = model.evaluate( val_data , val_targets , verbose = 0 )\n",
    "    all_scores_mae.append(val_mae)\n",
    "    all_scores_mse.append(val_mse)    \n",
    "#     Note the over-fitting problem\n",
    "print(all_scores_mae) \n",
    "print( np.mean( all_scores_mae ) )\n",
    "print(all_scores_mse) \n",
    "print( np.mean( all_scores_mse ) )\n",
    "print(\"--- %s seconds ---\" % (time.time() - start_time))"
   ]
  },
  {
   "cell_type": "markdown",
   "metadata": {},
   "source": [
    "#### Validation: Plot the losses <a name = 'example3_validation2'></a>\n",
    "Here we repeat the above with diffrent number of epochs and see how the score changes. "
   ]
  },
  {
   "cell_type": "code",
   "execution_count": 389,
   "metadata": {},
   "outputs": [
    {
     "name": "stdout",
     "output_type": "stream",
     "text": [
      "processing fold # 0\n",
      "dict_keys(['val_loss', 'val_mae', 'loss', 'mae'])\n",
      "processing fold # 1\n",
      "dict_keys(['val_loss', 'val_mae', 'loss', 'mae'])\n",
      "processing fold # 2\n",
      "dict_keys(['val_loss', 'val_mae', 'loss', 'mae'])\n",
      "processing fold # 3\n",
      "dict_keys(['val_loss', 'val_mae', 'loss', 'mae'])\n"
     ]
    },
    {
     "data": {
      "image/png": "[encoded data removed]",
      "text/plain": [
       "<Figure size 432x288 with 2 Axes>"
      ]
     },
     "metadata": {
      "needs_background": "light"
     },
     "output_type": "display_data"
    },
    {
     "name": "stdout",
     "output_type": "stream",
     "text": [
      "--- 622.9338400363922 seconds ---\n"
     ]
    }
   ],
   "source": [
    "num_epochs = 500 \n",
    "all_mae_histories = []\n",
    "all_loss_histories = []\n",
    "\n",
    "start_time = time.time() \n",
    "\n",
    "# loss_values = history_dict['loss']\n",
    "# val_loss_values = history_dict['val_loss']\n",
    "\n",
    "\n",
    "k = 4 # Number of partition\n",
    "for i in range(k):\n",
    "    print( 'processing fold #' , i ) \n",
    "    val_data = train_data[ i * num_val_samples : (i+1) * num_val_samples ]\n",
    "    val_targets = train_targets[ i * num_val_samples : (i+1) * num_val_samples ]\n",
    "    \n",
    "    partial_train_data = np.concatenate( [ train_data[ : i * num_val_samples ] , \n",
    "                                         train_data[ (i+1) * num_val_samples: ] ] , \n",
    "                                       axis=0 )\n",
    "    partial_train_targets = np.concatenate( [ train_targets[ : i * num_val_samples ] , \n",
    "                                         train_targets[ (i+1) * num_val_samples: ] ] , \n",
    "                                       axis=0 )\n",
    "    model = build_model() \n",
    "    history = model.fit( partial_train_data , partial_train_targets , \n",
    "                       validation_data = (val_data , val_targets) , \n",
    "                        epochs = num_epochs , batch_size = 1 , verbose = 0 )\n",
    "    \n",
    "    history_dict = history.history \n",
    "    print( history_dict.keys() )  \n",
    "    mae_history = history_dict[ 'val_mae' ] \n",
    "    loss_history = history_dict[ 'val_loss' ] \n",
    "    \n",
    "#     print( history.history.keys() ) \n",
    "#     mae_history = history.history[ ' val_mean_absolute_error' ] \n",
    "    \n",
    "    all_mae_histories.append( mae_history )\n",
    "    all_loss_histories.append( loss_history )\n",
    "\n",
    "\n",
    "average_mae_history = [ np.mean( [ x[i] for x in all_mae_histories ] ) for i in range(num_epochs ) ] \n",
    "average_loss_history = [ np.mean( [ x[i] for x in all_loss_histories ] ) for i in range(num_epochs ) ] \n",
    "\n",
    "# print( history_dict.keys() )  \n",
    "# print( all_mae_histories.shape ) \n",
    "# print( all_loss_histories.shape ) \n",
    "# print( average_mae_history.shape ) \n",
    "# print( average_loss_history.shape ) \n",
    "\n",
    "\n",
    "import matplotlib.pyplot as plt\n",
    "\n",
    "epochs = range( 1 , len(average_mae_history) + 1 ) \n",
    "\n",
    "plt.subplot(1,2,1)\n",
    "plt.plot( epochs , average_mae_history )\n",
    "plt.title( 'Validation MAE by epoch' ) \n",
    "plt.xlabel( 'Epochs' ) \n",
    "plt.ylabel( 'Validation MAE' ) \n",
    "\n",
    "plt.subplot(1,2,2)\n",
    "plt.plot( epochs , average_loss_history )\n",
    "plt.title( 'Validation loss by epoch' ) \n",
    "plt.xlabel( 'Epochs' ) \n",
    "plt.ylabel( 'Validation loss' ) \n",
    "\n",
    "plt.show() \n",
    "\n",
    "print(\"--- %s seconds ---\" % (time.time() - start_time))\n"
   ]
  },
  {
   "cell_type": "code",
   "execution_count": 390,
   "metadata": {},
   "outputs": [
    {
     "data": {
      "image/png": "[encoded data removed]",
      "text/plain": [
       "<Figure size 432x288 with 2 Axes>"
      ]
     },
     "metadata": {
      "needs_background": "light"
     },
     "output_type": "display_data"
    }
   ],
   "source": [
    "# To make a better plot\n",
    "# The take home is that it stats over-fitting after epoch=80\n",
    "plt.subplot(1,2,1)\n",
    "plt.plot( epochs[10:] , average_mae_history[10:] )\n",
    "plt.title( 'Validation MAE by epoch' ) \n",
    "plt.xlabel( 'Epochs' ) \n",
    "plt.ylabel( 'Validation MAE' ) \n",
    "\n",
    "plt.subplot(1,2,2)\n",
    "plt.plot( epochs[10:] , average_loss_history[10:] )\n",
    "plt.title( 'Validation loss by epoch' ) \n",
    "plt.xlabel( 'Epochs' ) \n",
    "plt.ylabel( 'Validation loss' ) \n",
    "\n",
    "plt.show() "
   ]
  },
  {
   "cell_type": "markdown",
   "metadata": {},
   "source": [
    "#### Apply to test data <a name = 'example3_apply_test'></a>"
   ]
  },
  {
   "cell_type": "code",
   "execution_count": 391,
   "metadata": {},
   "outputs": [
    {
     "name": "stdout",
     "output_type": "stream",
     "text": [
      "102/102 [==============================] - 0s 372us/step\n",
      "15.925643322514553 2.562500238418579\n"
     ]
    }
   ],
   "source": [
    "# According to the above, the validation MAE stops improving \n",
    "# after 80 epochs, so let's try that with the test data. \n",
    "model = build_model() \n",
    "model.fit( train_data , train_targets , epochs = 80 , \n",
    "         batch_size = 16 , verbose = 0 ) \n",
    "test_mse_score , test_mae_score = model.evaluate( test_data , test_targets ) \n",
    "\n",
    "print( test_mse_score , test_mae_score ) "
   ]
  },
  {
   "cell_type": "markdown",
   "metadata": {},
   "source": [
    "#### Summary of the example <a name = 'example3_summary' ></a>\n",
    "1. Regression use **MSE** as loss function, rather than binaryentroy for the classifcaiton problem\n",
    "2. We use **MAE** as our evaluation metric rather than \"accuracy\"\n",
    "3. Remember to normalize the data if they have different natures.\n",
    "4. Use K-fold validation for tuning the NN\n",
    "5. Use smaller network (shallower, less node, less epochs) to avoid over-fitting if less data is available. "
   ]
  },
  {
   "cell_type": "markdown",
   "metadata": {},
   "source": [
    "### What is validation? \n",
    "It is during the process of you adjusting say the depth or the number of nodes, or number of epochs in your network, you want to know the performaces of your NN. You want to have a \"test set\" within your training set for \"validation\". The measure of this validation is called the validation score (a kind of measure). Most of the time, we use K-fold validation (it is necessary if your data is too less), which split the training data into training set and a validation set. \n",
    "\n",
    "1. split the data into K pieces; \n",
    "\n",
    "2. use the first piece as validation and the rest K-1 pieces as training; \n",
    "\n",
    "3. obtain a validation score; \n",
    "\n",
    "4. repeat step 2-3 for using other piece as validation; \n",
    "\n",
    "5. average the validation score."
   ]
  },
  {
   "cell_type": "markdown",
   "metadata": {},
   "source": [
    "### Summary of the chapter <a name = \"summary_ch3\"></a>\n",
    "1. Rember to process the data because you feed it into the NN, such as normalization for regrssion problem\n",
    "2. Use different loss function and different measure for different problem. But this is standard.\n",
    "3. Check the [summary of the regression example](#example3_summary) for the regresson problem. "
   ]
  },
  {
   "cell_type": "markdown",
   "metadata": {},
   "source": [
    "## Ch 4. Fundamentals of ML<a name=\"Ch4\"></a>\n",
    "Most of these chapters is to re-enforce and summarize what we laernt in the previous chatpers, and mostly **descriptive**, except there is a detailed section on how to tune the NN"
   ]
  },
  {
   "cell_type": "markdown",
   "metadata": {},
   "source": [
    "### Four kinds of ML <a name = '4ML' ></a>\n",
    "1. Supervised learning (classifcaiton, regression, language and image stuff)\n",
    "2. un-supervised learning (dimension reduction, clustering) \n",
    "3. self-supervised learning (not worried abt it) \n",
    "4. Reinforcement learning (Deepmind did it)"
   ]
  },
  {
   "cell_type": "markdown",
   "metadata": {},
   "source": [
    "### Evaluation of ML models <a name = 'Evaluation_ML'></a>\n",
    "Here we simply list out some practical strategies in perfecting the models\n"
   ]
  },
  {
   "cell_type": "markdown",
   "metadata": {},
   "source": [
    "#### Training, validation and test sets <a name = 'TrainValidateTest'></a>\n",
    "\n",
    "1. We need to validate the model, before we apply it to the test set. That said, we need to split the available data into three sets, training, validation and test. 1st you train on the training set, and tune the model with the validation set (with K-fold validation say) to adjust the depth, nodes, and epochs. Once these are ready, you apply the model to the test data for ONE FINAL TIME.\n",
    "\n",
    "2. Info leak. That is the phenomena happening when you train your NN on the validation set, that the info of validation set goes into the NN, which is of course the case. The thing is that you don't want your NN to do too well on either traiing or validation set, which will result in over-fitting. \n",
    "\n",
    "\n",
    "3. The issue of ML is the competition of optimization (for adjusting the model such that the loss function is minimized for given training data) and the generalizaiton (for good performance on unknown data). At the beginning of the training, the lower of the loss for the training data, the lower the loss for the test data. This is under-fit. After some iteration, the model start overfit which means it learns features that are specific to the training data, but not in others. "
   ]
  },
  {
   "cell_type": "markdown",
   "metadata": {},
   "source": [
    "#### Three validation methods (key subsection) <a name = '3validation' ></a>\n",
    "Three ways to validate your NN, we shall see examples below\n",
    "1. Simple hold-out validaiton (K=2 fold validation, the problem for too less data is that if you shuffle the data the measure is changed a lot)\n",
    "2. K-fold validation\n",
    "3. Iterated K-fold validation with shuffling (It is applying K-fold validation several times, shuffling the data everytime before splitting them to trianing and validation set)"
   ]
  },
  {
   "cell_type": "code",
   "execution_count": null,
   "metadata": {},
   "outputs": [],
   "source": [
    "# Hold out validation\n",
    "num_validation_sample = 10000 \n",
    "np.random.shuffle(data) # Shuffle the data\n",
    "\n",
    "validation_data = data[ : num_validation_sample ] # Define the validaton set\n",
    "training_data = data[ num_validation_sample : ] # Define the validaton set\n",
    "\n",
    "model = get_model() \n",
    "\n",
    "model.training( train_data ) \n",
    "\n",
    "validation_score = model.evaluate( validation_data ) \n",
    "\n"
   ]
  },
  {
   "cell_type": "code",
   "execution_count": null,
   "metadata": {},
   "outputs": [],
   "source": [
    "# K-fold validation\n",
    "k = 4\n",
    "num_validation_sample = len( data ) // k # Here only take the integer part\n",
    "np.random.shuffle( data ) \n",
    "\n",
    "validation_score = [] \n",
    "\n",
    "for fold in range[k]: \n",
    "    validation_data = data[ num_validation_sample * fold : \n",
    "                          num_validation_sample * (fold+1) ] \n",
    "    \n",
    "    training_data = data[ : num_validation_sample * fold ] + data[ num_validation_sample * (fold+1) ] \n",
    "    \n",
    "    model = get_model() \n",
    "    model.train( training_data ) \n",
    "    validation_score = model.evaluate( validation_data ) \n",
    "    validation_scores.append( validation_score ) \n",
    "\n",
    "validation_score = np.average( validation_scores ) \n",
    "    \n",
    "model = get_model()\n",
    "model.training( data ) \n",
    "test_score = model.evaluate( test_data ) \n",
    "\n"
   ]
  },
  {
   "cell_type": "code",
   "execution_count": null,
   "metadata": {},
   "outputs": [],
   "source": [
    "# Iterated K-fold validation\n",
    "# You simply repeat the above procedure P times, and each time you re-shuffle the data\n",
    "\n",
    "P = 5 # Shuffle P times\n",
    "k = 4 # K-fold validation\n",
    "num_validation_sample = len( data ) // k # Here only take the integer part\n",
    "\n",
    "\n",
    "validation_score = [] \n",
    "\n",
    "for pp in range(P): \n",
    "\n",
    "    np.random.shuffle( data ) \n",
    "\n",
    "    for fold in range[k]: \n",
    "        validation_data = data[ num_validation_sample * fold : \n",
    "                              num_validation_sample * (fold+1) ] \n",
    "\n",
    "        training_data = data[ : num_validation_sample * fold ] + data[ num_validation_sample * (fold+1) ] \n",
    "\n",
    "        model = get_model() \n",
    "        model.train( training_data ) \n",
    "        validation_score = model.evaluate( validation_data ) \n",
    "        validation_scores.append( validation_score ) \n",
    "\n",
    "validation_score = np.average( validation_scores ) \n",
    "    \n",
    "model = get_model()\n",
    "model.training( data ) \n",
    "test_score = model.evaluate( test_data ) \n",
    "\n"
   ]
  },
  {
   "cell_type": "markdown",
   "metadata": {},
   "source": [
    "#### Things to keep in mind <a name = 'ThingsToKeep'></a>\n",
    "\n",
    "1. Always randomly shuffle your data\n",
    "2. However, if you are dealing things with certain directions, say time, DO NOT shuffle in that direction\n",
    "3. DO NOT include repeated or redundant data"
   ]
  },
  {
   "cell_type": "markdown",
   "metadata": {},
   "source": [
    "### Feature engineering, data processing  <a name = 'prepare_data' ></a>\n",
    "\n",
    "Before we build the NN model, we need to ask \"how do you prepare the input data and targets before feeding them into NN\"? Here we review some basics that are working for all data domains (there are specific tech for specfic datas, not cover here)\n",
    "\n",
    "1. Data vetorization/tensorization\n",
    "2. Data normaliation (for all different types of datas, take small value between 0,1 and have mean 0, and std 1)\n",
    "\n",
    "3. Put the missing data as 0 (provided that 0 is NOT meaningful in data and output. Not revalvent for now)\n",
    "\n",
    "4. UNDERSTAND your problem and translate it into a simple way that NN can solve."
   ]
  },
  {
   "cell_type": "markdown",
   "metadata": {},
   "source": [
    "### Overfitting (Key section) <a name = 'Overfit' ></a>\n",
    "\n",
    "In general there are FOUR strategies \n",
    "\n",
    "1. Get more data (so that it cannot memorize too much small patterns but forced to learn most imporatnat patterns which may be generalized)\n",
    "2. Reduce the size of NN such as layer, node, epoch (so that it can NOT memorize too much same as above) \n",
    "3. Add weight regularization. It is adding COST to the loss function of the NN associated with having large weights. Thare are two kinds, L1 and L2 regulations corresponding to abs value and square of abs vlaue of weights. **Why weight regulartion  is useful?**  Because it constraint the range within which the weight (the knowledge of the NN) can take, such that the entropy of the NN is less, and the model is simpler, more regular. \n",
    "4. Add dropout. It consists of introducing **noise** in the output values of a intermediate layer which breaks up the coincident patterns that are not important, which otherwise the NN will start to remember it, if no noise is present."
   ]
  },
  {
   "cell_type": "markdown",
   "metadata": {},
   "source": [
    "#### Reducing the network size  <a name = 'reduce_size' ></a>\n",
    "1. This is the simplest way to overcome overfitting, which is to reduce the number of paramters in the NN. A model with more parameter will be able to remember more UN-necessary details in the training set, and over-fit. \n",
    "\n",
    "2. With less parametre, in order to minimize loss, it has to \"remmeber\" more imporatnt things, which can be generalized to test set. \n",
    "\n",
    "3. With more parameters, the NN can fit the training set much quicker, but that is useless.\n",
    "\n",
    "4. You have to tune the model many times, to find the right number of parameters. \n",
    "\n",
    "5. We won't demonstrate the above here. See p 105-107"
   ]
  },
  {
   "cell_type": "markdown",
   "metadata": {},
   "source": [
    "#### Weight regularization  <a name = 'Weight_regularization' ></a>\n",
    "\n",
    "1. Occam's razor: A simpler, hence smaller model, will more likely be generalized to test set, and less likely be overfitted.\n",
    "\n",
    "2. A **simple model** here means a model with the distribution of parameters has less entropy. As a result, we would like to constraint the range of the parameters so that they all can only take values within a certain small range. This is called **weight regularization** which makes the distribution of weight (the knowledge of the NN) to be more **regular**. \n",
    "\n",
    "3. This is done by adding to the NN a **loss** (don't confuse with other lossess) so that the NN will have to pay for having large weight. There are TWO kinds of regularizations\n",
    "    1. **L1 regularization** abs value of the weight coe\n",
    "    2. **L2 regularization** abs square of the weight coe\n",
    "    \n",
    "4. In Keras, you can do that with jsut one argument. There are three options, demonstrated below "
   ]
  },
  {
   "cell_type": "code",
   "execution_count": null,
   "metadata": {},
   "outputs": [],
   "source": [
    "# L2 regularization (DO NOT confuse that with number 12, it is lower case L)\n",
    "# Here it means every coe in the weight matrix of the layer will \n",
    "# add 0.001 * weight_coe_value to the total loss of the NN\n",
    "model.add( layers.Dense( 16 , kernel_regularizer = regularizers.12( 0.001 ) , \n",
    "                       activation='relu' , input_shape = (10000 , ) ) ) \n",
    "\n",
    "# L1 is simply replace l2 to l1\n",
    "model.add( layers.Dense( 16 , kernel_regularizer = regularizers.11( 0.001 ) , \n",
    "                       activation='relu' , input_shape = (10000 , ) ) ) \n",
    "\n",
    "## Or you can do L1 and L2 together\n",
    "model.add( layers.Dense( 16 , kernel_regularizer = regularizers.11_l2( l1 = 0.001 , l2 = 0.001 ) , \n",
    "                       activation='relu' , input_shape = (10000 , ) ) ) \n"
   ]
  },
  {
   "cell_type": "markdown",
   "metadata": {},
   "source": [
    "#### Add dropout  <a name = 'dropout' ></a>\n",
    "1. Dropout is applied to an intermedinate layer, which randomly **dropping out** a number of output features, during training, by setting them to zero.\n",
    "2. The **dropout rate** is the number of features that are zeroed out, which is usually bewteen 0.2 and 0.5\n",
    "3. The idea is that through introducing **noise**, it breaks up the coincident patterns in the feature map, which otherwise will be remmeber by NN if there is no noise.\n",
    "4. The above is done in the training process. For the test set, **no** unit will be drop out. There are two ways to handle the test data\n",
    "    1. We scale **DOWN** the test output by the dropout rate (times the dropout rate), as more units are active in the test time.\n",
    "    2. We didn't touch the test output, rather we scale **UP** the training output by the dropout rate( divided by the dropout rate). This is equivalent to the above.\n",
    "    \n",
    "5. In keras, this is done by intrducing the **dropout layer**, as demonstrated below. **But I am not sure how to modify the layer out as discussed above yet**"
   ]
  },
  {
   "cell_type": "code",
   "execution_count": null,
   "metadata": {},
   "outputs": [],
   "source": [
    "model = models.Sequential() \n",
    "model.add( layers.Dense( 16 , activation= 'relu' , input_shape = ( 10000 , ) ) ) \n",
    "\n",
    "# Add a dropout layer\n",
    "model.add( layers.Dropout( 0.5 ) ) \n",
    "model.add( layers.Dense( 16 , activation = 'relu' ) ) \n",
    "\n",
    "# Add another dropout layer\n",
    "model.add( layers.Dropout( 0.5 ) ) \n",
    "\n",
    "model.add( layers.Dense( 1 , activation = 'sigmoid' ) ) \n"
   ]
  },
  {
   "cell_type": "markdown",
   "metadata": {},
   "source": [
    "### Workflow of ML (key summary) <a name = 'workflow' ></a>\n",
    "It is simply FOUR steps: \n",
    "\n",
    "1. Problem Defintion \n",
    "    1. What will the input data look like\n",
    "    2. What you want to prdcit\n",
    "    3. What type of problem? Classification, regression etc.\n",
    "    4. Cannot be non-stationary problem \n",
    "    5. You make the following hypothesis\n",
    "        1. You asssume that your outputs can be predicted with your input\n",
    "        2. You assume that you have feed in big enough datas\n",
    "\n",
    "2. Metric of success\n",
    "    1. How you want to say your NN is good?\n",
    "    2. For different problem, there are differnet metric, like \"accuracy\" for classification, \"mse\" for regression etc.\n",
    "\n",
    "3. Validation methods (fight with overfit)\n",
    "    1. You have to tune your NN, with validation step. \n",
    "    2. Hold-out (K=2 fold validaiton)\n",
    "    3. K-fold validation\n",
    "    4. Iterated K-fold validation\n",
    "\n",
    "4. Data processing\n",
    "    1. Before feed your data into NN, massage them  abit\n",
    "    2. Make them as tensor, with zero mean, std = 1\n",
    "    3. For small data, you may want to do some feature engineering, such as [Data augmentation](#Ch5_data_augmentation) in Ch 5.\n",
    "\n",
    "5. Make sure your model is better than baseline\n",
    "    1. For classificaiton problem, your model has to be better than just blindly guessing. **For regression problem, not sure what is the baseline yet**\n",
    "    2. If you cannot, check if the follwing two assumpatiosn you made\n",
    "        1. You asssume that your outputs can be predicted with your input\n",
    "        2. You assume that you have feed in big enough datas\n",
    "    3. You have to make the follwing key choices at the key positions at your NN\n",
    "        1. Last layer activation, 'relu' or 'sigmoid' or sth else\n",
    "        2. Loss function, \"binary_crossentropy\" or sth\n",
    "        3. Optimization config, \"rmsprop\" etc. \n",
    "    4. Use the followign **last-layer activation** and **loss function**\n",
    "        1. Prob. type,  last-layer act., loss func.\n",
    "        2. Class-binary, \"sigmoid\", \"binary_crossentropy\"\n",
    "        3. Class-multiclass-single-label, \"softmax\", \"categorical_crossentropy\"\n",
    "        4. Class-multiclass-multi-label, \"sigmoid\", \"binary_crossentropy\"        \n",
    "        5. Regression-arbitrary-value , \"None\" , \"mse\"\n",
    "        6. Regression-between_0_1 , \"Sigmoid\" , \"mse\" or \"binary_crossentropy\"\n",
    "\n",
    "6. Scaling your model to have overfits\n",
    "    1. You don't want to overfit, but you have to know when it starts overfit.\n",
    "    2. Thus when your model is UNDERfit, you should add layers, make your models bigger, add more epochs\n",
    "    3. Monitor the training loss, validaiton loss. \n",
    "7. Regularize your model (time-consuming)\n",
    "    1. Add drop out\n",
    "    2. Tune other crap in your model\n",
    "    3. Add L1/L2 regularization\n",
    "    4. Try different number of layers, nodes, watever\n",
    "    5. watever"
   ]
  },
  {
   "cell_type": "markdown",
   "metadata": {},
   "source": [
    "\n",
    "### Some vocabularies for classification and regression <a name = 'vocabulary' ></a>\n",
    "1. Sample/input, ONE data point goes into model\n",
    "2. Prediction/output, what comes out from model\n",
    "3. Target, the true value (part of the data goes into model)\n",
    "4. Prediction error/loss value, measure of distance of target and output\n",
    "5. Classes, obvious meaning\n",
    "6. Ground-truth/annotation. All targets collected into classes. Done by human\n",
    "6. Label, a specific instance of a class annoation in the classfication problem\n",
    "7. Binary classfication, prediction is either 0 or 1\n",
    "8. Multiclass classfication, prediction is 0,1,2,3,...\n",
    "9. multilabel classficaiton, Each input could have been assigned multiple labels, rather than one. Different input could even have variant number of labels\n",
    "10. Scalar regression. Regression problem with output being a scalar which can take a continous value\n",
    "11. Vector regression. Regression prlbem with vector output, that can take a continuos value\n",
    "12. Mini-batch/batch. A small set of samples that are processed at a time by the model, which is often times chosen randomly. It is used to compute a single gradient descent update that will be used to update the weight in the model.\n",
    "\n",
    "13. Hyperparameters, number of layers and number of nodes per layer.\n",
    "\n",
    "\n"
   ]
  },
  {
   "cell_type": "markdown",
   "metadata": {},
   "source": [
    "## Ch 5. Deep learning for computer vision<a name=\"Ch5\"></a>\n",
    "This chapter is essentially about CNN"
   ]
  },
  {
   "cell_type": "markdown",
   "metadata": {},
   "source": [
    "### Introduction to CNN <a name = 'intro_cnn' ></a>\n",
    "Here we show what a basic CNN looks like. It is a stack of **Conv2D** (Could be 1D, 2D and 3D, higher D is not available in the framework, got to write your own!) and **MaxPooling2D** layers.\n",
    "\n",
    "In particular, it is 3 layers of Conv2D and 2 layers of MaxPooling2D stacked in an alternative way. \n",
    "\n",
    "The input and output of each layer is of the shape (height , width , channels), where the 1st two dimensions tend to shrink as we go deeper into the CNN.\n",
    "\n",
    "We display the architecture of the CNN, but not quite understand the meaning yet. "
   ]
  },
  {
   "cell_type": "code",
   "execution_count": 321,
   "metadata": {},
   "outputs": [
    {
     "name": "stdout",
     "output_type": "stream",
     "text": [
      "The architecture of the CNN before\n",
      "Model: \"sequential_50\"\n",
      "_________________________________________________________________\n",
      "Layer (type)                 Output Shape              Param #   \n",
      "=================================================================\n",
      "conv2d_10 (Conv2D)           (None, 26, 26, 32)        320       \n",
      "_________________________________________________________________\n",
      "max_pooling2d_7 (MaxPooling2 (None, 13, 13, 32)        0         \n",
      "_________________________________________________________________\n",
      "conv2d_11 (Conv2D)           (None, 9, 9, 64)          51264     \n",
      "_________________________________________________________________\n",
      "max_pooling2d_8 (MaxPooling2 (None, 4, 4, 64)          0         \n",
      "_________________________________________________________________\n",
      "conv2d_12 (Conv2D)           (None, 2, 2, 64)          36928     \n",
      "=================================================================\n",
      "Total params: 88,512\n",
      "Trainable params: 88,512\n",
      "Non-trainable params: 0\n",
      "_________________________________________________________________\n",
      "The architecture of the CNN after\n",
      "Model: \"sequential_50\"\n",
      "_________________________________________________________________\n",
      "Layer (type)                 Output Shape              Param #   \n",
      "=================================================================\n",
      "conv2d_10 (Conv2D)           (None, 26, 26, 32)        320       \n",
      "_________________________________________________________________\n",
      "max_pooling2d_7 (MaxPooling2 (None, 13, 13, 32)        0         \n",
      "_________________________________________________________________\n",
      "conv2d_11 (Conv2D)           (None, 9, 9, 64)          51264     \n",
      "_________________________________________________________________\n",
      "max_pooling2d_8 (MaxPooling2 (None, 4, 4, 64)          0         \n",
      "_________________________________________________________________\n",
      "conv2d_12 (Conv2D)           (None, 2, 2, 64)          36928     \n",
      "_________________________________________________________________\n",
      "flatten_3 (Flatten)          (None, 256)               0         \n",
      "_________________________________________________________________\n",
      "dense_139 (Dense)            (None, 64)                16448     \n",
      "_________________________________________________________________\n",
      "dense_140 (Dense)            (None, 10)                650       \n",
      "=================================================================\n",
      "Total params: 105,610\n",
      "Trainable params: 105,610\n",
      "Non-trainable params: 0\n",
      "_________________________________________________________________\n"
     ]
    }
   ],
   "source": [
    "from keras import layers\n",
    "from keras import models\n",
    "\n",
    "model = models.Sequential()\n",
    "model.add( layers.Conv2D( 32 , (3,3) , activation = 'relu' , input_shape = (28,28,1) ) ) \n",
    "model.add( layers.MaxPooling2D( (2,2) ) ) \n",
    "model.add( layers.Conv2D( 64 , (5,5) , activation = 'relu' ) ) \n",
    "model.add( layers.MaxPooling2D( (2,2) ) ) \n",
    "model.add( layers.Conv2D( 64 , (3,3) , activation = 'relu' ) ) \n",
    "\n",
    "print( 'The architecture of the CNN before')\n",
    "model.summary()\n",
    "\n",
    "model.add( layers.Flatten() ) \n",
    "model.add( layers.Dense( 64 , activation = 'relu' ) ) \n",
    "model.add( layers.Dense( 10 , activation = 'softmax' ) ) \n",
    "\n",
    "print( 'The architecture of the CNN after')\n",
    "model.summary()"
   ]
  },
  {
   "cell_type": "markdown",
   "metadata": {},
   "source": [
    "#### Example of MNIST again <a name = 'MNIST_again' ></a>"
   ]
  },
  {
   "cell_type": "code",
   "execution_count": 314,
   "metadata": {},
   "outputs": [
    {
     "name": "stdout",
     "output_type": "stream",
     "text": [
      "Epoch 1/5\n",
      "60000/60000 [==============================] - 32s 538us/step - loss: 0.1806 - accuracy: 0.9426\n",
      "Epoch 2/5\n",
      "60000/60000 [==============================] - 32s 537us/step - loss: 0.0471 - accuracy: 0.9851\n",
      "Epoch 3/5\n",
      "60000/60000 [==============================] - 32s 533us/step - loss: 0.0327 - accuracy: 0.9898\n",
      "Epoch 4/5\n",
      "60000/60000 [==============================] - 32s 525us/step - loss: 0.0235 - accuracy: 0.9928\n",
      "Epoch 5/5\n",
      "60000/60000 [==============================] - 32s 534us/step - loss: 0.0203 - accuracy: 0.9937\n",
      "10000/10000 [==============================] - 2s 158us/step\n",
      "0.02663247952898091 0.9919999837875366\n"
     ]
    }
   ],
   "source": [
    "from keras.datasets import mnist\n",
    "from keras.utils import to_categorical\n",
    "\n",
    "# Load the data\n",
    "(train_images , train_labels) , (test_images , test_labels) = mnist.load_data()\n",
    "\n",
    "# Vectoerize the data\n",
    "train_images = train_images.reshape( ( 60000 , 28 , 28 , 1 ) ) \n",
    "train_images = train_images.astype( 'float32' ) / 255\n",
    "test_images = test_images.reshape( ( 10000 , 28 , 28 , 1 ) ) \n",
    "test_images = test_images.astype( 'float32' ) / 255\n",
    "\n",
    "train_labels = to_categorical( train_labels ) \n",
    "test_labels = to_categorical( test_labels ) \n",
    "\n",
    "# Train the model\n",
    "\n",
    "model.compile( optimizer = 'rmsprop' , \n",
    "             loss = 'categorical_crossentropy' , \n",
    "             metrics = ['accuracy' ] ) \n",
    "model.fit( train_images , train_labels , epochs = 5 , batch_size = 64 ) \n",
    "\n",
    "# Apply to the test data\n",
    "test_loss , test_acc = model.evaluate( test_images , test_labels ) \n",
    "print( test_loss , test_acc ) "
   ]
  },
  {
   "cell_type": "markdown",
   "metadata": {},
   "source": [
    "#### The CNN operation  <a name = 'CNN_operation' ></a>\n",
    "\n",
    "1. The difference between **Dense** layer and **CNN** layer is that the Dense layer learns the all the data at once (global), while the CNN layer learns part of the data once at a time (local). \n",
    "\n",
    "2. Two characteristics of CNN. \n",
    "    1. The patterns CNN learns are translation invariant. If CNN learn sth somewhere, it can recognize it anywere. Also they need fewer training samples to learn representations so that the generalization power is greater.\n",
    "    2. CNN can learn spatial hierarchies of patterns. The first layer learn sth concrete, and as we go deeper into the CNN, the things it learn gets more and more abstract. \n",
    "    \n",
    "3. CNN operate over 3D tensors, with (height, width, channel). The CNN operation extracts patches (part of the data), and apply some transformation to produce the **output feature map**. The output is of size (height , width , filter) where the dimensions need to be the same as the input. **Filter encode certain feature of the input, which could be very abstract.** Thus the output is just a **response map of input** of size (height , width) where each point has a filter.\n",
    "\n",
    "4. CNN are defined by TWO key parameters\n",
    "    1. Size of patches extracted from the inputs. Often (3x3) or (5x5)\n",
    "    2. Number of channels of the output feature map. \n",
    "    3. It is often written as Conv2D( output_channel , (patch_height , patch_width) )\n",
    "\n",
    "5. CNN will slide these patches to all positions, followed by a tensor transformation done by **convolution kernel**, into a 1D vector of shape (output_channel,). Finally all these vectors will be ensembled to the output of size (output_height , output_width , output_channel). The output width and height could be different from the input, due to bordering effect. \n",
    "\n",
    "6. Border effect. This is easy to understand. Given a square of size (M,N), and if you want to scan through it with a patch of size (m,n), there the output map will be of size (M-m+1 , N-n+1).\n",
    "\n",
    "7. Padding. If you want the output size to be the same as the input size, then you can add some extra number of rows and columns. **But this seems really weird!! How do you create the \"ghost\" inputs?**\n",
    "\n",
    "8. In Conv2D, padding can be realized via the \"padding\" argument, which take TWO values. By default it is \"valid\", which means no padding; Or it can take \"same\" which will pad in such a way that the output and input have the same size.\n",
    "\n",
    "9. Strides. Strides can also affect hte output size. In the above, we assume that each time when we slide the patch, we slide it by ONE unit. But this need not be the case, and it is called the **strided convolutions**. This is rarely used. \n"
   ]
  },
  {
   "cell_type": "markdown",
   "metadata": {},
   "source": [
    "#### The max-pooling operation <a name = 'max_pooling_operation'></a>\n",
    "\n",
    "Max-pooling is to **agressivly downsample the feature maps (shrink its size), much like strided convolutions**. \n",
    "\n",
    "1. Max pooling is like convolution, except that the latter use linear transformation (convolution kernal) while the latter use hardcoded **max** tensor operation.\n",
    "\n",
    "2. Max pooling is usually done with 2x2 pathc and stride 2, which often half the size of the feature map. \n",
    "\n",
    "3. The reason we downsample the feature map is the following.\n",
    "    1. If we don't do that, there will be lots of parameter s to fit, which will result in severe over-fitting.\n",
    "    2. If we don't do that, the CNN may not be able to learn the general feature of the input. This is similar to the previous one: If you have lots of parameter, the network will still remember lots of details that are specific to the training set. Thus by downsample the feature, CNN can learn the **spatial hierachy of features**\n",
    "    \n",
    "    \n",
    "4. There are other ways to downsample the feature map, such as the naive stride convolution, average polling (by averaging the value of each channel over the patch, rather than taking just the max). But max-pooling is oftentimes better. The general philosophy is that you first want to have a dense feature map, then look at the max which is the most informative ones. \n",
    "\n"
   ]
  },
  {
   "cell_type": "markdown",
   "metadata": {},
   "source": [
    "### Training CNN from scratch on a small dataset <a name = 'Training_cnn'></a>\n",
    "Here we will to use **data augmentation** to handle the case where we have only very few data, without too much overfitting. Moreover, deep learning Network are very **repurposable** means that a network trained for one thing can be adapted to solve other problems. For that reason in [Pretrained public CNN], we will learn **feature extration with a pre-trained network** and **how to fine-tune a pretrained network**.  With the data augmentation tech above, we shall be tabel to handle small data better\n",
    "\n",
    "1. Data augmentataion is designed to solve the problem that we have too less data such that the overfitting could be very severe. Data augmentation takes the approach of generating more training data from the existing training sample, by **augmenting the sample via randomly transform the image to yield sort-of-like images.** The point is that your network won't see the exactly the same picture twice, but changed a bit.  "
   ]
  },
  {
   "cell_type": "markdown",
   "metadata": {},
   "source": [
    "#### Get Data <a name = 'Ch5_get_data'></a>\n",
    "Here we load the data of cat and dog. DO NOT spend too much time on this right, I just copy paste. Note we have to download the pictures form teh website first, then run the code. You will have to go to the directory '/Users/MaoLin/Documents/LookingForJobs/Machine_Learning/Cat_dog_thing/cats_and_dogs_small' so that it can show up. To go to a directory, use Shift + Command + G"
   ]
  },
  {
   "cell_type": "code",
   "execution_count": 335,
   "metadata": {},
   "outputs": [],
   "source": [
    "import os, shutil\n",
    "original_dataset_dir = '/Users/MaoLin/Documents/LookingForJobs/Machine_Learning/Cat_dog_thing/kaggle_original_data'\n",
    "\n",
    "base_dir = '/Users/MaoLin/Documents/LookingForJobs/Machine_Learning/Cat_dog_thing/cats_and_dogs_small' \n",
    "os.mkdir(base_dir)\n",
    "train_dir = os.path.join(base_dir, 'train') \n",
    "os.mkdir(train_dir)\n",
    "validation_dir = os.path.join(base_dir, 'validation') \n",
    "os.mkdir(validation_dir)\n",
    "test_dir = os.path.join(base_dir, 'test') \n",
    "os.mkdir(test_dir)\n",
    "\n",
    "train_cats_dir = os.path.join(train_dir, 'cats') \n",
    "os.mkdir(train_cats_dir)\n",
    "train_dogs_dir = os.path.join(train_dir, 'dogs') \n",
    "os.mkdir(train_dogs_dir)\n",
    "\n",
    "validation_cats_dir = os.path.join(validation_dir, 'cats') \n",
    "os.mkdir(validation_cats_dir)\n",
    "validation_dogs_dir = os.path.join(validation_dir, 'dogs') \n",
    "os.mkdir(validation_dogs_dir)\n",
    "\n",
    "test_cats_dir = os.path.join(test_dir, 'cats') \n",
    "os.mkdir(test_cats_dir)\n",
    "test_dogs_dir = os.path.join(test_dir, 'dogs') \n",
    "os.mkdir(test_dogs_dir)\n",
    "\n",
    "fnames = ['cat.{}.jpg'.format(i) for i in range(1000)] \n",
    "for fname in fnames:\n",
    "    src = os.path.join(original_dataset_dir, fname) \n",
    "    dst = os.path.join(train_cats_dir, fname) \n",
    "    shutil.copyfile(src, dst)   \n",
    "    \n",
    "fnames = ['cat.{}.jpg'.format(i) for i in range(1000, 1500)] \n",
    "for fname in fnames:\n",
    "    src = os.path.join(original_dataset_dir, fname) \n",
    "    dst = os.path.join(validation_cats_dir, fname) \n",
    "    shutil.copyfile(src, dst)\n",
    "fnames = ['cat.{}.jpg'.format(i) for i in range(1500, 2000)] \n",
    "for fname in fnames:\n",
    "    src = os.path.join(original_dataset_dir, fname) \n",
    "    dst = os.path.join(test_cats_dir, fname) \n",
    "    shutil.copyfile(src, dst)\n",
    "    \n",
    "    \n",
    "fnames = ['dog.{}.jpg'.format(i) for i in range(1000)] \n",
    "for fname in fnames:\n",
    "    src = os.path.join(original_dataset_dir, fname) \n",
    "    dst = os.path.join(train_dogs_dir, fname) \n",
    "    shutil.copyfile(src, dst)\n",
    "\n",
    "fnames = ['dog.{}.jpg'.format(i) for i in range(1000, 1500)] \n",
    "for fname in fnames:\n",
    "    src = os.path.join(original_dataset_dir, fname) \n",
    "    dst = os.path.join(validation_dogs_dir, fname) \n",
    "    shutil.copyfile(src, dst)\n",
    "    \n",
    "fnames = ['dog.{}.jpg'.format(i) for i in range(1500, 2000)] \n",
    "for fname in fnames:\n",
    "    src = os.path.join(original_dataset_dir, fname) \n",
    "    dst = os.path.join(test_dogs_dir, fname) \n",
    "    shutil.copyfile(src, dst)  "
   ]
  },
  {
   "cell_type": "code",
   "execution_count": 336,
   "metadata": {},
   "outputs": [
    {
     "name": "stdout",
     "output_type": "stream",
     "text": [
      "total training cat images: 1000\n",
      "total training dog images: 1000\n",
      "total validation cat images: 500\n",
      "total validation dog images: 500\n",
      "total test cat images: 500\n",
      "total test dog images: 500\n"
     ]
    }
   ],
   "source": [
    "print('total training cat images:', len(os.listdir(train_cats_dir))) \n",
    "print('total training dog images:', len(os.listdir(train_dogs_dir))) \n",
    "print('total validation cat images:', len(os.listdir(validation_cats_dir)))\n",
    "print('total validation dog images:', len(os.listdir(validation_dogs_dir)))\n",
    "print('total test cat images:', len(os.listdir(test_cats_dir)))\n",
    "print('total test dog images:', len(os.listdir(test_dogs_dir)))"
   ]
  },
  {
   "cell_type": "markdown",
   "metadata": {},
   "source": [
    "#### Build CNN <a name = 'Ch5_build_cnn'></a>\n",
    "The CNN here is really the same as that used for the [MNIST problem](#intro_cnn), which has alternated Conv2D (with relu) and MaxPooling2D layers. The different thing is that because the problem at hand is quit big, we will ahve one more Conv2D + MaxPooling2D. The former is so that we have more parameters to fit the problem, the latter is to quickly downsample it so that we dont overfit. \n",
    "\n",
    "As we will see in this CNN, the number of channels (depth) will increase quickly from 32 to 128, while the dimensional size (height,width) will shrink. This is common.\n",
    "\n",
    "For the compilation step, it is reall the same as that of [2-class classification problem](#example2_validation1)"
   ]
  },
  {
   "cell_type": "code",
   "execution_count": 339,
   "metadata": {},
   "outputs": [
    {
     "name": "stdout",
     "output_type": "stream",
     "text": [
      "Model: \"sequential_53\"\n",
      "_________________________________________________________________\n",
      "Layer (type)                 Output Shape              Param #   \n",
      "=================================================================\n",
      "conv2d_21 (Conv2D)           (None, 148, 148, 32)      896       \n",
      "_________________________________________________________________\n",
      "max_pooling2d_17 (MaxPooling (None, 74, 74, 32)        0         \n",
      "_________________________________________________________________\n",
      "conv2d_22 (Conv2D)           (None, 72, 72, 64)        18496     \n",
      "_________________________________________________________________\n",
      "max_pooling2d_18 (MaxPooling (None, 36, 36, 64)        0         \n",
      "_________________________________________________________________\n",
      "conv2d_23 (Conv2D)           (None, 34, 34, 128)       73856     \n",
      "_________________________________________________________________\n",
      "max_pooling2d_19 (MaxPooling (None, 17, 17, 128)       0         \n",
      "_________________________________________________________________\n",
      "conv2d_24 (Conv2D)           (None, 15, 15, 128)       147584    \n",
      "_________________________________________________________________\n",
      "max_pooling2d_20 (MaxPooling (None, 7, 7, 128)         0         \n",
      "_________________________________________________________________\n",
      "flatten_6 (Flatten)          (None, 6272)              0         \n",
      "_________________________________________________________________\n",
      "dense_145 (Dense)            (None, 512)               3211776   \n",
      "_________________________________________________________________\n",
      "dense_146 (Dense)            (None, 1)                 513       \n",
      "=================================================================\n",
      "Total params: 3,453,121\n",
      "Trainable params: 3,453,121\n",
      "Non-trainable params: 0\n",
      "_________________________________________________________________\n"
     ]
    }
   ],
   "source": [
    "from keras import layers\n",
    "from keras import models\n",
    "\n",
    "\n",
    "# This is literally copy paste from previous examples\n",
    "# Here the input size (150,150) is chosen arbitraly. \n",
    "# NOT sure why there is a 3 in the input size yet.\n",
    "model = models.Sequential()\n",
    "model.add( layers.Conv2D( 32 , (3,3) , activation = 'relu' , input_shape = (150,150,3) ) ) \n",
    "model.add( layers.MaxPooling2D( (2,2) ) ) \n",
    "model.add( layers.Conv2D( 64 , (3,3) , activation = 'relu' ) ) \n",
    "model.add( layers.MaxPooling2D( (2,2) ) ) \n",
    "model.add( layers.Conv2D( 128 , (3,3) , activation = 'relu' ) ) \n",
    "model.add( layers.MaxPooling2D( (2,2) ) ) \n",
    "\n",
    "# These are the extra things, for the image prolbem at hand\n",
    "model.add( layers.Conv2D( 128 , (3,3) , activation = 'relu' ) ) \n",
    "model.add( layers.MaxPooling2D( (2,2) ) ) \n",
    "\n",
    "model.add( layers.Flatten() ) \n",
    "model.add( layers.Dense( 512 , activation = 'relu' ) ) \n",
    "model.add( layers.Dense( 1 , activation = 'sigmoid' ) ) \n",
    "\n",
    "model.summary()\n",
    "\n",
    "from keras import optimizers\n",
    "\n",
    "# Here we complie the model\n",
    "\n",
    "model.compile( loss = 'binary_crossentropy' , \n",
    "             optimizer = optimizers.RMSprop(lr=1e-4) , \n",
    "             metrics = ['acc' ] )   \n",
    "\n",
    "model.save('cats_and_dogs_small_1.h5')"
   ]
  },
  {
   "cell_type": "markdown",
   "metadata": {},
   "source": [
    "#### Data preprocessing <a name = 'Ch5_data_process'></a>\n",
    "We know taht we should do sth to teh data we have now, as they are jpg in the drive. The steps are the following\n",
    "1. Read the files, in jpg\n",
    "2. Convert the jpg to RGB\n",
    "3. Conver the RGB to floating number\n",
    "4. Rescale the floating number, which is 0-255 to 0,1\n",
    "\n",
    "5. This can be done with **ImageDataGenerator** in Keras"
   ]
  },
  {
   "cell_type": "code",
   "execution_count": null,
   "metadata": {},
   "outputs": [],
   "source": [
    "from keras.preprocessing.image import ImageDataGenerator\n",
    "\n",
    "train_datagen = ImageDataGenerator( rescale = 1./255 ) \n",
    "test_datagen = ImageDataGenerator( rescale = 1./255 ) \n",
    "\n",
    "train_generator = train_datagen.flow_from_directory( train_dir , # Target dir\n",
    "                                                   target_size=(150,150) , # Resize all images\n",
    "                                                   batch_size=20 , \n",
    "                                                   class_mode = 'binary' ) # \n",
    "\n",
    "# Do the same for validation\n",
    "validation_generator = test_datagen.flow_from_directory( train_dir , # Target dir\n",
    "                                                   target_size=(150,150) , # Resize all images\n",
    "                                                   batch_size=20 , \n",
    "                                                   class_mode = 'binary' ) # \n"
   ]
  },
  {
   "cell_type": "markdown",
   "metadata": {},
   "source": [
    "#### Data augmentation <a name = 'Ch5_data_augmentation'></a>\n",
    "\n",
    "Data augmentation simply take the exisitng images, and randomly distort them abit, so that human will not tell the difference,  then feed it back to the CNN. Note that CNN will not see the exactly the figure twice (Note that we should never have redundancy in our data)"
   ]
  },
  {
   "cell_type": "code",
   "execution_count": null,
   "metadata": {},
   "outputs": [],
   "source": []
  },
  {
   "cell_type": "markdown",
   "metadata": {},
   "source": [
    "### Pretrained public CNN (TBC) <a name = 'public_cnn'></a>\n",
    "A pretrained network is a saved network that was previously trained on a large dataset, typically on a large-scale image-classification task. If this original dataset is large enough and general enough, then the spatial hierarchy of fea- tures learned by the pretrained network can effectively act as a generic model of the visual world, and hence its features can prove useful for many different computer- vision problems, even though these new problems may involve completely different classes than those of the original task.\n"
   ]
  },
  {
   "cell_type": "markdown",
   "metadata": {},
   "source": [
    "### Visualization of what CNN learn <a name = 'visualization_cnn' ></a>\n",
    "The representations learned by convnets are highly amenable to visualization, in large part because they’re **representations of visual concepts**. There are THREE approaches\n",
    "1. Visualizing intermediate convnet outputs **(intermediate activations)**\n",
    "2. Visualizing **convnets filters**\n",
    "3. Visualizing **heatmaps of class activation** in an image\n",
    "\n",
    "You probably want to go back to [Training CNN from scratch on a small dataset](#Training_cnn), and re-run the thing and save the model, and then come back here"
   ]
  },
  {
   "cell_type": "markdown",
   "metadata": {},
   "source": [
    "#### Visualization of intermediate activations <a name = 'see_activation'></a>\n",
    "1. Visualizing intermediate activations consists of displaying the feature maps that are output by various convolution and pooling layers in a network, given a certain input (the output of a layer is often called its **activation**, the output of the activation function). \n",
    "2. Each channel encodes relatively independent features, so the proper way to visualize these feature maps is by independently plotting the contents of every channel as a 2D image. \n",
    "\n",
    "\n",
    "We outline the steps below\n",
    "\n",
    "1. Grab a trained network, and an image that is NOT in the training set"
   ]
  },
  {
   "cell_type": "code",
   "execution_count": null,
   "metadata": {},
   "outputs": [],
   "source": [
    "from keras.models import load_model\n",
    "model = load_model( 'cats_and_dogs_small_2.h5' )\n",
    "model.summary()"
   ]
  },
  {
   "cell_type": "markdown",
   "metadata": {},
   "source": [
    "2. **Keras class Model** takes batches of images as input, and outputs the activations of all convolution and pooling layers. Note that this is our **1ST** to see a model with more than one input and more than oue output"
   ]
  },
  {
   "cell_type": "code",
   "execution_count": null,
   "metadata": {},
   "outputs": [],
   "source": [
    "from keras import models\n",
    "# The first line extracts the output of the first 8 layers\n",
    "layer_outputs = [layer.output for layer in model.layers[:8]] \n",
    "# The second line is a model takes in sth, and output sth. \n",
    "activation_model = models.Model(inputs=model.input, outputs=layer_outputs)"
   ]
  },
  {
   "cell_type": "markdown",
   "metadata": {},
   "source": [
    "3. Visualize the diferent activations in the different layers. Different activations in the SAME layer could encode different stuffs, like edges, colros etc. "
   ]
  },
  {
   "cell_type": "code",
   "execution_count": null,
   "metadata": {},
   "outputs": [],
   "source": [
    "import matplotlib.pyplot as plt \n",
    "\n",
    "first_layer_activation = activations[0] \n",
    "print(first_layer_activation.shape)\n",
    "\n",
    "plt.matshow(first_layer_activation[0, :, :, 4], cmap='viridis')\n",
    "plt.matshow(first_layer_activation[0, :, :, 7], cmap='viridis')"
   ]
  },
  {
   "cell_type": "markdown",
   "metadata": {},
   "source": [
    "4. Notes to take\n",
    "    1. The first layer acts as a collection of various edge detectors. At that stage, the activations retain almost all of the information present in the initial picture.\n",
    "    2. As you go higher, the activations become increasingly abstract and less visually interpretable.\n",
    "    3. Higher presentations carry increasingly less information about the visual contents of the image, and increasingly more information related to the class of the image.\n",
    "    4. The sparsity of the activations increases with the depth of the layer: in the first layer, all filters are activated by the input image; but in the following layers, more and more filters are blank. This means the pattern encoded by the filter isn’t found in the input image. **understand the last part**\n",
    "    5. an important universal characteristic of the representations learned by deep neural networks: the features extracted by a layer become increas- ingly abstract with the depth of the layer. \n",
    "    6. A deep neu- ral network effectively acts as an information distillation pipeline"
   ]
  },
  {
   "cell_type": "markdown",
   "metadata": {},
   "source": [
    "#### Visulazing CNN filters <a name = 'see_filters'></a>\n",
    "\n",
    "1. Another easy way to inspect the **filters learned by convnets** is to display the visual pattern that each filter is meant to respond to. \n",
    "2. This can be done with **gradient ascent** in input space: applying **gradient descent** to the value of the input image of a convnet so as to maximize the response of a specific filter, starting from a blank input image. The resulting input image will be one that the chosen filter is maximally responsive to.\n",
    "3. The process is simple: you’ll build a loss function that maximizes the value of a given filter in a given convolution layer, and then you’ll use stochastic gradient descent to adjust the values of the input image so as to maximize this activation value\n",
    "\n",
    "\n",
    "\n",
    "\n",
    "each layer in a convnet learns a collection of filters such that their inputs can be expressed as a combination of the filters. Again the first few layers encode sth simple, while the deeper layer is sth more abstrast. "
   ]
  },
  {
   "cell_type": "markdown",
   "metadata": {},
   "source": [
    "#### Visualizing heatmaps of class activation (elephant example)<a name = 'heatmap' ></a>\n",
    "1. This tech is useful for understanding which parts of a given image led a convnet to its final classification decision.\n",
    "2. This general category of techniques is called **class activation map (CAM) visualization**, and it consists of producing heatmaps of class activation over input images. \n",
    "3. A **class activation heatmap** is a 2D grid of scores associated with a specific output class, computed for every location in any input image, indicating how important each location is with respect to the class under consideration.\n",
    "4. For instance, given an image fed into a dogs- versus-cats convnet, CAM visualization allows you to generate a heatmap for the class “cat,” indicating how cat-like different parts of the image are, and also a heatmap for the class “dog,” indicating how dog-like parts of the image are.\n",
    "5. It is in this paper https://arxiv.org/abs/ 1610.02391.\n",
    "6. it consists of taking the output feature map of a convolution layer, given an input image, and weighing every channel in that feature map by the gradient of the class with respect to the channel.\n",
    "7. **Intuitively**, one way to understand this trick is that you’re weighting a spatial map of “how intensely the input image activates different chan- nels” by “how important each channel is with regard to the class,” resulting in a spatial map of “how intensely the input image activates the class.”\n",
    "8. This visualization technique answers two important questions:\n",
    "    1. Why did the network think this image contained certain object?\n",
    "    2. Where is the object located in the picture?"
   ]
  },
  {
   "cell_type": "markdown",
   "metadata": {},
   "source": [
    "### Summary <a name = 'ch5_summary' ></a>\n",
    "\n",
    "1. CNN is good for image-classification\n",
    "2. CNN learns the hierachy of the patterns \n",
    "3. CNN is not like a black box, and we can open the black box \n",
    "4. You know how to do data augmentation to overcome overfitting \n",
    "5. You know how to use pre-trained CNN to do feature extration and fine-tuning. \n",
    "6. In order to view what the CNN learn, you can genreate visualization of the filters learn by your CNN as well as heatmaps of class activity. \n"
   ]
  },
  {
   "cell_type": "markdown",
   "metadata": {},
   "source": [
    "### Tentative: Use CNN for multiclass classifcation<a name = 'Tentative:multiclass'></a>\n",
    "Let's do the multiclass classification in [Example of more-class classificaiton](#example_classification2) with CNN. Note that previous we got 78% acc. "
   ]
  },
  {
   "cell_type": "markdown",
   "metadata": {},
   "source": [
    "#### Get data and vectorize them <a name = 'Tentative_data'></a>"
   ]
  },
  {
   "cell_type": "code",
   "execution_count": 2,
   "metadata": {
    "code_folding": []
   },
   "outputs": [
    {
     "name": "stdout",
     "output_type": "stream",
     "text": [
      "8982\n",
      "8982\n",
      "2246\n",
      "2246\n",
      "(8982, 46)\n"
     ]
    }
   ],
   "source": [
    "from keras.datasets import reuters\n",
    "( train_data , train_labels) , ( test_data , test_labels) = reuters.load_data( num_words = 10000 ) \n",
    "# Again, we care only the 10000 most frequent occuring words\n",
    "\n",
    "print( len( train_data ) ) \n",
    "print( len( train_labels ) ) \n",
    "print( len( test_data ) ) \n",
    "print( len( test_labels ) ) \n",
    "\n",
    "# for i , label in enumerate( train_labels ):\n",
    "#     print( i ) \n",
    "#     print( label ) \n",
    "    \n",
    "import numpy as np\n",
    "def vectorize_sequences( sequences , dimension = 10000 ):\n",
    "    results = np.zeros( ( len( sequences) , dimension ) )\n",
    "    for i , sequences in enumerate( sequences ):\n",
    "        results[ i , sequences ] = 1.\n",
    "    return results\n",
    "\n",
    "x_train = vectorize_sequences( train_data ) \n",
    "x_test = vectorize_sequences( test_data )\n",
    "\n",
    "def vectorize_labels( labels , dimension = 46 ):\n",
    "    results = np.zeros( ( len( labels ) , dimension ) ) \n",
    "    for i , label in enumerate( labels ):\n",
    "        results[ i , label ] = 1.\n",
    "    return results\n",
    "\n",
    "one_hot_train_labels = vectorize_labels( train_labels ) \n",
    "one_hot_test_labels = vectorize_labels( test_labels ) \n",
    "\n",
    "print( one_hot_train_labels.shape ) \n",
    "\n",
    "# # Just use the Keras built in things\n",
    "# one_hot_train_labels = to_categorical( train_labels ) \n",
    "# one_hot_test_labels = to_categorical( test_labels )     "
   ]
  },
  {
   "cell_type": "markdown",
   "metadata": {},
   "source": [
    "#### Building NN <a name = 'Tentative_build_nn'></a>"
   ]
  },
  {
   "cell_type": "code",
   "execution_count": 3,
   "metadata": {},
   "outputs": [
    {
     "name": "stdout",
     "output_type": "stream",
     "text": [
      "The architecture of the CNN before\n",
      "Model: \"sequential_1\"\n",
      "_________________________________________________________________\n",
      "Layer (type)                 Output Shape              Param #   \n",
      "=================================================================\n",
      "conv2d_1 (Conv2D)            (None, 98, 98, 64)        1792      \n",
      "_________________________________________________________________\n",
      "max_pooling2d_1 (MaxPooling2 (None, 49, 49, 64)        0         \n",
      "_________________________________________________________________\n",
      "conv2d_2 (Conv2D)            (None, 45, 45, 128)       204928    \n",
      "_________________________________________________________________\n",
      "max_pooling2d_2 (MaxPooling2 (None, 22, 22, 128)       0         \n",
      "=================================================================\n",
      "Total params: 206,720\n",
      "Trainable params: 206,720\n",
      "Non-trainable params: 0\n",
      "_________________________________________________________________\n",
      "The architecture of the CNN after\n",
      "Model: \"sequential_1\"\n",
      "_________________________________________________________________\n",
      "Layer (type)                 Output Shape              Param #   \n",
      "=================================================================\n",
      "conv2d_1 (Conv2D)            (None, 98, 98, 64)        1792      \n",
      "_________________________________________________________________\n",
      "max_pooling2d_1 (MaxPooling2 (None, 49, 49, 64)        0         \n",
      "_________________________________________________________________\n",
      "conv2d_2 (Conv2D)            (None, 45, 45, 128)       204928    \n",
      "_________________________________________________________________\n",
      "max_pooling2d_2 (MaxPooling2 (None, 22, 22, 128)       0         \n",
      "_________________________________________________________________\n",
      "flatten_1 (Flatten)          (None, 61952)             0         \n",
      "_________________________________________________________________\n",
      "dense_1 (Dense)              (None, 64)                3964992   \n",
      "_________________________________________________________________\n",
      "dense_2 (Dense)              (None, 46)                2990      \n",
      "=================================================================\n",
      "Total params: 4,174,702\n",
      "Trainable params: 4,174,702\n",
      "Non-trainable params: 0\n",
      "_________________________________________________________________\n"
     ]
    }
   ],
   "source": [
    "from keras import layers\n",
    "from keras import models\n",
    "\n",
    "model = models.Sequential()\n",
    "model.add( layers.Conv2D( 64 , (3,3) , activation = 'relu' , input_shape = (100,100,3) ) ) \n",
    "model.add( layers.MaxPooling2D( (2,2) ) ) \n",
    "model.add( layers.Conv2D( 128 , (5,5) , activation = 'relu' ) ) \n",
    "model.add( layers.MaxPooling2D( (2,2) ) ) \n",
    "\n",
    "# model.add( layers.Conv2D( 64 , (3,3) , activation = 'relu' ) ) \n",
    "\n",
    "print( 'The architecture of the CNN before')\n",
    "model.summary()\n",
    "\n",
    "model.add( layers.Flatten() ) \n",
    "model.add( layers.Dense( 64 , activation = 'relu' ) ) \n",
    "model.add( layers.Dense( 46 , activation = 'softmax' ) ) \n",
    "\n",
    "print( 'The architecture of the CNN after')\n",
    "model.summary()\n"
   ]
  },
  {
   "cell_type": "markdown",
   "metadata": {},
   "source": [
    "#### Building NN <a name = 'example2_classification2_build_NN'></a>\n",
    "One difference with N-class and 2-class classifciaiton is that, since we have a stack of Dense layers, each layer can only accss to the output of the pervious layers, we don't want the **size** of each layer to be smaller than N, the number of class. This is intuitive: If we start from certain layer with output number less than N, it is asking the rest of the network to give N-class with number of data points less than N, which is impossible. Thus we need a larger NN for larger class.\n",
    "\n",
    "A few things to note for the following network\n",
    "1. The last layer has 46 output (units), each for one classificaiton\n",
    "2. **softmax** gives the probabilty distribution over the 46 classes: For a single input sample, the CNN gives the probability of it being in each class. The sum of the prob is 1.\n",
    "3. The loss function is **categorical_crossentropy**, which measures the distance betweetn the true prob distribution and the output prob distribution\n",
    "4. There is another way to pre-process the labels, as discussed in [Different way to handle labels and loss](#diff_way_handle_label_loss), where we encode the labels as integers, rather than using the one-hot enconding. That case, we shall use the **sparse_categorical_crossentropy** as the loss function"
   ]
  },
  {
   "cell_type": "code",
   "execution_count": 648,
   "metadata": {},
   "outputs": [],
   "source": [
    "from keras import models\n",
    "from keras import layers\n",
    "\n",
    "model = models.Sequential()\n",
    "model.add( layers.Dense( 64 , activation = 'relu' , input_shape = (10000,) ) ) \n",
    "model.add( layers.Dense( 64 , activation = 'relu' ) ) \n",
    "model.add( layers.Dense( 46 , activation = 'softmax' ) ) \n",
    "\n",
    "model.compile( optimizer= 'rmsprop' , \n",
    "             loss = 'categorical_crossentropy' , \n",
    "             metrics = ['accuracy' ] ) \n"
   ]
  },
  {
   "cell_type": "markdown",
   "metadata": {},
   "source": [
    "#### Validation: Separate the datas <a name = 'example2_classification2_validation1'></a>\n",
    "Take out 1000 as the validation data"
   ]
  },
  {
   "cell_type": "code",
   "execution_count": 651,
   "metadata": {},
   "outputs": [
    {
     "name": "stdout",
     "output_type": "stream",
     "text": [
      "(8982, 10000)\n",
      "(8982, 46)\n",
      "(7982, 10000)\n",
      "(7982, 46)\n",
      "Train on 7982 samples, validate on 1000 samples\n",
      "Epoch 1/20\n",
      "7982/7982 [==============================] - 2s 243us/step - loss: 2.6632 - accuracy: 0.5475 - val_loss: 1.7645 - val_accuracy: 0.6600\n",
      "Epoch 2/20\n",
      "7982/7982 [==============================] - 1s 131us/step - loss: 1.4244 - accuracy: 0.7111 - val_loss: 1.3154 - val_accuracy: 0.7260\n",
      "Epoch 3/20\n",
      "7982/7982 [==============================] - 1s 133us/step - loss: 1.0516 - accuracy: 0.7751 - val_loss: 1.1457 - val_accuracy: 0.7570\n",
      "Epoch 4/20\n",
      "7982/7982 [==============================] - 1s 136us/step - loss: 0.8242 - accuracy: 0.8266 - val_loss: 1.0315 - val_accuracy: 0.7810\n",
      "Epoch 5/20\n",
      "7982/7982 [==============================] - 1s 137us/step - loss: 0.6576 - accuracy: 0.8641 - val_loss: 0.9577 - val_accuracy: 0.8030\n",
      "Epoch 6/20\n",
      "7982/7982 [==============================] - 1s 118us/step - loss: 0.5268 - accuracy: 0.8929 - val_loss: 0.9282 - val_accuracy: 0.8030\n",
      "Epoch 7/20\n",
      "7982/7982 [==============================] - 1s 110us/step - loss: 0.4311 - accuracy: 0.9109 - val_loss: 0.8966 - val_accuracy: 0.8140\n",
      "Epoch 8/20\n",
      "7982/7982 [==============================] - 1s 108us/step - loss: 0.3494 - accuracy: 0.9262 - val_loss: 0.8960 - val_accuracy: 0.8220\n",
      "Epoch 9/20\n",
      "7982/7982 [==============================] - 1s 115us/step - loss: 0.2944 - accuracy: 0.9375 - val_loss: 0.9169 - val_accuracy: 0.8100\n",
      "Epoch 10/20\n",
      "7982/7982 [==============================] - 1s 120us/step - loss: 0.2460 - accuracy: 0.9440 - val_loss: 0.8982 - val_accuracy: 0.8170\n",
      "Epoch 11/20\n",
      "7982/7982 [==============================] - 1s 123us/step - loss: 0.2119 - accuracy: 0.9479 - val_loss: 0.8839 - val_accuracy: 0.8250\n",
      "Epoch 12/20\n",
      "7982/7982 [==============================] - 1s 108us/step - loss: 0.1857 - accuracy: 0.9515 - val_loss: 0.9600 - val_accuracy: 0.8120\n",
      "Epoch 13/20\n",
      "7982/7982 [==============================] - 1s 106us/step - loss: 0.1700 - accuracy: 0.9536 - val_loss: 0.9444 - val_accuracy: 0.8130\n",
      "Epoch 14/20\n",
      "7982/7982 [==============================] - 1s 121us/step - loss: 0.1541 - accuracy: 0.9548 - val_loss: 0.9299 - val_accuracy: 0.8220\n",
      "Epoch 15/20\n",
      "7982/7982 [==============================] - 2s 200us/step - loss: 0.1439 - accuracy: 0.9567 - val_loss: 0.9678 - val_accuracy: 0.8170\n",
      "Epoch 16/20\n",
      "7982/7982 [==============================] - 2s 312us/step - loss: 0.1324 - accuracy: 0.9564 - val_loss: 1.0258 - val_accuracy: 0.8050\n",
      "Epoch 17/20\n",
      "7982/7982 [==============================] - 2s 199us/step - loss: 0.1254 - accuracy: 0.9585 - val_loss: 1.0056 - val_accuracy: 0.8160\n",
      "Epoch 18/20\n",
      "7982/7982 [==============================] - 1s 186us/step - loss: 0.1223 - accuracy: 0.9593 - val_loss: 1.0395 - val_accuracy: 0.8160\n",
      "Epoch 19/20\n",
      "7982/7982 [==============================] - 1s 108us/step - loss: 0.1203 - accuracy: 0.9575 - val_loss: 1.0275 - val_accuracy: 0.8150\n",
      "Epoch 20/20\n",
      "7982/7982 [==============================] - 1s 112us/step - loss: 0.1145 - accuracy: 0.9584 - val_loss: 1.0219 - val_accuracy: 0.8120\n"
     ]
    }
   ],
   "source": [
    "x_val = x_train[ : 1000 ]\n",
    "partial_x_train = x_train[ 1000 : ]\n",
    "y_val = one_hot_train_labels[ : 1000 ]\n",
    "partial_y_train = one_hot_train_labels[ 1000 : ]\n",
    "\n",
    "print( x_train.shape ) \n",
    "print( one_hot_train_labels.shape ) \n",
    "\n",
    "print( partial_x_train.shape ) \n",
    "print( partial_y_train.shape ) \n",
    "\n",
    "history = model.fit( partial_x_train , \n",
    "                   partial_y_train ,\n",
    "                    epochs = 20 , \n",
    "                    batch_size = 512 , \n",
    "                    validation_data = ( x_val , y_val ) )"
   ]
  },
  {
   "cell_type": "markdown",
   "metadata": {},
   "source": [
    "#### Validation: Plot the losses <a name = 'example2_classification2_validation2'></a>"
   ]
  },
  {
   "cell_type": "code",
   "execution_count": 659,
   "metadata": {},
   "outputs": [
    {
     "name": "stdout",
     "output_type": "stream",
     "text": [
      "{'val_loss': [65.3311567541055, 39.776090942392365, 34.32261133918742, 27.680670603362863, 23.473644146365363, 22.52619806592619, 22.79192004368253, 22.770185779291435, 17.891637504778544, 17.22231869969295, 19.80953382602939, 17.605009325823776, 16.321068039287567, 20.478961443159694, 15.61127507652789, 16.718608436294563, 14.699746130739483, 15.916404533125082, 16.031627229373385, 14.611600887082844, 18.139140705647186, 14.015900961077302, 14.239361140213095, 12.561681124091258, 13.30613582983318, 12.55906216896803, 12.260872022373288, 12.29156907676563, 11.712689146895704, 12.450729773651883, 12.56630845620305, 13.483685229759718, 13.15491041243837, 11.78229565013464, 12.88459904933127, 13.023799285264962, 12.108842663661724, 15.469679353627438, 12.555042235641787, 11.742788167993105, 11.880856605593747, 12.777319117148965, 12.349031028275535, 11.934441249798015, 13.97433355483653, 11.428836756669408, 11.156954098963132, 11.412460465727767, 11.697844318199515, 11.250578743562397, 12.011186958216905, 12.337325209267622, 12.178285356486853, 11.327628672268187, 11.572528048414428, 11.095232769357194, 11.547587482355498, 10.89704412067687, 11.776617650933643, 11.509231031617169, 11.466086535947541, 11.513909517327498, 10.878487468141564, 11.353505508656214, 11.826184791835523, 11.274384294338594, 11.077379363542308, 11.407087584223545, 11.823160643403483, 11.348023253455551, 11.535188405061922, 10.740262542298584, 11.037835361880347, 14.468348459376976, 12.320054728812122, 11.065318511526957, 10.196312874574318, 12.710773596032938, 11.184319578576185, 14.380173534172181, 10.056968553236862, 11.607888777131713, 10.254099730050823, 10.31047039789535, 11.046551178993269, 9.971497246822674, 11.647552685435206, 10.820723609676952, 12.975559028220285, 10.762306096291603, 11.109022101723085, 11.377209244102602, 11.485624256451604, 10.960727207325768, 10.668497398350443, 10.295484725284473, 10.907976301165071, 11.585771309493667, 11.870662813715747, 10.849608952646365, 10.990505034799636, 12.256060263684876, 10.94029323541168, 12.084088799294712, 10.74751931502274, 12.117025012888089, 10.008791942240459, 9.79032624602715, 10.873732757974775, 10.368831819473481, 11.182109516187765, 10.525392988269358, 11.768114437497829, 9.791652520158383, 10.366831844489905, 10.82123230183255, 12.160218325327294, 10.89712327180919, 11.043144851552743, 10.081087021443862, 10.535608439033131, 10.981081374146338, 11.402706202919656, 9.641788224146776, 10.21196618419438, 9.848204830273557, 10.717139214437482, 10.058930607633618, 11.48641505815717, 11.387720414948543, 11.184878863368903, 10.15860658798927, 12.634969771101996, 10.743748031331844, 10.069616052005982, 10.55061410463618, 12.081727217527286, 10.640027858140547, 12.421999816619099, 10.501246002437039, 10.781571683541602, 10.865363658600922, 11.282211145569223, 10.651188596404626, 10.474688320334236, 11.273722748484204, 11.259925015301976, 10.630266794053108, 12.447139341542082, 9.531828820530503, 9.956735663198968, 9.748018149767875, 10.409433149802672, 10.152983615106885, 9.59336286511346, 10.036261642000195, 10.745350843100661, 10.289103100297622, 10.692397897947801, 10.49608223188189, 10.085275915301507, 11.01686289372144, 11.551699779498954, 11.743552048921142, 10.236048154720212, 10.003178234232127, 12.719112821227622, 10.945822092821034, 10.675044961083811, 10.549677406397354, 10.49193488142573, 10.728818675470862, 10.940691456562059, 10.84922628008961, 11.01185695745722, 10.051327843984387, 10.640393516860238, 11.411730008719646, 11.496731827229187, 11.453003342329902, 10.852511891076322, 12.516667835979197, 11.492266653801803, 10.234439696689565, 12.459450470223691, 12.359721258965017, 11.081772637189284, 10.962543924886036, 12.61372473296631, 9.850524183592707, 10.286291907384697, 11.774103224088465, 9.844982801992469, 10.519427263546772, 10.927765613629846, 9.613802498727484, 12.55826472032799, 11.780731899813647, 11.058068283976777, 11.240432644936044, 10.490413442413129, 12.564543059319925, 10.48954338531268, 12.654398422164952, 10.994893745696725, 12.080461966491645, 13.261745644357553, 11.6413525543775, 9.836769459838035, 12.075115144137515, 12.862921366995579, 10.113928052677432, 11.893327762829376, 11.689800425947846, 10.449994934995953, 11.015308582012445, 11.687384869371677, 11.755015448881498, 12.302777554598373, 11.231973049502894, 10.992727318675042, 10.543350873671766, 11.46447047514855, 11.023617577342556, 10.955677665488812, 11.006285483068279, 12.847765292896398, 11.719314388968257, 12.531713320081678, 10.86539141863981, 11.256658129028095, 11.873176343726353, 13.280287280346792, 11.88398772697308, 11.72025412732348, 11.150501354622866, 11.54384481018446, 11.509621295098233, 10.863472428163606, 11.504212209246893, 10.389840810269552, 12.343409710462288, 12.921313927478922, 12.037928154618285, 12.186794953734273, 11.90736489839815, 11.791193818500634, 11.977544576941073, 10.965935815415914, 11.357686833466984, 12.575537758883973, 11.417199296182906, 11.05332478821349, 10.768702672204316, 11.508758675254015, 10.500545356247464, 12.971465700649482, 12.578036080928298, 10.409328385003805, 10.838445667762974, 11.385151716939573, 11.10936545092733, 11.89665979744897, 11.768126593036076, 11.764489002391525, 10.433418090586633, 11.835506468261379, 11.49151284216516, 11.561622943853646, 11.741023956153699, 11.148711052986316, 11.063064687314794, 11.604472803910053, 12.4958389158233, 10.89721076955355, 11.89152140730282, 11.522090089796855, 13.090380321117493, 12.13504893457895, 12.422137335919668, 11.571214227239391, 11.52560947469083, 14.158431707134488, 11.3299609481168, 11.540383247499548, 12.96275170767417, 12.63215307663725, 12.358268080685532, 11.616475433708395, 12.04842548565893, 12.363837242284951, 12.332381280253776, 11.617373671097102, 10.971368267196278, 12.040184809263293, 12.687486459948307, 11.865505270567713, 11.823908487541743, 11.440298954249096, 10.490947587704886, 11.624458745580702, 12.84551649897606, 11.108117978530014, 11.527772955196486, 10.187797875922907, 13.992230955517131, 11.89330376746677, 11.415479546260679, 11.95081842869079, 11.373123203775538, 11.2934203155046, 11.226333294944702, 11.532691394445743, 11.34567767996537, 12.130202175972414, 11.65659369673928, 12.17052636920108, 11.940386037913953, 11.992950105878275, 12.07894192289764, 11.87908706573818, 10.85732156628804, 12.329237632592909, 11.110863232362721, 12.303808273196609, 11.864865515020325, 11.961818305810679, 11.656400748146769, 11.911147564165478, 12.25361731643489, 12.21247069386415, 11.936371548913044, 11.863568916999837, 11.212625553641022, 10.997925142144396, 12.182984163065436, 11.338976000314625, 12.234816147454946, 10.946965022215347, 11.607283619014629, 11.697233101660224, 10.742593120599723, 12.455691906012362, 11.797499330852661, 11.526683771359794, 11.290294799704732, 11.406707287364926, 13.736556675939793, 11.406114047070467, 11.075187637402694, 11.522262124549874, 11.588487254164107, 11.861103766938985, 11.133505986704915, 12.432518915619037, 11.478453169103094, 11.755333923777949, 11.319070897584217, 11.173291440610543, 12.370201978841704, 12.322139398404051, 11.175845650256715, 11.87313064726186, 11.965410798121852, 11.94271442607837, 11.058701252446067, 11.028619943220535, 12.129428748638741, 11.889728588846578, 12.809146471039766, 11.831866145993832, 13.695942451423875, 11.304745525228883, 11.879099989357309, 12.915280366869698, 11.914896120616099, 12.843217641887485, 12.014743528223947, 11.869111323004011, 12.129566811310706, 12.754096997677548, 13.717300574560326, 12.31862914376537, 12.61541999500858, 12.366739948217914, 11.537812413036734, 11.91091265110299, 12.18103127077563, 16.655474447662826, 10.947803195290245, 14.559492101048566, 12.015418878315007, 14.20721447985564, 11.131116361024162, 11.82692696709889, 11.405576453305606, 13.798701377522136, 12.043030425781698, 12.689781064275966, 10.866371028906912, 11.415241893949126, 11.692653138614963, 13.255928202901073, 12.244842967079647, 13.817661345980879, 13.48659210519215, 11.521258065025183, 11.844822196621854, 13.345741135234215, 11.718478283430663, 11.17588955701541, 11.15008881830698, 10.839376662225039, 12.58156837507308, 11.250312844365242, 11.559941194383, 13.338718300427098, 12.785005292938768, 12.09435125358609, 11.10301182430876, 11.440058018422068, 11.167148101421907, 13.121674063475025, 12.21453776528686, 10.95295434707196, 11.04353059378584, 12.075505577276765, 11.774276006070085, 11.333151501348983, 11.547879993160011, 11.206109856336612, 10.8058997791861, 11.80116850309452, 11.798564801732594, 11.318831831231796, 11.363603020977866, 10.853078589074448, 10.46462519410917, 11.277320146881243, 10.760413231509093, 11.308609320941187, 10.334381166583913, 12.075841505337497, 10.572865080535596, 11.673463521110317, 11.811445593423588, 12.001574647031946, 11.452848711559643, 11.47923523285841, 11.786545140710244, 11.332718823307959, 12.34043554514462, 11.196656414943904, 11.885120759256061, 10.689283006298956, 12.35718212618235, 12.631220618287236, 11.54326956426681, 11.75820554164602, 10.912363280577926, 11.704249008111471, 11.015055351597605, 11.10872843005178, 11.604611335177463, 12.434844627188596, 11.301924379577049, 10.933735837085239, 11.624334305490247, 12.39819823963986, 10.942490057076908, 11.849445703127053, 11.634798237154868, 10.935304897008026, 11.296661566174128, 10.803479604529123, 11.8579395358283, 11.267758376335053, 11.66178952625925, 13.072226912480557, 11.75955469174873, 11.634338584612447, 11.80103961395222, 12.398508997724823, 12.741647663057261, 11.297989030414731, 11.742471542936983, 11.888876423519797, 12.504967256887774, 12.71599434467844, 11.429731481056091, 11.843527792551841, 11.444512407106952, 12.402724263242717, 11.837286215708914, 11.84874085486938, 11.143946190477076, 11.124408122670916, 12.954272402284465, 11.18837321261789, 10.93133025730838], 'val_mae': [5.523077487945557, 4.1374831199646, 3.555220127105713, 3.2080938816070557, 2.9883244037628174, 2.987407684326172, 3.2139437198638916, 2.9211301803588867, 2.736867666244507, 2.608494520187378, 2.864055633544922, 2.722028970718384, 2.580324172973633, 2.9588067531585693, 2.570664882659912, 2.641514539718628, 2.542715549468994, 2.6418521404266357, 2.6021974086761475, 2.496811866760254, 3.110607147216797, 2.4963808059692383, 2.5381052494049072, 2.427574634552002, 2.5158743858337402, 2.459254741668701, 2.4194233417510986, 2.4227747917175293, 2.378005266189575, 2.4702744483947754, 2.516080379486084, 2.6461331844329834, 2.578428030014038, 2.4374170303344727, 2.5760295391082764, 2.596708297729492, 2.4748339653015137, 2.8639793395996094, 2.4969303607940674, 2.3966662883758545, 2.411832571029663, 2.4831221103668213, 2.4761972427368164, 2.391998291015625, 2.7840497493743896, 2.3455028533935547, 2.2873659133911133, 2.302049160003662, 2.3331003189086914, 2.3261852264404297, 2.4080255031585693, 2.419857978820801, 2.4366817474365234, 2.3224833011627197, 2.350356101989746, 2.2844669818878174, 2.4053962230682373, 2.2705771923065186, 2.4252281188964844, 2.3367292881011963, 2.3177075386047363, 2.3504443168640137, 2.3612654209136963, 2.32837176322937, 2.4001176357269287, 2.3668479919433594, 2.293905735015869, 2.338059425354004, 2.3833608627319336, 2.330684185028076, 2.3707141876220703, 2.2564027309417725, 2.235870599746704, 2.655576229095459, 2.503192663192749, 2.280715227127075, 2.2059121131896973, 2.675981044769287, 2.326974630355835, 2.810013771057129, 2.173780679702759, 2.396002769470215, 2.1697185039520264, 2.238389015197754, 2.2858574390411377, 2.192901611328125, 2.447803497314453, 2.265162944793701, 2.506925106048584, 2.2318010330200195, 2.3453569412231445, 2.4621164798736572, 2.415386915206909, 2.2443747520446777, 2.30350399017334, 2.2408604621887207, 2.196425199508667, 2.3575451374053955, 2.386664390563965, 2.305676221847534, 2.316141366958618, 2.436589002609253, 2.37937068939209, 2.5294294357299805, 2.2737228870391846, 2.519465923309326, 2.247131586074829, 2.090589761734009, 2.2835536003112793, 2.264127016067505, 2.4492807388305664, 2.226227045059204, 2.5177242755889893, 2.1579184532165527, 2.240522623062134, 2.3336989879608154, 2.477189064025879, 2.3083810806274414, 2.3554255962371826, 2.3048410415649414, 2.33007550239563, 2.371023654937744, 2.380781650543213, 2.1459245681762695, 2.2624030113220215, 2.193742275238037, 2.3189165592193604, 2.272606611251831, 2.3616387844085693, 2.3604464530944824, 2.433168888092041, 2.1701364517211914, 2.624925136566162, 2.34464430809021, 2.1845812797546387, 2.2481110095977783, 2.4365243911743164, 2.402569055557251, 2.4504599571228027, 2.2142038345336914, 2.2690420150756836, 2.335712194442749, 2.3614916801452637, 2.3313283920288086, 2.3412086963653564, 2.3837532997131348, 2.4149320125579834, 2.3454179763793945, 2.582510232925415, 2.1494438648223877, 2.2059848308563232, 2.171373128890991, 2.239072322845459, 2.2488887310028076, 2.153799295425415, 2.256035327911377, 2.3341546058654785, 2.2760775089263916, 2.310497283935547, 2.3071978092193604, 2.2715227603912354, 2.3816916942596436, 2.5093629360198975, 2.5036303997039795, 2.279751777648926, 2.2950072288513184, 2.576014518737793, 2.346137285232544, 2.3565285205841064, 2.3351476192474365, 2.253253698348999, 2.3283960819244385, 2.3550729751586914, 2.3292665481567383, 2.4324517250061035, 2.1669228076934814, 2.2673566341400146, 2.4047255516052246, 2.3867974281311035, 2.445456027984619, 2.375671148300171, 2.544745445251465, 2.4015488624572754, 2.222095489501953, 2.587569236755371, 2.5706753730773926, 2.345179319381714, 2.297121047973633, 2.4304850101470947, 2.2087411880493164, 2.3251142501831055, 2.5032200813293457, 2.231449604034424, 2.2498934268951416, 2.3164234161376953, 2.1689419746398926, 2.6011176109313965, 2.4203426837921143, 2.3623406887054443, 2.429260015487671, 2.307421922683716, 2.6080470085144043, 2.3294081687927246, 2.485574960708618, 2.3874857425689697, 2.4734206199645996, 2.6813108921051025, 2.452509880065918, 2.26904559135437, 2.4135499000549316, 2.588629961013794, 2.2290985584259033, 2.4883718490600586, 2.3840701580047607, 2.227126359939575, 2.325735330581665, 2.502748489379883, 2.406759262084961, 2.5321316719055176, 2.335273027420044, 2.271791458129883, 2.2720212936401367, 2.398653745651245, 2.3636696338653564, 2.2979156970977783, 2.363558530807495, 2.6184563636779785, 2.4847543239593506, 2.5103840827941895, 2.2943241596221924, 2.3490374088287354, 2.4313085079193115, 2.6174123287200928, 2.4906065464019775, 2.4211931228637695, 2.3323028087615967, 2.4856441020965576, 2.400946855545044, 2.3441171646118164, 2.347707748413086, 2.20176362991333, 2.5374529361724854, 2.599090576171875, 2.546797752380371, 2.548337936401367, 2.606703042984009, 2.431061267852783, 2.5004336833953857, 2.366760492324829, 2.3557796478271484, 2.696385145187378, 2.344386577606201, 2.308049201965332, 2.374965190887451, 2.506213903427124, 2.314282178878784, 2.654829978942871, 2.560715436935425, 2.2545738220214844, 2.383561611175537, 2.476085662841797, 2.3186659812927246, 2.4063644409179688, 2.4506115913391113, 2.555797815322876, 2.3134570121765137, 2.4775445461273193, 2.4126384258270264, 2.4106178283691406, 2.4175844192504883, 2.3115079402923584, 2.3249452114105225, 2.438260316848755, 2.498734474182129, 2.313870906829834, 2.3841781616210938, 2.3715999126434326, 2.588519334793091, 2.51088285446167, 2.542556047439575, 2.3636815547943115, 2.3639461994171143, 2.7419493198394775, 2.357292890548706, 2.4056520462036133, 2.5335769653320312, 2.473590612411499, 2.498396396636963, 2.3808188438415527, 2.4763436317443848, 2.4500741958618164, 2.5742268562316895, 2.4088754653930664, 2.271042823791504, 2.4386515617370605, 2.43957781791687, 2.451793909072876, 2.5139100551605225, 2.4364724159240723, 2.2749087810516357, 2.405299663543701, 2.5826938152313232, 2.4080963134765625, 2.3990674018859863, 2.2654614448547363, 2.7069010734558105, 2.434535503387451, 2.3547537326812744, 2.4281768798828125, 2.4505465030670166, 2.3388705253601074, 2.2751712799072266, 2.4122138023376465, 2.33699893951416, 2.529068946838379, 2.4669008255004883, 2.4338412284851074, 2.4715428352355957, 2.5013885498046875, 2.5848543643951416, 2.4306559562683105, 2.343393564224243, 2.440964460372925, 2.4622650146484375, 2.478954315185547, 2.545316457748413, 2.341581106185913, 2.4648711681365967, 2.5121450424194336, 2.584683895111084, 2.4943997859954834, 2.4931371212005615, 2.406203031539917, 2.3065743446350098, 2.356827735900879, 2.5116348266601562, 2.3882696628570557, 2.4610064029693604, 2.347660541534424, 2.441549062728882, 2.3444361686706543, 2.37929368019104, 2.5412421226501465, 2.438138723373413, 2.3973886966705322, 2.3943915367126465, 2.3750133514404297, 2.6134939193725586, 2.394477367401123, 2.429180383682251, 2.4607486724853516, 2.515946865081787, 2.510448455810547, 2.459289312362671, 2.5460219383239746, 2.416591167449951, 2.4618568420410156, 2.2739593982696533, 2.4231796264648438, 2.5324478149414062, 2.5771050453186035, 2.3931148052215576, 2.445410966873169, 2.513209342956543, 2.528188705444336, 2.387864589691162, 2.3425872325897217, 2.5411205291748047, 2.4453513622283936, 2.50427508354187, 2.5086803436279297, 2.6735877990722656, 2.3932690620422363, 2.4815280437469482, 2.564267873764038, 2.449699878692627, 2.5535972118377686, 2.4840240478515625, 2.4727745056152344, 2.4457879066467285, 2.5328783988952637, 2.5622658729553223, 2.543921947479248, 2.527557611465454, 2.5134007930755615, 2.353787899017334, 2.3977715969085693, 2.5106348991394043, 3.062303066253662, 2.3015856742858887, 2.78549861907959, 2.481151580810547, 2.716665744781494, 2.351750373840332, 2.441180467605591, 2.3681273460388184, 2.728083848953247, 2.4639713764190674, 2.612853765487671, 2.282335042953491, 2.42419695854187, 2.432589530944824, 2.504739999771118, 2.529200553894043, 2.6917362213134766, 2.602813959121704, 2.4638164043426514, 2.4058399200439453, 2.6623034477233887, 2.482865333557129, 2.459773540496826, 2.3457536697387695, 2.2868573665618896, 2.56193470954895, 2.3868329524993896, 2.4170076847076416, 2.6671199798583984, 2.5476479530334473, 2.5649349689483643, 2.3688604831695557, 2.3861403465270996, 2.299562931060791, 2.666123390197754, 2.4925696849823, 2.32822585105896, 2.3348300457000732, 2.507760524749756, 2.368683099746704, 2.3244400024414062, 2.464265823364258, 2.3303632736206055, 2.324303388595581, 2.466625213623047, 2.3932859897613525, 2.3733160495758057, 2.406420946121216, 2.416971445083618, 2.269782543182373, 2.3460915088653564, 2.34865403175354, 2.3427679538726807, 2.231901168823242, 2.5099027156829834, 2.2855381965637207, 2.4174318313598633, 2.431811571121216, 2.4601657390594482, 2.3657963275909424, 2.3942649364471436, 2.4748520851135254, 2.358689785003662, 2.5171523094177246, 2.390988826751709, 2.400848627090454, 2.3127801418304443, 2.4911270141601562, 2.5491886138916016, 2.376286029815674, 2.4215736389160156, 2.3360095024108887, 2.389388084411621, 2.317291259765625, 2.380664825439453, 2.489184617996216, 2.5359127521514893, 2.429445505142212, 2.3439958095550537, 2.3877079486846924, 2.549248695373535, 2.2952120304107666, 2.4625306129455566, 2.455000400543213, 2.3197736740112305, 2.386593818664551, 2.2960426807403564, 2.4587197303771973, 2.3197076320648193, 2.4325666427612305, 2.589977502822876, 2.4203691482543945, 2.4263741970062256, 2.4165244102478027, 2.4822075366973877, 2.579841136932373, 2.3088393211364746, 2.367992639541626, 2.422844886779785, 2.505941152572632, 2.544504404067993, 2.3513128757476807, 2.40826678276062, 2.4734485149383545, 2.4675605297088623, 2.395188808441162, 2.422553539276123, 2.4507877826690674, 2.314685583114624, 2.5832207202911377, 2.3942296504974365, 2.35732102394104], 'loss': [188.03333951234436, 30.064779857826824, 20.955798191548816, 16.77282237367077, 14.933833902438217, 13.84867175904344, 12.388920079150507, 12.251390593745356, 11.861021461292154, 11.384864727076783, 10.87125933396781, 10.628634181456814, 10.138097334806355, 10.039847899875342, 9.937068596534914, 9.843866697981879, 9.339934528212865, 8.746324532454766, 9.591411335149045, 8.76545878775714, 8.456843689738854, 8.737585588848978, 8.374706982200722, 8.198521702316885, 8.358670161621061, 8.364889232167938, 8.219009144725266, 7.7802399837869345, 8.017581293400308, 7.312685551849187, 7.553974370584275, 7.1400129030116295, 7.255521814995308, 7.389221387001052, 7.177244417524238, 7.121125978831488, 6.9402817933780545, 6.9044447207206545, 6.765976077396724, 6.73816023618709, 6.6725407271293715, 6.911719116911224, 6.692445821225462, 6.671863186999622, 6.204962552752375, 6.5164012435483105, 5.943586646675991, 6.580116071238351, 6.076523372236552, 5.9061997936021084, 6.27805778401683, 6.057076343680183, 5.535680158645378, 5.780621977642842, 5.294485127695309, 6.190808303103623, 5.643820000833062, 5.7036519722548915, 5.7666976935234135, 5.454811525292712, 5.511351914674108, 5.662832850929233, 5.65089823832218, 5.399975415934539, 5.592436530291332, 5.515194412904093, 4.907598752222082, 5.153685953422375, 4.801836225165364, 5.006775772455014, 4.917430737916514, 5.208869199584291, 4.993940673019277, 4.856197454229512, 5.164664722560677, 4.701414974271228, 5.2457551446435655, 4.772259776613648, 4.348310911109407, 4.736207202108801, 4.84948745196657, 4.472116272882264, 4.8842588285738335, 4.234109849602379, 4.302423320418709, 4.556662613880143, 4.489529948996596, 4.415258641735407, 4.079955938004349, 4.402689895224642, 4.441570738586426, 4.6009625709940805, 4.3508420726052055, 4.005961939804266, 4.218796681806372, 4.675924279616594, 4.3300577177136885, 4.196086826666, 4.144786032546841, 3.9088041394858286, 3.9682688438799185, 3.9255714900441054, 3.961484088459653, 4.023381084952715, 4.130193386572705, 3.878979504542321, 4.163383605965714, 4.097416779282044, 3.6633538377287618, 3.8534687844309006, 3.9970185739635276, 3.7658514921456803, 3.894493340668008, 3.657578354316146, 3.852261782448676, 3.77813371512313, 3.5787927463498628, 3.672064742165567, 3.74328949873947, 3.9393730900393877, 3.6719934407021966, 3.6132924715614116, 3.2808540684200125, 3.503525455734441, 3.3857261967529273, 3.67929872890184, 3.648026764567884, 3.5557211095364627, 3.384660979641069, 3.3581930484970712, 3.568752842555717, 3.494497295105488, 3.41708458056787, 3.5601140193706695, 3.2716975681804294, 3.6935381968951635, 3.056674324042616, 3.390742842322652, 3.264025516809666, 3.2112064731888252, 3.0727648412688326, 3.3084536735133154, 3.032015888137004, 3.2958507898337883, 3.232251277024231, 2.986057617135074, 3.1528859573792745, 3.153465094707217, 3.0627514335466532, 3.1587208415510415, 3.1009169816420927, 3.227325618666937, 3.1579588382432986, 3.014408785077033, 3.057157237588579, 2.8511344542482275, 2.94456240873016, 2.738532367511028, 2.940541340956716, 3.036667627336161, 2.84933820507826, 2.6412367493705022, 2.9490295472547925, 2.854043831478824, 2.8256707631802476, 2.733756539450612, 2.961846878332856, 2.6751169206253937, 2.6532443102058294, 2.796266967552968, 2.845611269168009, 2.745646912249081, 2.714918989512767, 2.8327800772847684, 2.8648010753542663, 2.352979525868403, 2.841878870325681, 2.75133902078116, 2.4515225943203034, 2.571182293049187, 2.5570190275047393, 2.60604254861962, 2.5475434720460592, 2.6705208246827836, 2.5202941221936204, 2.529845545555128, 2.559705068890379, 2.4096183088287777, 2.4676328737066786, 2.448355999231575, 2.5957637313281774, 2.4063844872598383, 2.4185853944277804, 2.3937533397450776, 2.447015794418284, 2.372766870915248, 2.4189937473327596, 2.4913243964871468, 2.358449007739728, 2.1322958255257274, 2.3692751889239867, 2.2259187168014662, 2.2426628154598083, 2.2354390112043205, 2.4748248742011603, 2.3820958941899337, 2.091909623233306, 2.23108965840365, 2.4214782687054033, 2.364007318874242, 2.1936703962012065, 2.2751703017934006, 2.2904229265389975, 2.2056927879074353, 2.2193927206880177, 2.184850777360693, 2.2300277320203743, 2.086159758112264, 2.152517690017514, 2.166838274357234, 2.1612217039401123, 2.0979712866126876, 1.9330506534401133, 1.9843234061571349, 2.182639087544291, 2.168742644152198, 1.9522709272174872, 1.8594112719270781, 2.075629514206955, 2.1360730347616794, 2.118656995356318, 1.923947036119319, 2.0646920482747246, 1.9731547503032691, 2.0224963170080192, 1.956102062822736, 1.9255263561512272, 2.0829376424235817, 1.9869986142360179, 2.1266327981089135, 1.981046264112046, 1.7707012108281805, 2.004014987907428, 1.9064671449569408, 1.789306289069134, 2.0031772186530423, 1.951888942712709, 2.0684493997209623, 2.012941248198811, 1.854386096259146, 1.7385167620987187, 1.9910186758852162, 1.7650525806895991, 1.867293700107874, 1.9427923520687735, 1.7775893104405287, 1.9741892614672745, 1.834574810461256, 1.8795376856364558, 1.900696997296787, 1.7803496302566248, 1.6291495485237355, 1.8830818369912594, 1.8578709959515092, 1.8358273599828578, 1.7247666671440312, 1.7041418836724855, 1.79895193542895, 1.7754228888896209, 1.771681067605266, 1.6986649406503738, 1.7459969461629299, 1.690323815384143, 1.6410536286357726, 1.7705128029260881, 1.6942294152217878, 1.7614029671136997, 1.6376874873424192, 1.6085553918343702, 1.6971100279842004, 1.6618929345870022, 1.7952695444684001, 1.5080217173388117, 1.469484510894605, 1.5166092279071115, 1.783380917917183, 1.6280824972031396, 1.6985174083717536, 1.4643009147055115, 1.50600015656098, 1.695860560582113, 1.5123238197475766, 1.6550806742502018, 1.5292410027010048, 1.6364844358359063, 1.4681194160214188, 1.6213519474620284, 1.6118415058388762, 1.4133100276451513, 1.7027471506482692, 1.5659931215680507, 1.4831898183829944, 1.5650486035414444, 1.5333729491659103, 1.5241574626906105, 1.6017630461881187, 1.7199028473278604, 1.574199796073228, 1.615918087946039, 1.4833082074267085, 1.5667851590068294, 1.4063738221798978, 1.4780711181517256, 1.541599996999094, 1.4190952038655031, 1.6193394862936294, 1.5796659499941441, 1.5728251712315864, 1.6478520084041304, 1.4446214007468081, 1.4786329382698, 1.412710195200567, 1.3844887262100107, 1.4844814316763792, 1.4250589022331253, 1.3119076602758977, 1.4430103295086432, 1.4282898210036161, 1.4379731816009016, 1.4543492516434349, 1.5360775623715022, 1.2879218915125994, 1.5032005574302283, 1.4997272474007068, 1.3281820935006918, 1.4412784264800438, 1.3487594176249782, 1.5543778175813372, 1.3698411345306554, 1.4503408068815382, 1.3441772937416312, 1.301327936709397, 1.4689162891476426, 1.3089366230511112, 1.384263983469402, 1.5709261174151203, 1.197717544460511, 1.294859762075167, 1.3645529406725947, 1.1982492652614414, 1.3038468550397913, 1.2563157839909949, 1.3071673632024516, 1.436084754570576, 1.243646611424221, 1.470177827363592, 1.3594249325035923, 1.3532445113526745, 1.405188942268351, 1.1216651345060713, 1.284077824978679, 1.2807911390197417, 1.2505293464773755, 1.4585885260260485, 1.2542956365937588, 1.1811791032049237, 1.4079116109276482, 1.151500363499028, 1.0962549653513243, 1.3247353050796622, 1.383888172664979, 1.251536839995403, 1.274817382720093, 1.318015348503719, 1.207386455313411, 1.2876517534391991, 1.2442387602876215, 1.3178126351476238, 1.2095579805713552, 1.2568178285000133, 1.364929893006162, 1.2383947268752806, 1.2943304732103607, 1.1222237397559642, 1.1598699458077841, 1.2549622409330876, 1.2771874363533433, 1.2151275729727053, 1.1546678624947986, 1.2379065756836474, 1.2299876690179163, 1.21195813910303, 1.2403408701852237, 1.1361282531306822, 1.081551246576589, 1.228005480031456, 1.1541407041513234, 1.0859385779322441, 1.2100157425189213, 1.197252647869721, 1.0635448958036018, 1.149641519529078, 1.0810728008161423, 1.2877285598392354, 1.2033955012174382, 1.1794287097712879, 1.2890214749280462, 1.0155502129073464, 1.1167289480296976, 1.1652382974895499, 0.893355557391434, 1.2203424734258144, 1.393591468806581, 1.0821874774401385, 1.0507171999197693, 1.095056792309148, 1.2030443919383447, 1.1228481947619844, 1.1542435377242168, 1.0573688883524293, 1.1331237226287298, 1.1929461674892934, 1.1750848164517111, 1.1094514189151194, 1.1590125910326348, 1.2557208014926313, 1.1956505266227588, 1.0403075845400958, 1.2194982696083592, 1.1329693765247992, 1.16576602072309, 1.2507022753897916, 1.0399534499575196, 0.9754722345215749, 1.0682157622964656, 1.0555916334814666, 1.125846934131404, 0.9881271315152304, 1.1057710987603755, 1.0975720772715252, 0.9888269366516763, 1.0435716444214027, 1.0180646717289172, 1.0544246043165264, 1.1291272034663316, 1.1035429599709243, 1.0495409143570735, 1.0216790326452214, 0.9678858565158218, 1.2037787973384682, 1.0779978127532321, 1.2225304857909176, 0.9390206288638846, 0.9372292466121945, 1.0491795159529407, 1.0228242817770044, 0.9653905126402552, 1.1040048909616815, 0.9991048184911592, 1.0402262381031315, 1.0262054680401214, 1.075512761972382, 0.9957015101274922, 0.9954622838893004, 1.0230988266864576, 0.9999614589247934, 0.9641281579886817, 0.991703830487516, 0.9756492237080574, 0.8951514348915501, 1.0506253372387488, 0.9095182693126364, 0.9469269287596629, 1.0390051987015365, 1.0565683356056763, 1.0220749093240025, 1.0396961979365815, 0.8949323544520337, 1.0324902278057906, 0.9411695368239589, 0.875455411188632, 0.8894440293316491, 0.872672542767081, 1.0756039593656854, 0.902496140745792, 0.9697196168636095, 1.0769050104530047, 0.9919460747333498, 0.919437268549427, 0.976575572320684, 1.0346087391782013, 0.9518908043851132, 0.8855025123020253, 0.9430250011371712, 0.8627052971507402, 1.0109759280216042, 0.9088170193031642, 0.8415765647231443, 0.9463250722956368, 0.855484740911286], 'mae': [10.482096, 3.6114776, 2.8708832, 2.5916884, 2.4901974, 2.3954685, 2.2678182, 2.1842701, 2.2311149, 2.1465707, 2.1354012, 2.0649688, 2.0866392, 2.0381052, 2.0088122, 1.9928917, 1.9749875, 1.9686183, 1.9332622, 1.9401271, 1.866943, 1.8635213, 1.8968366, 1.8687851, 1.9052924, 1.856486, 1.8901635, 1.8247482, 1.831379, 1.8158753, 1.8503424, 1.7872455, 1.7599026, 1.8308815, 1.7419145, 1.7352698, 1.7175361, 1.6777364, 1.6897978, 1.7412083, 1.7810444, 1.676279, 1.6511055, 1.6713247, 1.6321424, 1.661678, 1.6269443, 1.7066078, 1.6216681, 1.5868319, 1.5906131, 1.5907907, 1.5852118, 1.560473, 1.5173509, 1.5539408, 1.5407107, 1.554221, 1.466442, 1.5442448, 1.5599812, 1.5142719, 1.5541242, 1.4941803, 1.483987, 1.5418036, 1.5024867, 1.5240748, 1.4650421, 1.4407516, 1.5236013, 1.44078, 1.4104234, 1.4641145, 1.5234839, 1.382189, 1.4550805, 1.4101851, 1.3885417, 1.365404, 1.3994638, 1.4213473, 1.4152331, 1.3517108, 1.2917843, 1.365826, 1.3713081, 1.357422, 1.3009424, 1.3889592, 1.3527607, 1.3196917, 1.3409245, 1.2806695, 1.3261639, 1.3266332, 1.365226, 1.3241893, 1.2807844, 1.3203187, 1.2741213, 1.3451463, 1.3269085, 1.2961507, 1.3004655, 1.3084195, 1.2937962, 1.2769984, 1.2491632, 1.2914573, 1.246104, 1.2091552, 1.2520111, 1.2214187, 1.2661319, 1.2246609, 1.2634604, 1.2860571, 1.1809905, 1.2490638, 1.230062, 1.2343036, 1.1875054, 1.2781512, 1.19517, 1.2473437, 1.2314813, 1.2146441, 1.1768861, 1.1902386, 1.1924978, 1.1751206, 1.1690513, 1.2089164, 1.1806616, 1.2227143, 1.147866, 1.1815406, 1.1361841, 1.1381599, 1.1551913, 1.1439433, 1.153801, 1.1732438, 1.172611, 1.1085799, 1.1442795, 1.1540902, 1.1563008, 1.157643, 1.1099519, 1.1710252, 1.1472089, 1.168373, 1.1419457, 1.0753236, 1.1554062, 1.1298808, 1.112866, 1.0983319, 1.0874014, 1.095856, 1.1217494, 1.0890387, 1.0967801, 1.1050973, 1.1133102, 1.1085547, 1.1118286, 1.0408738, 1.0591404, 1.0741059, 1.0931264, 1.0772793, 1.04897, 0.99457896, 1.0847737, 1.089983, 1.0051361, 1.057249, 1.0643559, 1.0417764, 1.0522181, 1.1011921, 1.0497586, 1.0215402, 1.0501093, 1.0206487, 1.045992, 1.0161185, 1.0460565, 1.0262389, 1.0303304, 0.9922427, 1.0654937, 1.0311725, 1.0297695, 1.0287026, 1.0628339, 0.9566405, 1.0272716, 0.974864, 0.9933091, 0.9801704, 1.0025318, 1.0669578, 0.97631824, 0.98447883, 1.0226585, 1.0601394, 0.9732974, 1.0015936, 1.002618, 0.98361295, 1.016186, 0.97066194, 0.9713178, 0.98959714, 0.9740524, 0.98612183, 0.9724407, 0.98856467, 0.93875223, 1.0028433, 1.0103636, 1.021373, 0.94393116, 0.9829925, 0.9951026, 1.0153829, 0.96889657, 0.9292851, 0.97135055, 0.9953045, 0.9926218, 0.96617365, 0.97039634, 0.9662118, 0.9517622, 0.9660281, 1.0101291, 0.9275819, 1.0023869, 0.94923234, 0.9652578, 0.9413573, 0.9973347, 0.98025787, 0.914862, 0.96411043, 0.9318554, 0.9753368, 0.9425804, 0.9732989, 0.9675198, 0.9442445, 0.9511916, 0.98853755, 0.9817077, 0.9347768, 0.96163195, 0.91568273, 0.96610916, 0.9099146, 0.94347966, 0.9001249, 0.96387756, 0.9565243, 0.92974544, 0.9621499, 0.90958154, 0.8959957, 0.9439769, 0.8540991, 0.8876403, 0.91488236, 0.9137954, 0.87225837, 0.9058336, 0.8867532, 0.9124754, 0.96541965, 0.8706223, 0.88247013, 0.9279864, 0.9379519, 0.9055288, 0.88696754, 0.8623025, 0.91712874, 0.90328175, 0.89753485, 0.9235155, 0.87788427, 0.9340895, 0.8953519, 0.91486067, 0.89913094, 0.9180232, 0.91435206, 0.91121125, 0.8748154, 0.89695865, 0.93051326, 0.881844, 0.89455706, 0.92033935, 0.8727554, 0.88233125, 0.84775585, 0.9039527, 0.8166607, 0.86551285, 0.8926078, 0.90627426, 0.91319764, 0.87867886, 0.8825418, 0.90004355, 0.8747528, 0.8801249, 0.84722066, 0.82172024, 0.85836196, 0.80954415, 0.800795, 0.8419467, 0.8420734, 0.86277616, 0.88089657, 0.8886698, 0.8533973, 0.88029593, 0.8938006, 0.8154171, 0.85497916, 0.8725614, 0.88371414, 0.8537776, 0.84278685, 0.8147765, 0.82032347, 0.8563922, 0.83212644, 0.84033203, 0.8865235, 0.799892, 0.8444317, 0.8718266, 0.7955815, 0.8502285, 0.8134441, 0.8316831, 0.8474228, 0.8352442, 0.8661115, 0.84175396, 0.8373292, 0.8834805, 0.78944874, 0.80510354, 0.84464717, 0.8081738, 0.8509568, 0.8086682, 0.8209047, 0.8466426, 0.78600115, 0.7759953, 0.7875033, 0.8207716, 0.8195173, 0.81070703, 0.83479375, 0.78960973, 0.8466411, 0.8010305, 0.8071373, 0.8165642, 0.7973323, 0.8167554, 0.79134566, 0.8467136, 0.7623888, 0.7668035, 0.83622044, 0.8286523, 0.82684845, 0.8019483, 0.7765291, 0.81079084, 0.8255889, 0.8165576, 0.7931514, 0.77243143, 0.81538767, 0.7616216, 0.7820858, 0.80844283, 0.7972698, 0.75449073, 0.7807795, 0.7401558, 0.8045355, 0.76279885, 0.7985192, 0.80781573, 0.7328736, 0.801391, 0.77203614, 0.71612173, 0.7463951, 0.81319255, 0.75455904, 0.73055667, 0.7650609, 0.7665845, 0.7684506, 0.77513266, 0.7785531, 0.7688829, 0.75275296, 0.78673494, 0.78511935, 0.7780806, 0.7886314, 0.77386683, 0.7593762, 0.76084167, 0.78045857, 0.8272445, 0.76364535, 0.76072943, 0.75758064, 0.7637898, 0.77939993, 0.7705034, 0.7561452, 0.74352294, 0.7537622, 0.74384314, 0.75632584, 0.7562607, 0.7608113, 0.75253755, 0.7774121, 0.76098096, 0.71653056, 0.74034274, 0.7929444, 0.76332104, 0.7802674, 0.70992064, 0.70627886, 0.7560445, 0.76626056, 0.75032455, 0.7736787, 0.7411175, 0.76692164, 0.7460987, 0.75177246, 0.708163, 0.70820606, 0.6976229, 0.7155028, 0.72022146, 0.733814, 0.7349209, 0.6694964, 0.7332616, 0.69342124, 0.6893779, 0.73255354, 0.7488694, 0.75076663, 0.74310035, 0.6978421, 0.6830059, 0.70936996, 0.6955235, 0.71154934, 0.6545219, 0.7474175, 0.69270766, 0.7331063, 0.7407678, 0.7177447, 0.6954927, 0.7500192, 0.73790944, 0.714143, 0.68724436, 0.71528405, 0.69827473, 0.70133764, 0.70638144, 0.67935973, 0.7340099, 0.70512515]}\n"
     ]
    }
   ],
   "source": [
    "print( history_dict ) "
   ]
  },
  {
   "cell_type": "code",
   "execution_count": 662,
   "metadata": {},
   "outputs": [
    {
     "ename": "KeyError",
     "evalue": "'acc'",
     "output_type": "error",
     "traceback": [
      "\u001b[0;31m---------------------------------------------------------------------------\u001b[0m",
      "\u001b[0;31mKeyError\u001b[0m                                  Traceback (most recent call last)",
      "\u001b[0;32m<ipython-input-662-5817204bb8d9>\u001b[0m in \u001b[0;36m<module>\u001b[0;34m\u001b[0m\n\u001b[1;32m     15\u001b[0m \u001b[0;34m\u001b[0m\u001b[0m\n\u001b[1;32m     16\u001b[0m \u001b[0;34m\u001b[0m\u001b[0m\n\u001b[0;32m---> 17\u001b[0;31m \u001b[0macc\u001b[0m \u001b[0;34m=\u001b[0m \u001b[0mhistory\u001b[0m\u001b[0;34m.\u001b[0m\u001b[0mhistory\u001b[0m\u001b[0;34m[\u001b[0m\u001b[0;34m'acc'\u001b[0m \u001b[0;34m]\u001b[0m\u001b[0;34m\u001b[0m\u001b[0;34m\u001b[0m\u001b[0m\n\u001b[0m\u001b[1;32m     18\u001b[0m \u001b[0mval_acc\u001b[0m \u001b[0;34m=\u001b[0m \u001b[0mhistory\u001b[0m\u001b[0;34m.\u001b[0m\u001b[0mhistory\u001b[0m\u001b[0;34m[\u001b[0m\u001b[0;34m'val_acc'\u001b[0m \u001b[0;34m]\u001b[0m\u001b[0;34m\u001b[0m\u001b[0;34m\u001b[0m\u001b[0m\n\u001b[1;32m     19\u001b[0m \u001b[0;34m\u001b[0m\u001b[0m\n",
      "\u001b[0;31mKeyError\u001b[0m: 'acc'"
     ]
    },
    {
     "data": {
      "image/png": "[encoded data removed]",
      "text/plain": [
       "<Figure size 576x432 with 1 Axes>"
      ]
     },
     "metadata": {
      "needs_background": "light"
     },
     "output_type": "display_data"
    }
   ],
   "source": [
    "import matplotlib.pyplot as plt\n",
    "loss = history.history['loss' ] \n",
    "val_loss= history.history['val_loss' ] \n",
    "epochs = range( 1 , len(loss) + 1 ) \n",
    "\n",
    "plt.subplot(1,2,1)\n",
    "plt.plot( epochs , loss_values , 'bo' , label = 'Training loss' )\n",
    "plt.plot( epochs , val_loss_values , 'b' , label = 'Validation loss' ) \n",
    "plt.title( 'Training vs validation loss' ) \n",
    "plt.xlabel( 'Epochs' ) \n",
    "plt.ylabel( 'Loss' ) \n",
    "plt.legend() \n",
    "\n",
    "# Here we plot the training and validation accurary side by side.\n",
    "\n",
    "\n",
    "acc = history.history['acc' ] \n",
    "val_acc = history.history['val_acc' ]\n",
    "\n",
    "\n",
    "epochs = range( 1 , len(loss_values) + 1 ) \n",
    "\n",
    "plt.subplot(1,2,2)\n",
    "plt.plot( epochs , acc_values , 'bo' , label = 'Training acc' )\n",
    "plt.plot( epochs , val_acc_values , 'b' , label = 'Validation acc' ) \n",
    "plt.title( 'Training vs validation acc' ) \n",
    "plt.xlabel( 'Epochs' ) \n",
    "plt.ylabel( 'acc' ) \n",
    "plt.legend() \n",
    "\n",
    "plt.show()\n"
   ]
  },
  {
   "cell_type": "markdown",
   "metadata": {},
   "source": [
    "## Ch 9. Conclusion<a name=\"Ch9\"></a>"
   ]
  },
  {
   "cell_type": "markdown",
   "metadata": {},
   "source": [
    "### Key concepts<a name=\"KeyConcepts\"></a>\n",
    "Don't overlook this, as people may ask some high level questions regarding this. ----Wei Ge"
   ]
  },
  {
   "cell_type": "markdown",
   "metadata": {},
   "source": [
    "### The limitations of deep learning<a name=\"Limitation\"></a>\n",
    "Do not confuse this with the limitation of ML. You should definitly come back to here later"
   ]
  },
  {
   "cell_type": "markdown",
   "metadata": {},
   "source": [
    "### The future of deep learning<a name=\"Future\"></a>\n",
    "Do not confuse this with the limitation of ML. You should definitly come back to here later"
   ]
  },
  {
   "cell_type": "markdown",
   "metadata": {},
   "source": [
    "#### Models as programs <a name = 'model_as_programs'></a>"
   ]
  },
  {
   "cell_type": "markdown",
   "metadata": {},
   "source": [
    "#### Beyond backpropagation and differentiable layers <a name = 'Beyond'></a>"
   ]
  },
  {
   "cell_type": "markdown",
   "metadata": {},
   "source": [
    "#### Automated machine learning <a name = 'autoML'></a>\n",
    "1. There are TWO parts in ML\n",
    "    1. data munging\n",
    "    2. Structure munging\n",
    "2. The first one is hard to automated, as it needs higher level knowledges, while the second is easier, simply do the searching\n",
    "3. It is common to use **AutoML** system to do the **hyperparameter** space tuning.\n",
    "4. **Hyperopt** can be used to tune the most basic things, such as the number of layers, nodes etc. See Ch 7.\n",
    "5. Another important AutoML direction involves learning model architecture jointly with model weights.\n",
    "6. a truly powerful AutoML system would evolve architectures at the same time the features of the model were being tuned via backpropagation on the training data."
   ]
  },
  {
   "cell_type": "markdown",
   "metadata": {},
   "source": [
    "#### Lifelong learning and modular subroutine reuse <a name = 'Lifelong'></a>"
   ]
  },
  {
   "cell_type": "markdown",
   "metadata": {},
   "source": [
    "#### The long term vision <a name = 'Long_term'></a>"
   ]
  },
  {
   "cell_type": "markdown",
   "metadata": {},
   "source": [
    "### How to stay up to date? <a name = 'StayUpToDate' ></a>\n",
    "Essentially, practice with Kaggle, and read arXiv. And use arXiv Sanity Preserver (http://arxiv-sanity.com) serves as a recommendation engine for new papers and can help you keep track of new develop- ments within a specific narrow vertical of deep learning. \n",
    "\n",
    "\n"
   ]
  },
  {
   "cell_type": "markdown",
   "metadata": {},
   "source": [
    "## Ch 10. Some practices with Python<a name=\"Ch10\"></a>"
   ]
  },
  {
   "cell_type": "markdown",
   "metadata": {},
   "source": [
    "### Practices from Ch2: Tensor operation <a name = \"practiceCh2\"></a>"
   ]
  },
  {
   "cell_type": "code",
   "execution_count": 308,
   "metadata": {},
   "outputs": [],
   "source": [
    "from keras.datasets import mnist\n",
    "import matplotlib.pyplot as plt\n",
    "(train_images , train_labels) , (test_images , test_labels) = mnist.load_data() \n",
    "\n",
    "\n",
    "batch1 = train_images[:128]\n",
    "batch2 = train_images[128 : 256]\n",
    "# print( batch1 )\n",
    "# print( batch2 )\n"
   ]
  },
  {
   "cell_type": "code",
   "execution_count": 309,
   "metadata": {},
   "outputs": [
    {
     "name": "stdout",
     "output_type": "stream",
     "text": [
      "[[0. 0. 0.]\n",
      " [0. 0. 0.]]\n",
      "\n",
      "[[0. 0. 0.]\n",
      " [0. 0. 0.]]\n"
     ]
    }
   ],
   "source": [
    "# relu(x) = max(x,0) which are element wise\n",
    "def my_relu(x):\n",
    "    assert len(x.shape) == 2\n",
    "    x = x.copy() # to avoid overwringt the input tensor\n",
    "    for i in range(x.shape[0]):\n",
    "        for j in range(x.shape[1]):\n",
    "            x[i,j]=max(x[i,j],0)\n",
    "    return x\n",
    "\n",
    "def my_add(x,y):\n",
    "    assert len(x.shape) == 2\n",
    "    assert x.shape == y.shape\n",
    "    x = x.copy()\n",
    "    y = y.copy()    \n",
    "    for i in range(x.shape[0]):\n",
    "        for j in range(x.shape[1]):\n",
    "            x[i,j] +=  y[i,j]\n",
    "    return x\n",
    "\n",
    "from numpy.random import rand\n",
    "import numpy as np\n",
    "\n",
    "\n",
    "x = rand(2,3)\n",
    "y = rand(2,3)\n",
    "\n",
    "print( my_relu(x)  - np.maximum(x,0) ) \n",
    "\n",
    "\n",
    "print()\n",
    "print( my_add(x,y) - (x+y) ) "
   ]
  },
  {
   "cell_type": "code",
   "execution_count": 305,
   "metadata": {},
   "outputs": [
    {
     "name": "stdout",
     "output_type": "stream",
     "text": [
      "[[0.70676923 0.88308022 0.78647804]\n",
      " [0.86417064 0.63928508 0.69393197]]\n",
      "[0.00141908 0.10005543 0.56853702]\n",
      "[[0. 0. 0.]\n",
      " [0. 0. 0.]]\n"
     ]
    }
   ],
   "source": [
    "### Brocasting: Adding vector to matrix \n",
    "\n",
    "def my_add_matrix_vec(x,y):\n",
    "    assert len(x.shape) == 2 \n",
    "    assert len(y.shape) == 1\n",
    "    assert x.shape[1] == y.shape[0]\n",
    "    x = x.copy()\n",
    "    for i in range(x.shape[0]):\n",
    "        for j in range(x.shape[1]):\n",
    "            x[i,j] += y[j]\n",
    "    return x\n",
    "\n",
    "x = rand(2,3)\n",
    "y = rand(3)\n",
    "print( x )\n",
    "print( y )\n",
    "print( x+y - ( my_add_matrix_vec(x,y) ) )"
   ]
  },
  {
   "cell_type": "code",
   "execution_count": 306,
   "metadata": {},
   "outputs": [
    {
     "name": "stdout",
     "output_type": "stream",
     "text": [
      "[[0. 0. 0. 0. 0.]\n",
      " [0. 0. 0. 0. 0.]]\n",
      "[0.80334389 0.97725329 0.91657235]\n",
      "[0.80334389 0.97725329 0.91657235]\n",
      "[[0.70596093 0.28653512 0.81556951]\n",
      " [0.80334389 0.97725329 0.91657235]]\n"
     ]
    }
   ],
   "source": [
    "### Tensor dot\n",
    "\n",
    "x = rand(2,3) \n",
    "y = rand(3,5)\n",
    "\n",
    "def my_tensor_product( x , y ):\n",
    "    assert x.shape[1] == y.shape[0]\n",
    "    z = np.zeros( ( x.shape[0] , y.shape[1] ) ) \n",
    "    for i in range(x.shape[0]):\n",
    "        for k in range(x.shape[1]):\n",
    "            for j in range(y.shape[1]):\n",
    "                z[i,j] += x[i,k] * y[k,j]                \n",
    "    return z\n",
    "\n",
    "print( np.dot(x,y) - my_tensor_product(x,y) )\n",
    "print( x[1])\n",
    "print( x[1,])\n",
    "print( x )"
   ]
  },
  {
   "cell_type": "code",
   "execution_count": 307,
   "metadata": {},
   "outputs": [
    {
     "name": "stdout",
     "output_type": "stream",
     "text": [
      "(2, 3)\n",
      "[[0]\n",
      " [1]\n",
      " [3]\n",
      " [2]\n",
      " [3]\n",
      " [4]]\n",
      "[[0 1]\n",
      " [3 2]\n",
      " [3 4]]\n"
     ]
    }
   ],
   "source": [
    "### Tensor reshape\n",
    "\n",
    "x = np.array( [ [0,1,3] , [2,3,4] ] ) \n",
    "print(x.shape)\n",
    "y = x.reshape( (6,1) ) \n",
    "print(y)\n",
    "\n",
    "y = x.reshape( (3,2) ) \n",
    "print(y)\n"
   ]
  },
  {
   "cell_type": "code",
   "execution_count": 383,
   "metadata": {},
   "outputs": [
    {
     "name": "stdout",
     "output_type": "stream",
     "text": [
      "[[[9.98797194e-01 8.24733348e-01 1.81927917e-01 1.50327466e-01]\n",
      "  [1.75653877e-01 3.34324942e-01 3.70123830e-01 7.61896598e-01]\n",
      "  [9.04093608e-01 1.69391072e-01 6.59808492e-01 5.97735856e-01]]\n",
      "\n",
      " [[5.73105840e-04 9.67918859e-01 9.80781226e-01 9.76237624e-01]\n",
      "  [9.48356176e-01 5.29111571e-01 6.86531476e-01 1.67380610e-02]\n",
      "  [2.04144808e-01 1.85408216e-01 8.76740103e-01 4.72942284e-01]]]\n",
      "[[0.49968515 0.8963261  0.58135457 0.56328255]\n",
      " [0.56200503 0.43171826 0.52832765 0.38931733]\n",
      " [0.55411921 0.17739964 0.7682743  0.53533907]]\n",
      "[[0.69284823 0.44281645 0.40395341 0.50331997]\n",
      " [0.38435803 0.56081288 0.8480176  0.48863932]]\n",
      "[[0.53894648 0.41049981 0.58275726]\n",
      " [0.7313777  0.54518432 0.43480885]]\n"
     ]
    }
   ],
   "source": [
    "# mean and std of arrays\n",
    "a = rand(2,3,4)\n",
    "print(a)\n",
    "print( a.mean(axis=0) )\n",
    "print( a.mean(axis=1) )\n",
    "print( a.mean(axis=2) )"
   ]
  },
  {
   "cell_type": "markdown",
   "metadata": {},
   "source": [
    "### Practices from Ch3: List and array <a name = \"practiceCh3\"></a>"
   ]
  },
  {
   "cell_type": "code",
   "execution_count": null,
   "metadata": {},
   "outputs": [],
   "source": [
    "# List and array "
   ]
  },
  {
   "cell_type": "markdown",
   "metadata": {},
   "source": [
    "### Practices from Ch4: Random stuff <a name = \"practiceCh4\"></a>"
   ]
  },
  {
   "cell_type": "code",
   "execution_count": 397,
   "metadata": {},
   "outputs": [
    {
     "name": "stdout",
     "output_type": "stream",
     "text": [
      "[[0 0 1 0]\n",
      " [1 0 0 0]\n",
      " [0 0 1 1]]\n"
     ]
    }
   ],
   "source": [
    "print( np.random.randint( 0 , 2 , (3,4) )  ) "
   ]
  },
  {
   "cell_type": "markdown",
   "metadata": {},
   "source": [
    "### Practices from Ch5: Python generators <a name = \"practiceCh5\"></a>\n",
    "\n",
    "Python generator essentially acts as an iterator, which you can use it with the for...in operator. It is built with **yield** operator"
   ]
  },
  {
   "cell_type": "code",
   "execution_count": 342,
   "metadata": {},
   "outputs": [
    {
     "name": "stdout",
     "output_type": "stream",
     "text": [
      "0\n",
      "1\n",
      "inside generator\n",
      "1\n",
      "1\n",
      "2\n",
      "inside generator\n",
      "2\n",
      "2\n",
      "3\n",
      "inside generator\n",
      "3\n",
      "3\n",
      "4\n",
      "inside generator\n",
      "4\n",
      "4\n",
      "5\n",
      "inside generator\n",
      "5\n"
     ]
    }
   ],
   "source": [
    "def generator():\n",
    "    i = 0 \n",
    "    while True:\n",
    "        print(i) \n",
    "        i += 1\n",
    "        print(i) \n",
    "        print( 'inside generator' ) \n",
    "        yield i\n",
    "        \n",
    "for item in generator():\n",
    "    print(item)\n",
    "    if item>4:\n",
    "        break"
   ]
  },
  {
   "cell_type": "markdown",
   "metadata": {},
   "source": [
    "Dont know what the hell the above is doing, let's try this. In particular, the While True thing is really confusing. It is an infinite loop, that was interrupted by the yield thing. See the last example. \n",
    "\n",
    "The yield statement suspends function’s execution and sends a value back to caller, **but retains enough state to enable function to resume where it is left off.** When resumed, the function continues execution immediately after the last yield run. This allows its code to produce a series of values over time, rather them computing them at once and sending them back like a list.\n",
    "\n",
    "Let’s see with an example:"
   ]
  },
  {
   "cell_type": "code",
   "execution_count": 346,
   "metadata": {},
   "outputs": [
    {
     "name": "stdout",
     "output_type": "stream",
     "text": [
      "1\n",
      "2\n",
      "3\n"
     ]
    }
   ],
   "source": [
    "\n",
    "\n",
    "# A Simple Python program to demonstrate working \n",
    "# of yield \n",
    "  \n",
    "# A generator function that yields 1 for first time, \n",
    "# 2 second time and 3 third time \n",
    "def simpleGeneratorFun(): \n",
    "    yield 1\n",
    "    yield 2\n",
    "    yield 3  \n",
    "\n",
    "# Driver code to check above generator function \n",
    "for value in simpleGeneratorFun():  \n",
    "    print(value) \n",
    "    "
   ]
  },
  {
   "cell_type": "markdown",
   "metadata": {},
   "source": [
    "Return sends a specified value back to its caller whereas Yield can produce a sequence of values. **We should use yield when we want to iterate over a sequence, but don’t want to store the entire sequence in memory.**\n",
    "\n",
    "Yield are used in Python generators. A generator function is defined like a normal function, but whenever it needs to generate a value, it does so with the yield keyword rather than return. If the body of a def contains yield, the function automatically becomes a generator function."
   ]
  },
  {
   "cell_type": "code",
   "execution_count": 347,
   "metadata": {},
   "outputs": [
    {
     "name": "stdout",
     "output_type": "stream",
     "text": [
      "1\n",
      "4\n",
      "9\n",
      "16\n",
      "25\n",
      "36\n",
      "49\n",
      "64\n",
      "81\n",
      "100\n"
     ]
    }
   ],
   "source": [
    "\n",
    "# A Python program to generate squares from 1 \n",
    "# to 100 using yield and therefore generator \n",
    "  \n",
    "# An infinite generator function that prints \n",
    "# next square number. It starts with 1 \n",
    "def nextSquare(): \n",
    "    i = 1; \n",
    "  \n",
    "    # An Infinite loop to generate squares  \n",
    "    while True: \n",
    "        yield i*i                 \n",
    "        i += 1  # Next execution resumes  \n",
    "                # from this point      \n",
    "            \n",
    "# Driver code to test above generator function \n",
    "for num in nextSquare(): \n",
    "    if num > 100: \n",
    "         break    \n",
    "    print(num) "
   ]
  },
  {
   "cell_type": "code",
   "execution_count": null,
   "metadata": {},
   "outputs": [],
   "source": [
    "### Practices from Ch5: Python generators <a name = \"practiceCh5\"></a>"
   ]
  },
  {
   "cell_type": "code",
   "execution_count": null,
   "metadata": {},
   "outputs": [],
   "source": [
    "random = [5, 9, 'cat']\n",
    "\n",
    "# converting list to iterator\n",
    "randomIterator = iter(random)\n",
    "print(randomIterator)\n",
    "\n",
    "# Output: 5\n",
    "print(next(randomIterator))\n",
    "\n",
    "# Output: 9\n",
    "print(next(randomIterator))\n",
    "\n",
    "# Output: 'cat'\n",
    "print(next(randomIterator))\n",
    "\n",
    "# This will raise Error\n",
    "# iterator is exhausted\n",
    "print(next(randomIterator))"
   ]
  },
  {
   "cell_type": "code",
   "execution_count": 601,
   "metadata": {},
   "outputs": [
    {
     "name": "stdout",
     "output_type": "stream",
     "text": [
      "[[[ 0.00000000e+00  0.00000000e+00  3.23663436e-01 ...  0.00000000e+00\n",
      "    0.00000000e+00  0.00000000e+00]\n",
      "  [ 0.00000000e+00  0.00000000e+00  8.97078789e-02 ...  6.42787610e-01\n",
      "    0.00000000e+00  0.00000000e+00]\n",
      "  [ 0.00000000e+00  0.00000000e+00 -5.02688387e-01 ...  9.84807753e-01\n",
      "    0.00000000e+00  0.00000000e+00]\n",
      "  ...\n",
      "  [ 0.00000000e+00  0.00000000e+00 -5.02688387e-01 ... -9.84807753e-01\n",
      "    0.00000000e+00  0.00000000e+00]\n",
      "  [ 0.00000000e+00  0.00000000e+00  8.97078789e-02 ... -6.42787610e-01\n",
      "    0.00000000e+00  0.00000000e+00]\n",
      "  [ 0.00000000e+00  0.00000000e+00  3.23663436e-01 ... -2.44929360e-16\n",
      "    0.00000000e+00  0.00000000e+00]]\n",
      "\n",
      " [[ 0.00000000e+00  0.00000000e+00  3.23663436e-01 ...  0.00000000e+00\n",
      "    0.00000000e+00  0.00000000e+00]\n",
      "  [ 0.00000000e+00  0.00000000e+00  8.97078789e-02 ...  6.42787610e-01\n",
      "    0.00000000e+00  0.00000000e+00]\n",
      "  [ 0.00000000e+00  0.00000000e+00 -5.02688387e-01 ...  9.84807753e-01\n",
      "    0.00000000e+00  0.00000000e+00]\n",
      "  ...\n",
      "  [ 0.00000000e+00  0.00000000e+00 -5.02688387e-01 ... -9.84807753e-01\n",
      "    0.00000000e+00  0.00000000e+00]\n",
      "  [ 0.00000000e+00  0.00000000e+00  8.97078789e-02 ... -6.42787610e-01\n",
      "    0.00000000e+00  0.00000000e+00]\n",
      "  [ 0.00000000e+00  0.00000000e+00  3.23663436e-01 ... -2.44929360e-16\n",
      "    0.00000000e+00  0.00000000e+00]]\n",
      "\n",
      " [[ 0.00000000e+00  0.00000000e+00  3.23663436e-01 ...  0.00000000e+00\n",
      "    0.00000000e+00  0.00000000e+00]\n",
      "  [ 0.00000000e+00  0.00000000e+00  8.97078789e-02 ...  6.42787610e-01\n",
      "    0.00000000e+00  0.00000000e+00]\n",
      "  [ 0.00000000e+00  0.00000000e+00 -5.02688387e-01 ...  9.84807753e-01\n",
      "    0.00000000e+00  0.00000000e+00]\n",
      "  ...\n",
      "  [ 0.00000000e+00  0.00000000e+00 -5.02688387e-01 ... -9.84807753e-01\n",
      "    0.00000000e+00  0.00000000e+00]\n",
      "  [ 0.00000000e+00  0.00000000e+00  8.97078789e-02 ... -6.42787610e-01\n",
      "    0.00000000e+00  0.00000000e+00]\n",
      "  [ 0.00000000e+00  0.00000000e+00  3.23663436e-01 ... -2.44929360e-16\n",
      "    0.00000000e+00  0.00000000e+00]]\n",
      "\n",
      " ...\n",
      "\n",
      " [[ 0.00000000e+00  0.00000000e+00  3.23663436e-01 ...  0.00000000e+00\n",
      "    0.00000000e+00  0.00000000e+00]\n",
      "  [ 0.00000000e+00  0.00000000e+00  8.97078789e-02 ...  6.42787610e-01\n",
      "    0.00000000e+00  0.00000000e+00]\n",
      "  [ 0.00000000e+00  0.00000000e+00 -5.02688387e-01 ...  9.84807753e-01\n",
      "    0.00000000e+00  0.00000000e+00]\n",
      "  ...\n",
      "  [ 0.00000000e+00  0.00000000e+00 -5.02688387e-01 ... -9.84807753e-01\n",
      "    0.00000000e+00  0.00000000e+00]\n",
      "  [ 0.00000000e+00  0.00000000e+00  8.97078789e-02 ... -6.42787610e-01\n",
      "    0.00000000e+00  0.00000000e+00]\n",
      "  [ 0.00000000e+00  0.00000000e+00  3.23663436e-01 ... -2.44929360e-16\n",
      "    0.00000000e+00  0.00000000e+00]]\n",
      "\n",
      " [[ 0.00000000e+00  0.00000000e+00  3.23663436e-01 ...  0.00000000e+00\n",
      "    0.00000000e+00  0.00000000e+00]\n",
      "  [ 0.00000000e+00  0.00000000e+00  8.97078789e-02 ...  6.42787610e-01\n",
      "    0.00000000e+00  0.00000000e+00]\n",
      "  [ 0.00000000e+00  0.00000000e+00 -5.02688387e-01 ...  9.84807753e-01\n",
      "    0.00000000e+00  0.00000000e+00]\n",
      "  ...\n",
      "  [ 0.00000000e+00  0.00000000e+00 -5.02688387e-01 ... -9.84807753e-01\n",
      "    0.00000000e+00  0.00000000e+00]\n",
      "  [ 0.00000000e+00  0.00000000e+00  8.97078789e-02 ... -6.42787610e-01\n",
      "    0.00000000e+00  0.00000000e+00]\n",
      "  [ 0.00000000e+00  0.00000000e+00  3.23663436e-01 ... -2.44929360e-16\n",
      "    0.00000000e+00  0.00000000e+00]]\n",
      "\n",
      " [[ 0.00000000e+00  0.00000000e+00  3.23663436e-01 ...  0.00000000e+00\n",
      "    0.00000000e+00  0.00000000e+00]\n",
      "  [ 0.00000000e+00  0.00000000e+00  8.97078789e-02 ...  6.42787610e-01\n",
      "    0.00000000e+00  0.00000000e+00]\n",
      "  [ 0.00000000e+00  0.00000000e+00 -5.02688387e-01 ...  9.84807753e-01\n",
      "    0.00000000e+00  0.00000000e+00]\n",
      "  ...\n",
      "  [ 0.00000000e+00  0.00000000e+00 -5.02688387e-01 ... -9.84807753e-01\n",
      "    0.00000000e+00  0.00000000e+00]\n",
      "  [ 0.00000000e+00  0.00000000e+00  8.97078789e-02 ... -6.42787610e-01\n",
      "    0.00000000e+00  0.00000000e+00]\n",
      "  [ 0.00000000e+00  0.00000000e+00  3.23663436e-01 ... -2.44929360e-16\n",
      "    0.00000000e+00  0.00000000e+00]]] 0\n"
     ]
    }
   ],
   "source": [
    "def quadmodel_generator(N=32):\n",
    "    g1 = -np.kron([[0, -1j], [1j, 0]], [[0, 1], [1, 0]])\n",
    "    g2 = -np.kron([[0, -1j], [1j, 0]], [[0, -1j], [1j, 0]])\n",
    "    g3 = -np.kron([[0, -1j], [1j, 0]], [[1, 0], [0, -1]])\n",
    "    g4 = np.kron([[0, 1], [1, 0]], np.eye(2))\n",
    "    kr = np.linspace(0, 2 * np.pi, N)\n",
    "    kx, ky = np.meshgrid(kr, kr) # row corresponds to y, column corresponds to x\n",
    "    while True:\n",
    "        coef = np.random.uniform(-1.5, 1.5, 2) # coupling lx, ly between [-2, 2]\n",
    "        h = (np.kron((coef[0] + np.cos(kx)), g4.flatten()) + np.kron(np.sin(kx), g3.flatten()) + \n",
    "             np.kron((coef[1] + np.cos(ky)), g2.flatten()) + np.kron(np.sin(ky), g1.flatten())).reshape((N, N, 16))\n",
    "        hr, hi = np.real(h), np.imag(h)\n",
    "        h_tot = np.concatenate((hr, hi), axis = 2) # h_tot has dimension (dim_kx, dim_ky, 16*2)    \n",
    "        if abs(coef[0]) < 1 and abs(coef[1]) < 1:\n",
    "            q = 1\n",
    "        else:\n",
    "            q = 0\n",
    "        yield h_tot, q\n",
    "gen_ex = quadmodel_generator(N=10)\n",
    "h, q = next(gen_ex)\n",
    "# h, q = quadmodel_generator( N = 100 ) # This is WRONG\n",
    "print( h, q ) "
   ]
  },
  {
   "cell_type": "markdown",
   "metadata": {},
   "source": [
    "# Let's give a BAD example that to illustrate that we should NEVER use python generator, in particular if you want to generate sth that is RANDOM iteratively"
   ]
  },
  {
   "cell_type": "code",
   "execution_count": 1,
   "metadata": {},
   "outputs": [],
   "source": [
    "from numpy.random import rand\n",
    "def a(num):\n",
    "    ranNum = rand(1,num)\n",
    "    mean = randNum.mean()\n",
    "    "
   ]
  },
  {
   "cell_type": "code",
   "execution_count": 8,
   "metadata": {},
   "outputs": [
    {
     "name": "stdout",
     "output_type": "stream",
     "text": [
      "[[0.59407452 0.78586037 0.50499112 0.10694276 0.98260703 0.82862644\n",
      "  0.09221045 0.48281331 0.2994317  0.37811933]]\n",
      "0.505567702655424\n",
      "0.2841390880823435\n"
     ]
    }
   ],
   "source": [
    "aa=rand(1,10)\n",
    "print(aa)\n",
    "print( aa.mean() )\n",
    "print( aa.std() )"
   ]
  },
  {
   "cell_type": "markdown",
   "metadata": {},
   "source": [
    "### Practicse from project: Read data from text file<a name = 'practice_project'></a>"
   ]
  },
  {
   "cell_type": "code",
   "execution_count": 596,
   "metadata": {},
   "outputs": [
    {
     "name": "stdout",
     "output_type": "stream",
     "text": [
      "[ 0.95687    0.96216   -0.005363   0.96002    0.95766    0.98592\n",
      "  0.96729    0.9692     0.9831     0.92667    0.96243    0.97665\n",
      "  0.011367   0.98852    0.95285    0.98762    0.90987   -0.97751\n",
      "  0.95089    0.97094    0.95676    0.96191    0.022448   0.97785\n",
      " -0.004487   0.95255   -0.98735    0.97292    0.9699     0.96305\n",
      " -0.0042447  0.98577    0.9466     0.95806    0.97409    0.96378\n",
      " -0.96489    0.98984    0.96559    0.99179    0.95495    0.01626\n",
      "  0.94534    0.0036222 -0.0079214  0.93339   -0.004023   0.98064\n",
      "  0.003581   0.97424   -0.98605   -0.96047   -0.0045673 -0.95997\n",
      "  0.97761    0.96271   -0.98335    0.94304   -0.96966    0.97065\n",
      "  0.94207    0.96031    0.061725   0.97656    0.96222    0.95971\n",
      "  0.97743    0.95592    0.96622    0.96623    0.95721    0.95809\n",
      "  0.9758     0.95691    0.96286   -0.022124   0.97745    0.94884\n",
      " -0.0029064  0.96718    0.94915    0.97345    0.97412    0.96505\n",
      " -0.9709     0.94477    0.90363    0.97192    0.96708    0.028694\n",
      "  0.95525    0.94927    0.93634    0.96303    0.97194   -0.057264\n",
      "  0.97022    0.93336    0.97185    0.95361  ]\n",
      "(100,)\n",
      "float64\n",
      "(100, 32, 32, 32)\n",
      "[[[-3.6234e-01 -4.2673e-17 -1.9985e+00 ...  3.5827e-16  4.2419e-01\n",
      "    0.0000e+00]\n",
      "  [-3.8924e-01 -1.6392e-02 -2.0292e+00 ...  1.9509e-01  4.1876e-01\n",
      "    0.0000e+00]\n",
      "  [-4.0579e-01 -3.2154e-02 -2.0162e+00 ...  3.8268e-01  4.0267e-01\n",
      "    0.0000e+00]\n",
      "  ...\n",
      "  [-2.3166e-01  4.6680e-02 -1.6640e+00 ... -5.5557e-01  3.7653e-01\n",
      "    0.0000e+00]\n",
      "  [-2.8200e-01  3.2154e-02 -1.8123e+00 ... -3.8268e-01  4.0267e-01\n",
      "    0.0000e+00]\n",
      "  [-3.2613e-01  1.6392e-02 -1.9253e+00 ... -1.9509e-01  4.1876e-01\n",
      "    0.0000e+00]]\n",
      "\n",
      " [[-3.7159e-01 -5.1588e-02 -1.9965e+00 ...  1.7026e-02  4.1876e-01\n",
      "    0.0000e+00]\n",
      "  [-3.9776e-01 -6.7979e-02 -2.0272e+00 ...  2.1223e-01  4.1354e-01\n",
      "    0.0000e+00]\n",
      "  [-4.1361e-01 -8.3741e-02 -2.0141e+00 ...  3.9994e-01  3.9765e-01\n",
      "    0.0000e+00]\n",
      "  ...\n",
      "  [-2.4300e-01 -4.9079e-03 -1.6620e+00 ... -5.3888e-01  3.7049e-01\n",
      "    0.0000e+00]\n",
      "  [-2.9270e-01 -1.9434e-02 -1.8103e+00 ... -3.6589e-01  3.9681e-01\n",
      "    0.0000e+00]\n",
      "  [-3.3612e-01 -3.5196e-02 -1.9232e+00 ... -1.7818e-01  4.1311e-01\n",
      "    0.0000e+00]]\n",
      "\n",
      " [[-3.7119e-01 -1.0119e-01 -1.9904e+00 ...  3.3398e-02  4.0267e-01\n",
      "    0.0000e+00]\n",
      "  [-3.9665e-01 -1.1758e-01 -2.0211e+00 ...  2.2872e-01  3.9765e-01\n",
      "    0.0000e+00]\n",
      "  [-4.1183e-01 -1.3335e-01 -2.0081e+00 ...  4.1653e-01  3.8196e-01\n",
      "    0.0000e+00]\n",
      "  ...\n",
      "  [-2.4460e-01 -5.4513e-02 -1.6559e+00 ... -5.2283e-01  3.5381e-01\n",
      "    0.0000e+00]\n",
      "  [-2.9367e-01 -6.9039e-02 -1.8042e+00 ... -3.4974e-01  3.8032e-01\n",
      "    0.0000e+00]\n",
      "  [-3.3642e-01 -8.4801e-02 -1.9172e+00 ... -1.6192e-01  3.9681e-01\n",
      "    0.0000e+00]]\n",
      "\n",
      " ...\n",
      "\n",
      " [[-2.8190e-01  1.4691e-01 -1.9805e+00 ... -4.8486e-02  3.7653e-01\n",
      "    0.0000e+00]\n",
      "  [-3.1088e-01  1.3052e-01 -2.0112e+00 ...  1.4627e-01  3.7049e-01\n",
      "    0.0000e+00]\n",
      "  [-3.2945e-01  1.1476e-01 -1.9982e+00 ...  3.3354e-01  3.5381e-01\n",
      "    0.0000e+00]\n",
      "  ...\n",
      "  [-1.4528e-01  1.9359e-01 -1.6460e+00 ... -6.0310e-01  3.3061e-01\n",
      "    0.0000e+00]\n",
      "  [-1.9747e-01  1.7906e-01 -1.7943e+00 ... -4.3051e-01  3.5620e-01\n",
      "    0.0000e+00]\n",
      "  [-2.4360e-01  1.6330e-01 -1.9073e+00 ... -2.4324e-01  3.7171e-01\n",
      "    0.0000e+00]]\n",
      "\n",
      " [[-3.1661e-01  1.0119e-01 -1.9904e+00 ... -3.3398e-02  4.0267e-01\n",
      "    0.0000e+00]\n",
      "  [-3.4495e-01  8.4801e-02 -2.0211e+00 ...  1.6146e-01  3.9681e-01\n",
      "    0.0000e+00]\n",
      "  [-3.6289e-01  6.9039e-02 -2.0081e+00 ...  3.4883e-01  3.8032e-01\n",
      "    0.0000e+00]\n",
      "  ...\n",
      "  [-1.8184e-01  1.4787e-01 -1.6559e+00 ... -5.8831e-01  3.5620e-01\n",
      "    0.0000e+00]\n",
      "  [-2.3346e-01  1.3335e-01 -1.8042e+00 ... -4.1563e-01  3.8196e-01\n",
      "    0.0000e+00]\n",
      "  [-2.7897e-01  1.1758e-01 -1.9172e+00 ... -2.2826e-01  3.9765e-01\n",
      "    0.0000e+00]]\n",
      "\n",
      " [[-3.4377e-01  5.1588e-02 -1.9965e+00 ... -1.7026e-02  4.1876e-01\n",
      "    0.0000e+00]\n",
      "  [-3.7140e-01  3.5196e-02 -2.0272e+00 ...  1.7795e-01  4.1311e-01\n",
      "    0.0000e+00]\n",
      "  [-3.8866e-01  1.9434e-02 -2.0141e+00 ...  3.6543e-01  3.9681e-01\n",
      "    0.0000e+00]\n",
      "  ...\n",
      "  [-2.1101e-01  9.8267e-02 -1.6620e+00 ... -5.7226e-01  3.7171e-01\n",
      "    0.0000e+00]\n",
      "  [-2.6200e-01  8.3741e-02 -1.8103e+00 ... -3.9948e-01  3.9765e-01\n",
      "    0.0000e+00]\n",
      "  [-3.0683e-01  6.7979e-02 -1.9232e+00 ... -2.1200e-01  4.1354e-01\n",
      "    0.0000e+00]]]\n"
     ]
    }
   ],
   "source": [
    "from numpy import array \n",
    "import re\n",
    "\n",
    "path = '/Users/MaoLin/Documents/LookingForJobs/Machine_Learning/' \n",
    "\n",
    "# Do the target thing first, that is easier\n",
    "f1 = path + 'test_target_1_smaller.txt'\n",
    "f1 = open( f1 , \"r\" ) \n",
    "f1_content = []\n",
    "\n",
    "for line in f1:\n",
    "    f1_content.append(float( line.strip('\\n')) )\n",
    "test_target = array( f1_content )     \n",
    "\n",
    "print(test_target)\n",
    "print(test_target.shape)\n",
    "print(test_target.dtype)\n",
    "\n",
    "\n",
    "# Now do the data\n",
    "\n",
    "f2 = path + 'test_data_1_smaller.txt'\n",
    "f2 = open( f2 , \"r\" ) \n",
    "Nkx = 32 \n",
    "Nky = 32\n",
    "test_data = np.zeros( ( len( test_target ) , Nkx , Nky , 32 ) ) \n",
    "ind = -1 \n",
    "\n",
    "for line in f2:\n",
    "    temp = line.strip( '\\n' )  # read each line as string\n",
    "    temp = re.split( ',' , temp )   # split the string to a list of char\n",
    "    temp = [float(i) for i in temp] # put every char in the list to num\n",
    "    temp = array( temp )  \n",
    "    \n",
    "    # now determine which slot we shall put this line of thing \n",
    "    ind += 1\n",
    "\n",
    "    aa = ind // ( 32*32 ) \n",
    "    ind2 = ind % ( 32*32 ) \n",
    "    bb = ind2 // 32\n",
    "    cc = ind2 % 32 \n",
    "#     print( ind , aa  , bb , cc ) \n",
    "    \n",
    "    test_data[ aa , bb , cc , : ] = temp\n",
    "    \n",
    "print( test_data.shape ) \n",
    "print( test_data[0] )\n",
    "\n",
    "# # To get ourselves some sense how the indexing work\n",
    "# a = 4\n",
    "# b = 2\n",
    "# c = 4\n",
    "# ind = 32 * 32 * a + 32 * b + c\n",
    "# aa = ind // (32*32 ) \n",
    "# print( aa ) \n",
    "# ind2 = ind % (32*32) \n",
    "# bb = ind2 // 32\n",
    "# print( bb ) \n",
    "# cc = ind2 % 32 \n",
    "# print( cc ) "
   ]
  },
  {
   "cell_type": "code",
   "execution_count": 594,
   "metadata": {},
   "outputs": [
    {
     "name": "stdout",
     "output_type": "stream",
     "text": [
      "[0. 0. 0. 0. 0. 0. 0. 0. 0. 0. 0. 0. 0. 0. 0. 0. 0. 0. 0. 0. 0. 0. 0. 0.\n",
      " 0. 0. 0. 0. 0. 0. 0. 0.]\n",
      "100\n"
     ]
    }
   ],
   "source": [
    "print( test_data[0,0,0,] )\n",
    "print( len( test_target ) ) "
   ]
  },
  {
   "cell_type": "code",
   "execution_count": 501,
   "metadata": {},
   "outputs": [
    {
     "name": "stdout",
     "output_type": "stream",
     "text": [
      "4\n",
      "2\n",
      "4\n"
     ]
    }
   ],
   "source": [
    "a = 4\n",
    "b = 2\n",
    "c = 4\n",
    "ind = 32 * 32 * a + 32 * b + c\n",
    "aa = ind // (32*32 ) \n",
    "print( aa ) \n",
    "ind2 = ind % (32*32) \n",
    "bb = ind2 // 32\n",
    "print( bb ) \n",
    "cc = ind2 % 32 \n",
    "print( cc ) \n"
   ]
  },
  {
   "cell_type": "code",
   "execution_count": 576,
   "metadata": {},
   "outputs": [
    {
     "name": "stdout",
     "output_type": "stream",
     "text": [
      "[[[0. 0. 0. 0.]\n",
      "  [0. 0. 0. 0.]\n",
      "  [0. 0. 0. 0.]]\n",
      "\n",
      " [[0. 0. 0. 0.]\n",
      "  [0. 0. 0. 0.]\n",
      "  [0. 0. 0. 0.]]]\n",
      "[0.52961625 0.91558402 0.67111505 0.31227922]\n",
      "[[[0.52961625 0.91558402 0.67111505 0.31227922]\n",
      "  [0.         0.         0.         0.        ]\n",
      "  [0.         0.         0.         0.        ]]\n",
      "\n",
      " [[0.         0.         0.         0.        ]\n",
      "  [0.         0.         0.         0.        ]\n",
      "  [0.         0.         0.         0.        ]]]\n"
     ]
    }
   ],
   "source": [
    "a = np.zeros( ( 2 , 3, 4 ) ) \n",
    "# a = rand( 2 , 3 , 4 ) \n",
    "b = rand( 4,1 ) \n",
    "b = np.transpose(b) \n",
    "print( a ) \n",
    "print( b[0] ) \n",
    "a[0,0,:] = b.flatten()\n",
    "print( a ) "
   ]
  },
  {
   "cell_type": "markdown",
   "metadata": {},
   "source": [
    "### Practicse from project: Plot something<a name = 'practice_project_2'></a>"
   ]
  },
  {
   "cell_type": "code",
   "execution_count": 602,
   "metadata": {},
   "outputs": [],
   "source": [
    "def plot_hamiltonian2(h, q):\n",
    "    dim_k = h.shape[0]\n",
    "    assert dim_k == h.shape[1]\n",
    "    assert h.shape[2] == 32\n",
    "    ham_32 = np.zeros((dim_k * 4, dim_k * 8))\n",
    "    for i in range(4):\n",
    "        for j in range(4):\n",
    "            ham_32[ i * dim_k : (i + 1) * dim_k , j * dim_k : (j + 1) * dim_k ] = h[ :, :, i * 4 + j ]\n",
    "    for i in range(4):\n",
    "        for j in range(4,8,1):\n",
    "            ham_32[ i * dim_k : (i + 1) * dim_k , j * dim_k : (j + 1) * dim_k ] = h[ :, :, (4-1)*4 + i * 4 + j ]        \n",
    "    plt.figure(figsize=(16, 8))\n",
    "#     plt.imshow(ham_32, cmap='viridis')\n",
    "    plt.imshow(ham_32, cmap='viridis', vmin=-2.5, vmax=2.5)\n",
    "    plt.title('q={}'.format(q))\n",
    "    plt.colorbar()  "
   ]
  },
  {
   "cell_type": "code",
   "execution_count": 603,
   "metadata": {},
   "outputs": [
    {
     "data": {
      "image/png": "[encoded data removed]",
      "text/plain": [
       "<Figure size 1152x576 with 2 Axes>"
      ]
     },
     "metadata": {
      "needs_background": "light"
     },
     "output_type": "display_data"
    },
    {
     "data": {
      "image/png": "[encoded data removed]",
      "text/plain": [
       "<Figure size 1152x576 with 2 Axes>"
      ]
     },
     "metadata": {
      "needs_background": "light"
     },
     "output_type": "display_data"
    }
   ],
   "source": [
    "import os\n",
    "import random\n",
    "import numpy as np\n",
    "import matplotlib.pyplot as plt\n",
    "import seaborn as sns\n",
    "import tensorflow as tf\n",
    "from tensorflow import keras\n",
    "from tensorflow.keras.models import Sequential, Model\n",
    "from tensorflow.keras.layers import Dense, Conv2D, Flatten\n",
    "%matplotlib inline\n",
    "plt.rcParams['figure.figsize'] = [8, 6]\n",
    "plt.rcParams['figure.titlesize'] = 24\n",
    "plt.rcParams['axes.labelsize'] = 18\n",
    "plt.rcParams['axes.titlesize'] = 20\n",
    "plt.rcParams['xtick.labelsize'] = 16\n",
    "plt.rcParams['ytick.labelsize'] = 16\n",
    "plt.rcParams['legend.fontsize'] = 16\n",
    "\n",
    "gen_ex = quadmodel_generator(N=100)\n",
    "\n",
    "while True:\n",
    "    h, q = next(gen_ex)\n",
    "    if q == 0:\n",
    "        plot_hamiltonian2(h, q)\n",
    "        while q != 1:\n",
    "            h, q = next(gen_ex)\n",
    "        plot_hamiltonian2(h, q)\n",
    "        break "
   ]
  },
  {
   "cell_type": "code",
   "execution_count": null,
   "metadata": {},
   "outputs": [],
   "source": [
    "def Ham_mirror( kx , ky ):\n",
    "    s1 = [[0, 1], [1, 0]]\n",
    "    s2 = [[0, -1j], [1j, 0]]\n",
    "    s3 = [[1, 0], [0, -1]]    \n",
    "    s = np.zeros( ( 2 , 2 , 3 ) ) \n",
    "    s[ : , : , 1 ] = s1 \n",
    "    s[ : , : , 2 ] = s2 \n",
    "    s[ : , : , 3 ] = s3     \n",
    "def quadmodel_generator(N=32):\n",
    "    g1 = -np.kron([[0, -1j], [1j, 0]], [[0, 1], [1, 0]])\n",
    "    g2 = -np.kron([[0, -1j], [1j, 0]], [[0, -1j], [1j, 0]])\n",
    "    g3 = -np.kron([[0, -1j], [1j, 0]], [[1, 0], [0, -1]])\n",
    "    g4 = np.kron([[0, 1], [1, 0]], np.eye(2))\n",
    "    kr = np.linspace(0, 2 * np.pi, N)\n",
    "    kx, ky = np.meshgrid(kr, kr) # row corresponds to y, column corresponds to x\n",
    "    while True:\n",
    "        coef = np.random.uniform(-1.5, 1.5, 2) # coupling lx, ly between [-2, 2]\n",
    "        h = (np.kron((coef[0] + np.cos(kx)), g4.flatten()) + np.kron(np.sin(kx), g3.flatten()) + \n",
    "             np.kron((coef[1] + np.cos(ky)), g2.flatten()) + np.kron(np.sin(ky), g1.flatten())).reshape((N, N, 16))\n",
    "        hr, hi = np.real(h), np.imag(h)\n",
    "        h_tot = np.concatenate((hr, hi), axis = 2) # h_tot has dimension (dim_kx, dim_ky, 16*2)    \n",
    "        if abs(coef[0]) < 1 and abs(coef[1]) < 1:\n",
    "            q = 1\n",
    "        else:\n",
    "            q = 0\n",
    "        yield h_tot, q\n",
    "gen_ex = quadmodel_generator(N=10)\n",
    "h, q = next(gen_ex)\n",
    "# h, q = quadmodel_generator( N = 100 ) # This is WRONG\n",
    "print( h, q ) "
   ]
  },
  {
   "cell_type": "code",
   "execution_count": 607,
   "metadata": {},
   "outputs": [
    {
     "ename": "TypeError",
     "evalue": "can't convert complex to float",
     "output_type": "error",
     "traceback": [
      "\u001b[0;31m---------------------------------------------------------------------------\u001b[0m",
      "\u001b[0;31mTypeError\u001b[0m                                 Traceback (most recent call last)",
      "\u001b[0;32m<ipython-input-607-6a9b035a07eb>\u001b[0m in \u001b[0;36m<module>\u001b[0;34m\u001b[0m\n\u001b[1;32m      4\u001b[0m \u001b[0ms\u001b[0m \u001b[0;34m=\u001b[0m \u001b[0mnp\u001b[0m\u001b[0;34m.\u001b[0m\u001b[0mzeros\u001b[0m\u001b[0;34m(\u001b[0m \u001b[0;34m(\u001b[0m \u001b[0;36m2\u001b[0m \u001b[0;34m,\u001b[0m \u001b[0;36m2\u001b[0m \u001b[0;34m,\u001b[0m \u001b[0;36m3\u001b[0m \u001b[0;34m)\u001b[0m \u001b[0;34m)\u001b[0m\u001b[0;34m\u001b[0m\u001b[0;34m\u001b[0m\u001b[0m\n\u001b[1;32m      5\u001b[0m \u001b[0ms\u001b[0m\u001b[0;34m[\u001b[0m \u001b[0;34m:\u001b[0m \u001b[0;34m,\u001b[0m \u001b[0;34m:\u001b[0m \u001b[0;34m,\u001b[0m \u001b[0;36m1\u001b[0m \u001b[0;34m]\u001b[0m \u001b[0;34m=\u001b[0m \u001b[0ms1\u001b[0m\u001b[0;34m\u001b[0m\u001b[0;34m\u001b[0m\u001b[0m\n\u001b[0;32m----> 6\u001b[0;31m \u001b[0ms\u001b[0m\u001b[0;34m[\u001b[0m \u001b[0;34m:\u001b[0m \u001b[0;34m,\u001b[0m \u001b[0;34m:\u001b[0m \u001b[0;34m,\u001b[0m \u001b[0;36m2\u001b[0m \u001b[0;34m]\u001b[0m \u001b[0;34m=\u001b[0m \u001b[0ms2\u001b[0m\u001b[0;34m\u001b[0m\u001b[0;34m\u001b[0m\u001b[0m\n\u001b[0m\u001b[1;32m      7\u001b[0m \u001b[0ms\u001b[0m\u001b[0;34m[\u001b[0m \u001b[0;34m:\u001b[0m \u001b[0;34m,\u001b[0m \u001b[0;34m:\u001b[0m \u001b[0;34m,\u001b[0m \u001b[0;36m3\u001b[0m \u001b[0;34m]\u001b[0m \u001b[0;34m=\u001b[0m \u001b[0ms3\u001b[0m\u001b[0;34m\u001b[0m\u001b[0;34m\u001b[0m\u001b[0m\n",
      "\u001b[0;31mTypeError\u001b[0m: can't convert complex to float"
     ]
    }
   ],
   "source": [
    "    s1 = [[0, 1], [1, 0]]\n",
    "    s2 = [[0, -1j], [1j, 0]]\n",
    "    s3 = [[1, 0], [0, -1]]    \n",
    "    s = np.zeros( ( 2 , 2 , 3 ) ) \n",
    "    s[ : , : , 1 ] = s1 \n",
    "    s[ : , : , 2 ] = s2 \n",
    "    s[ : , : , 3 ] = s3"
   ]
  },
  {
   "cell_type": "markdown",
   "metadata": {},
   "source": [
    "### Practicse from project: String manipulation<a name = 'string'></a>"
   ]
  },
  {
   "cell_type": "code",
   "execution_count": 12,
   "metadata": {},
   "outputs": [
    {
     "name": "stdout",
     "output_type": "stream",
     "text": [
      "a = 10.0\n",
      "<class 'str'>\n",
      "<class 'float'>\n"
     ]
    }
   ],
   "source": [
    "a = 10.0\n",
    "\n",
    "# Output \"a = 2\" for a given a\n",
    "a_str = 'a = ' + str(a)\n",
    "print( a_str ) \n",
    "print( type( a_str) )\n",
    "print( type(a))"
   ]
  },
  {
   "cell_type": "code",
   "execution_count": null,
   "metadata": {},
   "outputs": [],
   "source": []
  }
 ],
 "metadata": {
  "kernelspec": {
   "display_name": "Python 3",
   "language": "python",
   "name": "python3"
  },
  "language_info": {
   "codemirror_mode": {
    "name": "ipython",
    "version": 3
   },
   "file_extension": ".py",
   "mimetype": "text/x-python",
   "name": "python",
   "nbconvert_exporter": "python",
   "pygments_lexer": "ipython3",
   "version": "3.7.4"
  }
 },
 "nbformat": 4,
 "nbformat_minor": 2
}
